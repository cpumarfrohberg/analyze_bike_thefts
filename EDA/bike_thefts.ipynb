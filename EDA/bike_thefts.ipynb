{
 "cells": [
  {
   "attachments": {},
   "cell_type": "markdown",
   "metadata": {},
   "source": [
    "# Bike Thefts Berlin - EDA"
   ]
  },
  {
   "cell_type": "code",
   "execution_count": 1,
   "metadata": {},
   "outputs": [],
   "source": [
    "import pandas as pd\n",
    "import numpy as np\n",
    "import seaborn as sns\n",
    "import matplotlib.pyplot as plt\n",
    "\n",
    "import warnings\n",
    "warnings.filterwarnings('ignore')"
   ]
  },
  {
   "cell_type": "code",
   "execution_count": 2,
   "metadata": {},
   "outputs": [],
   "source": [
    "PATH = '../data'"
   ]
  },
  {
   "cell_type": "code",
   "execution_count": 3,
   "metadata": {},
   "outputs": [],
   "source": [
    "time_parseable = ['start_date_delict', 'end_date_delict', 'start_time_delict', 'end_time_delict']"
   ]
  },
  {
   "attachments": {},
   "cell_type": "markdown",
   "metadata": {},
   "source": [
    "## Prep data inspection"
   ]
  },
  {
   "cell_type": "code",
   "execution_count": 4,
   "metadata": {},
   "outputs": [],
   "source": [
    "class BikeThefts():\n",
    "    '''Read, inspect and transform initial data.'''\n",
    "\n",
    "    def __init__(self, path = PATH) -> None:\n",
    "        self.path = path\n",
    "\n",
    "    def read_data(self, file) -> pd.DataFrame:\n",
    "        '''Return DataFrame with feature matrix and labels as values.'''\n",
    "        df = pd.read_csv(f'{self.path}/{file}.csv', index_col=0, parse_dates=True, encoding = 'unicode_escape')\n",
    "        return df\n",
    "    \n",
    "    def check_unique(self, serie) -> pd.Series:\n",
    "        '''Return unique values of selected columns.'''\n",
    "        return serie.unique()\n",
    "\n",
    "    def include_timestamps(self, df) -> pd.DataFrame:\n",
    "        '''Return DataFrame with time-stamps.'''\n",
    "        df['hour'] = df.index.hour\n",
    "        df['day'] = df.index.day\n",
    "        df['week_day'] = df.index.weekday\n",
    "        df['week'] = df.index.week\n",
    "        df['year'] = df.index.year\n",
    "        df['month'] = df.index.month\n",
    "        return df\n",
    "\n",
    "    def time_parser(self, df, time_parsables) -> pd.DataFrame:\n",
    "        '''Parse columns encoded as strings to datetime-objects.'''\n",
    "        for col in time_parsables:\n",
    "            df[col] = pd.to_datetime(df[col])\n",
    "        return df\n",
    "\n",
    "    def crime_duration_days(self, df, start, end) -> pd.DataFrame: #use for plotting?\n",
    "        '''Calculate duration of crime in days.'''\n",
    "        df['crime_duration_days'] = end - start\n",
    "        return df\n",
    "    \n",
    "    def crime_duration_hours(self, df, start, end) -> pd.DataFrame: #use for plotting?\n",
    "        '''Calculate duration of crime in hours.'''\n",
    "        df['crime_duration_hours'] = abs(start - end)\n",
    "        return df\n",
    "    \n",
    "    def fill_ints(self, df) -> pd.DataFrame:\n",
    "        '''Reencode LOR into 8-digit values.'''\n",
    "        df['LOR'] = df['LOR'].apply(lambda x: str(x))\n",
    "        df['LOR'] = df['LOR'].apply(lambda x: f'0{(x)}'[-8:])\n",
    "        return df\n",
    "\n",
    "    def thefts_count(self, df, frequency) -> pd.DataFrame:\n",
    "        '''Calculate average thefts per time-frequency.'''\n",
    "        df_filled = pd.DataFrame(df.groupby(frequency).size(),\n",
    "                          columns=[f'{frequency}_thefts_count']).reset_index()\n",
    "        return df_filled\n",
    "    \n",
    "    def mean_thefts(self, df, frequency) -> pd.DataFrame:\n",
    "        '''Calculate average thefts per time-frequency.'''\n",
    "        df_filled = pd.DataFrame(df.groupby(frequency).mean(),\n",
    "                          columns=[f'{frequency}_average_thefts']).reset_index()\n",
    "        return df_filled\n",
    "      \n",
    "    def rename_cols(self, df) -> pd.DataFrame:\n",
    "        return df.rename(columns={ \n",
    "            'ANGELEGT_AM' : 'track_date',\n",
    "            'TATZEIT_ANFANG_DATUM' : 'start_date_delict',\n",
    "            'TATZEIT_ANFANG_STUNDE' : 'start_time_delict',\n",
    "            'TATZEIT_ENDE_DATUM' : 'end_date_delict',\n",
    "            'TATZEIT_ENDE_STUNDE' : 'end_time_delict',\n",
    "            'SCHADENSHOEHE' : 'damage_amount',\n",
    "            'VERSUCH' : 'intent_delict',\n",
    "            'ART_DES_FAHRRADS' : 'bike_type',\n",
    "            'DELIKT' : 'delict',\n",
    "            'ERFASSUNGSGRUND' : 'description'\n",
    "            })\n",
    "    \n",
    "    def save_intermediate_data(self, df, file: str):\n",
    "        '''Save extracted data locally as csv-file.'''\n",
    "        return df.to_csv(f'{self.path}/{file}.csv')\n",
    "\n",
    "    def save_LOR_bike_thefts(self, df, group_by: str, col_names: str, file: str):\n",
    "        '''Save extracted LOR-bike thefts-data locally as csv-file.'''\n",
    "        bike_thefts_LOR = pd.DataFrame(df.groupby(group_by).size(),\n",
    "                        columns = [col_names]).reset_index()\n",
    "        return bike_thefts_LOR.to_csv(f'{self.path}/{file}.csv')"
   ]
  },
  {
   "cell_type": "code",
   "execution_count": 5,
   "metadata": {},
   "outputs": [],
   "source": [
    "class PlotBikeThefts():\n",
    "    '''Plot data with seaborn.'''\n",
    "\n",
    "    def plot_categoricals(self, df, ordinate) -> sns:\n",
    "            return sns.catplot(\n",
    "            data=df, y=ordinate, kind=\"count\",\n",
    "            palette=\"pastel\", edgecolor=\".6\",\n",
    "        )\n",
    "\n",
    "    def plot_correlations(self, df) -> sns:\n",
    "        corr = df.corr()\n",
    "        mask = np.triu(np.ones_like(corr, dtype=bool))\n",
    "        f, ax = plt.subplots(figsize=(8, 6))\n",
    "        plt.xticks(rotation=45)\n",
    "        cmap = sns.diverging_palette(230, 20, as_cmap=True)\n",
    "        return sns.heatmap(corr, mask=mask, cmap=cmap, vmax=.3, center=0,\n",
    "                    square=True, linewidths=.5, cbar_kws={\"shrink\": .5})\n",
    "    "
   ]
  },
  {
   "cell_type": "markdown",
   "metadata": {},
   "source": [
    "## Inspect"
   ]
  },
  {
   "cell_type": "code",
   "execution_count": 6,
   "metadata": {},
   "outputs": [],
   "source": [
    "bike_thefts = BikeThefts()"
   ]
  },
  {
   "cell_type": "code",
   "execution_count": 7,
   "metadata": {},
   "outputs": [
    {
     "data": {
      "text/html": [
       "<div>\n",
       "<style scoped>\n",
       "    .dataframe tbody tr th:only-of-type {\n",
       "        vertical-align: middle;\n",
       "    }\n",
       "\n",
       "    .dataframe tbody tr th {\n",
       "        vertical-align: top;\n",
       "    }\n",
       "\n",
       "    .dataframe thead th {\n",
       "        text-align: right;\n",
       "    }\n",
       "</style>\n",
       "<table border=\"1\" class=\"dataframe\">\n",
       "  <thead>\n",
       "    <tr style=\"text-align: right;\">\n",
       "      <th></th>\n",
       "      <th>TATZEIT_ANFANG_DATUM</th>\n",
       "      <th>TATZEIT_ANFANG_STUNDE</th>\n",
       "      <th>TATZEIT_ENDE_DATUM</th>\n",
       "      <th>TATZEIT_ENDE_STUNDE</th>\n",
       "      <th>LOR</th>\n",
       "      <th>SCHADENSHOEHE</th>\n",
       "      <th>VERSUCH</th>\n",
       "      <th>ART_DES_FAHRRADS</th>\n",
       "      <th>DELIKT</th>\n",
       "      <th>ERFASSUNGSGRUND</th>\n",
       "    </tr>\n",
       "    <tr>\n",
       "      <th>ANGELEGT_AM</th>\n",
       "      <th></th>\n",
       "      <th></th>\n",
       "      <th></th>\n",
       "      <th></th>\n",
       "      <th></th>\n",
       "      <th></th>\n",
       "      <th></th>\n",
       "      <th></th>\n",
       "      <th></th>\n",
       "      <th></th>\n",
       "    </tr>\n",
       "  </thead>\n",
       "  <tbody>\n",
       "    <tr>\n",
       "      <th>2023-02-19</th>\n",
       "      <td>18.02.2023</td>\n",
       "      <td>18</td>\n",
       "      <td>19.02.2023</td>\n",
       "      <td>7</td>\n",
       "      <td>3701658</td>\n",
       "      <td>3472</td>\n",
       "      <td>Nein</td>\n",
       "      <td>Herrenfahrrad</td>\n",
       "      <td>Fahrraddiebstahl</td>\n",
       "      <td>Sonstiger schwerer Diebstahl von Fahrrädern</td>\n",
       "    </tr>\n",
       "    <tr>\n",
       "      <th>2023-02-19</th>\n",
       "      <td>18.02.2023</td>\n",
       "      <td>20</td>\n",
       "      <td>19.02.2023</td>\n",
       "      <td>9</td>\n",
       "      <td>1100308</td>\n",
       "      <td>2277</td>\n",
       "      <td>Nein</td>\n",
       "      <td>Herrenfahrrad</td>\n",
       "      <td>Fahrraddiebstahl</td>\n",
       "      <td>Sonstiger schwerer Diebstahl von Fahrrädern</td>\n",
       "    </tr>\n",
       "    <tr>\n",
       "      <th>2023-02-19</th>\n",
       "      <td>18.02.2023</td>\n",
       "      <td>16</td>\n",
       "      <td>19.02.2023</td>\n",
       "      <td>0</td>\n",
       "      <td>6100102</td>\n",
       "      <td>746</td>\n",
       "      <td>Nein</td>\n",
       "      <td>Damenfahrrad</td>\n",
       "      <td>Fahrraddiebstahl</td>\n",
       "      <td>Sonstiger schwerer Diebstahl von Fahrrädern</td>\n",
       "    </tr>\n",
       "    <tr>\n",
       "      <th>2023-02-19</th>\n",
       "      <td>18.02.2023</td>\n",
       "      <td>17</td>\n",
       "      <td>19.02.2023</td>\n",
       "      <td>0</td>\n",
       "      <td>7601544</td>\n",
       "      <td>1849</td>\n",
       "      <td>Nein</td>\n",
       "      <td>Herrenfahrrad</td>\n",
       "      <td>Fahrraddiebstahl</td>\n",
       "      <td>Sonstiger schwerer Diebstahl von Fahrrädern</td>\n",
       "    </tr>\n",
       "    <tr>\n",
       "      <th>2023-02-19</th>\n",
       "      <td>17.02.2023</td>\n",
       "      <td>17</td>\n",
       "      <td>17.02.2023</td>\n",
       "      <td>17</td>\n",
       "      <td>3601346</td>\n",
       "      <td>1863</td>\n",
       "      <td>Nein</td>\n",
       "      <td>Herrenfahrrad</td>\n",
       "      <td>Fahrraddiebstahl</td>\n",
       "      <td>Sonstiger schwerer Diebstahl von Fahrrädern</td>\n",
       "    </tr>\n",
       "  </tbody>\n",
       "</table>\n",
       "</div>"
      ],
      "text/plain": [
       "            TATZEIT_ANFANG_DATUM  TATZEIT_ANFANG_STUNDE TATZEIT_ENDE_DATUM  \\\n",
       "ANGELEGT_AM                                                                  \n",
       "2023-02-19            18.02.2023                     18         19.02.2023   \n",
       "2023-02-19            18.02.2023                     20         19.02.2023   \n",
       "2023-02-19            18.02.2023                     16         19.02.2023   \n",
       "2023-02-19            18.02.2023                     17         19.02.2023   \n",
       "2023-02-19            17.02.2023                     17         17.02.2023   \n",
       "\n",
       "             TATZEIT_ENDE_STUNDE      LOR  SCHADENSHOEHE VERSUCH  \\\n",
       "ANGELEGT_AM                                                        \n",
       "2023-02-19                     7  3701658           3472    Nein   \n",
       "2023-02-19                     9  1100308           2277    Nein   \n",
       "2023-02-19                     0  6100102            746    Nein   \n",
       "2023-02-19                     0  7601544           1849    Nein   \n",
       "2023-02-19                    17  3601346           1863    Nein   \n",
       "\n",
       "            ART_DES_FAHRRADS            DELIKT  \\\n",
       "ANGELEGT_AM                                      \n",
       "2023-02-19     Herrenfahrrad  Fahrraddiebstahl   \n",
       "2023-02-19     Herrenfahrrad  Fahrraddiebstahl   \n",
       "2023-02-19      Damenfahrrad  Fahrraddiebstahl   \n",
       "2023-02-19     Herrenfahrrad  Fahrraddiebstahl   \n",
       "2023-02-19     Herrenfahrrad  Fahrraddiebstahl   \n",
       "\n",
       "                                         ERFASSUNGSGRUND  \n",
       "ANGELEGT_AM                                               \n",
       "2023-02-19   Sonstiger schwerer Diebstahl von Fahrrädern  \n",
       "2023-02-19   Sonstiger schwerer Diebstahl von Fahrrädern  \n",
       "2023-02-19   Sonstiger schwerer Diebstahl von Fahrrädern  \n",
       "2023-02-19   Sonstiger schwerer Diebstahl von Fahrrädern  \n",
       "2023-02-19   Sonstiger schwerer Diebstahl von Fahrrädern  "
      ]
     },
     "execution_count": 7,
     "metadata": {},
     "output_type": "execute_result"
    }
   ],
   "source": [
    "df = bike_thefts.read_data('Fahrraddiebstahl')\n",
    "df.head()"
   ]
  },
  {
   "cell_type": "code",
   "execution_count": 8,
   "metadata": {},
   "outputs": [
    {
     "data": {
      "text/plain": [
       "ANGELEGT_AM\n",
       "2022-01-01     4\n",
       "2022-01-02    38\n",
       "2022-01-03    46\n",
       "2022-01-04    48\n",
       "2022-01-05    63\n",
       "              ..\n",
       "2023-11-28     0\n",
       "2023-11-29     0\n",
       "2023-11-30     0\n",
       "2023-12-01    47\n",
       "2023-12-02    41\n",
       "Freq: D, Length: 701, dtype: int64"
      ]
     },
     "execution_count": 8,
     "metadata": {},
     "output_type": "execute_result"
    }
   ],
   "source": [
    "df.resample('D').size()"
   ]
  },
  {
   "cell_type": "code",
   "execution_count": 9,
   "metadata": {},
   "outputs": [
    {
     "data": {
      "image/png": "[encoded data removed]",
      "text/plain": [
       "<Figure size 432x288 with 1 Axes>"
      ]
     },
     "metadata": {
      "needs_background": "light"
     },
     "output_type": "display_data"
    }
   ],
   "source": [
    "df.resample('D').size().plot.line();"
   ]
  },
  {
   "cell_type": "code",
   "execution_count": 10,
   "metadata": {},
   "outputs": [
    {
     "data": {
      "text/plain": [
       "ANGELEGT_AM\n",
       "2022-01-02    38\n",
       "2022-01-03    46\n",
       "2022-01-04    48\n",
       "2022-01-05    63\n",
       "2022-01-06    75\n",
       "              ..\n",
       "2023-02-15    44\n",
       "2023-02-16    51\n",
       "2023-02-17    47\n",
       "2023-02-18    30\n",
       "2023-02-19    33\n",
       "Freq: D, Length: 414, dtype: int64"
      ]
     },
     "execution_count": 10,
     "metadata": {},
     "output_type": "execute_result"
    }
   ],
   "source": [
    "daily_thefts = df.loc['2022-01-02':'2023-02-19'].resample('D').size()\n",
    "daily_thefts"
   ]
  },
  {
   "cell_type": "code",
   "execution_count": 11,
   "metadata": {},
   "outputs": [
    {
     "data": {
      "image/png": "[encoded data removed]",
      "text/plain": [
       "<Figure size 432x288 with 1 Axes>"
      ]
     },
     "metadata": {
      "needs_background": "light"
     },
     "output_type": "display_data"
    }
   ],
   "source": [
    "daily_thefts.plot.line();"
   ]
  },
  {
   "cell_type": "code",
   "execution_count": 12,
   "metadata": {},
   "outputs": [
    {
     "data": {
      "image/png": "[encoded data removed]",
      "text/plain": [
       "<Figure size 432x288 with 1 Axes>"
      ]
     },
     "metadata": {
      "needs_background": "light"
     },
     "output_type": "display_data"
    }
   ],
   "source": [
    "df.loc['2022-01-02':'2023-02-19'].resample('W').size().plot.line();"
   ]
  },
  {
   "cell_type": "code",
   "execution_count": 13,
   "metadata": {},
   "outputs": [
    {
     "data": {
      "image/png": "[encoded data removed]",
      "text/plain": [
       "<Figure size 432x288 with 1 Axes>"
      ]
     },
     "metadata": {
      "needs_background": "light"
     },
     "output_type": "display_data"
    }
   ],
   "source": [
    "df.loc['2022-01-02':'2023-02-19'].resample('M').size().plot.line();"
   ]
  },
  {
   "cell_type": "code",
   "execution_count": 14,
   "metadata": {},
   "outputs": [
    {
     "name": "stdout",
     "output_type": "stream",
     "text": [
      "<class 'pandas.core.frame.DataFrame'>\n",
      "DatetimeIndex: 24610 entries, 2023-02-19 to 2022-01-01\n",
      "Data columns (total 10 columns):\n",
      " #   Column                 Non-Null Count  Dtype \n",
      "---  ------                 --------------  ----- \n",
      " 0   TATZEIT_ANFANG_DATUM   24610 non-null  object\n",
      " 1   TATZEIT_ANFANG_STUNDE  24610 non-null  int64 \n",
      " 2   TATZEIT_ENDE_DATUM     24610 non-null  object\n",
      " 3   TATZEIT_ENDE_STUNDE    24610 non-null  int64 \n",
      " 4   LOR                    24610 non-null  int64 \n",
      " 5   SCHADENSHOEHE          24610 non-null  int64 \n",
      " 6   VERSUCH                24610 non-null  object\n",
      " 7   ART_DES_FAHRRADS       24610 non-null  object\n",
      " 8   DELIKT                 24610 non-null  object\n",
      " 9   ERFASSUNGSGRUND        24610 non-null  object\n",
      "dtypes: int64(4), object(6)\n",
      "memory usage: 2.1+ MB\n"
     ]
    }
   ],
   "source": [
    "df.info() # dates are encoded as strings"
   ]
  },
  {
   "cell_type": "code",
   "execution_count": 15,
   "metadata": {},
   "outputs": [
    {
     "data": {
      "text/plain": [
       "(24610, 10)"
      ]
     },
     "execution_count": 15,
     "metadata": {},
     "output_type": "execute_result"
    }
   ],
   "source": [
    "df.shape"
   ]
  },
  {
   "cell_type": "code",
   "execution_count": 16,
   "metadata": {},
   "outputs": [
    {
     "data": {
      "text/plain": [
       "0"
      ]
     },
     "execution_count": 16,
     "metadata": {},
     "output_type": "execute_result"
    }
   ],
   "source": [
    "df.isna().sum().sum()"
   ]
  },
  {
   "cell_type": "code",
   "execution_count": 17,
   "metadata": {},
   "outputs": [
    {
     "data": {
      "text/plain": [
       "array(['Fahrraddiebstahl', 'Keller- und Bodeneinbruch'], dtype=object)"
      ]
     },
     "execution_count": 17,
     "metadata": {},
     "output_type": "execute_result"
    }
   ],
   "source": [
    "bike_thefts.check_unique(df['DELIKT'])"
   ]
  },
  {
   "cell_type": "code",
   "execution_count": 18,
   "metadata": {},
   "outputs": [
    {
     "data": {
      "text/plain": [
       "array(['Herrenfahrrad', 'Damenfahrrad', 'Mountainbike',\n",
       "       'diverse Fahrräder', 'Fahrrad', 'Kinderfahrrad', 'Rennrad',\n",
       "       'Lastenfahrrad'], dtype=object)"
      ]
     },
     "execution_count": 18,
     "metadata": {},
     "output_type": "execute_result"
    }
   ],
   "source": [
    "bike_thefts.check_unique(df['ART_DES_FAHRRADS'])"
   ]
  },
  {
   "cell_type": "code",
   "execution_count": 19,
   "metadata": {},
   "outputs": [
    {
     "data": {
      "text/plain": [
       "540"
      ]
     },
     "execution_count": 19,
     "metadata": {},
     "output_type": "execute_result"
    }
   ],
   "source": [
    "len(bike_thefts.check_unique(df['LOR']))"
   ]
  },
  {
   "cell_type": "code",
   "execution_count": 20,
   "metadata": {},
   "outputs": [
    {
     "data": {
      "text/plain": [
       "array(['Nein', 'Unbekannt', 'Ja'], dtype=object)"
      ]
     },
     "execution_count": 20,
     "metadata": {},
     "output_type": "execute_result"
    }
   ],
   "source": [
    "bike_thefts.check_unique(df['VERSUCH']) "
   ]
  },
  {
   "cell_type": "code",
   "execution_count": 21,
   "metadata": {},
   "outputs": [
    {
     "data": {
      "text/plain": [
       "5"
      ]
     },
     "execution_count": 21,
     "metadata": {},
     "output_type": "execute_result"
    }
   ],
   "source": [
    "len(df[df['VERSUCH']== 'Unbekannt']) # decision: include or drop?"
   ]
  },
  {
   "cell_type": "code",
   "execution_count": 22,
   "metadata": {},
   "outputs": [
    {
     "data": {
      "text/plain": [
       "array(['Sonstiger schwerer Diebstahl von Fahrrädern',\n",
       "       'Einfacher Diebstahl von Fahrrädern',\n",
       "       'Sonstiger schwerer Diebstahl in/aus Keller/Boden von Fahrrädern',\n",
       "       'Einfacher Diebstahl aus Keller/Boden von Fahrrädern'],\n",
       "      dtype=object)"
      ]
     },
     "execution_count": 22,
     "metadata": {},
     "output_type": "execute_result"
    }
   ],
   "source": [
    "bike_thefts.check_unique(df['ERFASSUNGSGRUND'])"
   ]
  },
  {
   "cell_type": "code",
   "execution_count": 23,
   "metadata": {},
   "outputs": [
    {
     "data": {
      "text/plain": [
       "Index(['start_date_delict', 'start_time_delict', 'end_date_delict',\n",
       "       'end_time_delict', 'LOR', 'damage_amount', 'intent_delict', 'bike_type',\n",
       "       'delict', 'description'],\n",
       "      dtype='object')"
      ]
     },
     "execution_count": 23,
     "metadata": {},
     "output_type": "execute_result"
    }
   ],
   "source": [
    "df = bike_thefts.rename_cols(df)\n",
    "df.columns"
   ]
  },
  {
   "attachments": {},
   "cell_type": "markdown",
   "metadata": {},
   "source": [
    "## Parse time"
   ]
  },
  {
   "cell_type": "code",
   "execution_count": 24,
   "metadata": {},
   "outputs": [
    {
     "data": {
      "text/html": [
       "<div>\n",
       "<style scoped>\n",
       "    .dataframe tbody tr th:only-of-type {\n",
       "        vertical-align: middle;\n",
       "    }\n",
       "\n",
       "    .dataframe tbody tr th {\n",
       "        vertical-align: top;\n",
       "    }\n",
       "\n",
       "    .dataframe thead th {\n",
       "        text-align: right;\n",
       "    }\n",
       "</style>\n",
       "<table border=\"1\" class=\"dataframe\">\n",
       "  <thead>\n",
       "    <tr style=\"text-align: right;\">\n",
       "      <th></th>\n",
       "      <th>start_date_delict</th>\n",
       "      <th>start_time_delict</th>\n",
       "      <th>end_date_delict</th>\n",
       "      <th>end_time_delict</th>\n",
       "      <th>LOR</th>\n",
       "      <th>damage_amount</th>\n",
       "      <th>intent_delict</th>\n",
       "      <th>bike_type</th>\n",
       "      <th>delict</th>\n",
       "      <th>description</th>\n",
       "    </tr>\n",
       "    <tr>\n",
       "      <th>ANGELEGT_AM</th>\n",
       "      <th></th>\n",
       "      <th></th>\n",
       "      <th></th>\n",
       "      <th></th>\n",
       "      <th></th>\n",
       "      <th></th>\n",
       "      <th></th>\n",
       "      <th></th>\n",
       "      <th></th>\n",
       "      <th></th>\n",
       "    </tr>\n",
       "  </thead>\n",
       "  <tbody>\n",
       "    <tr>\n",
       "      <th>2023-02-19</th>\n",
       "      <td>2023-02-18</td>\n",
       "      <td>1970-01-01 00:00:00.000000018</td>\n",
       "      <td>2023-02-19</td>\n",
       "      <td>1970-01-01 00:00:00.000000007</td>\n",
       "      <td>3701658</td>\n",
       "      <td>3472</td>\n",
       "      <td>Nein</td>\n",
       "      <td>Herrenfahrrad</td>\n",
       "      <td>Fahrraddiebstahl</td>\n",
       "      <td>Sonstiger schwerer Diebstahl von Fahrrädern</td>\n",
       "    </tr>\n",
       "    <tr>\n",
       "      <th>2023-02-19</th>\n",
       "      <td>2023-02-18</td>\n",
       "      <td>1970-01-01 00:00:00.000000020</td>\n",
       "      <td>2023-02-19</td>\n",
       "      <td>1970-01-01 00:00:00.000000009</td>\n",
       "      <td>1100308</td>\n",
       "      <td>2277</td>\n",
       "      <td>Nein</td>\n",
       "      <td>Herrenfahrrad</td>\n",
       "      <td>Fahrraddiebstahl</td>\n",
       "      <td>Sonstiger schwerer Diebstahl von Fahrrädern</td>\n",
       "    </tr>\n",
       "    <tr>\n",
       "      <th>2023-02-19</th>\n",
       "      <td>2023-02-18</td>\n",
       "      <td>1970-01-01 00:00:00.000000016</td>\n",
       "      <td>2023-02-19</td>\n",
       "      <td>1970-01-01 00:00:00.000000000</td>\n",
       "      <td>6100102</td>\n",
       "      <td>746</td>\n",
       "      <td>Nein</td>\n",
       "      <td>Damenfahrrad</td>\n",
       "      <td>Fahrraddiebstahl</td>\n",
       "      <td>Sonstiger schwerer Diebstahl von Fahrrädern</td>\n",
       "    </tr>\n",
       "  </tbody>\n",
       "</table>\n",
       "</div>"
      ],
      "text/plain": [
       "            start_date_delict             start_time_delict end_date_delict  \\\n",
       "ANGELEGT_AM                                                                   \n",
       "2023-02-19         2023-02-18 1970-01-01 00:00:00.000000018      2023-02-19   \n",
       "2023-02-19         2023-02-18 1970-01-01 00:00:00.000000020      2023-02-19   \n",
       "2023-02-19         2023-02-18 1970-01-01 00:00:00.000000016      2023-02-19   \n",
       "\n",
       "                          end_time_delict      LOR  damage_amount  \\\n",
       "ANGELEGT_AM                                                         \n",
       "2023-02-19  1970-01-01 00:00:00.000000007  3701658           3472   \n",
       "2023-02-19  1970-01-01 00:00:00.000000009  1100308           2277   \n",
       "2023-02-19  1970-01-01 00:00:00.000000000  6100102            746   \n",
       "\n",
       "            intent_delict      bike_type            delict  \\\n",
       "ANGELEGT_AM                                                  \n",
       "2023-02-19           Nein  Herrenfahrrad  Fahrraddiebstahl   \n",
       "2023-02-19           Nein  Herrenfahrrad  Fahrraddiebstahl   \n",
       "2023-02-19           Nein   Damenfahrrad  Fahrraddiebstahl   \n",
       "\n",
       "                                             description  \n",
       "ANGELEGT_AM                                               \n",
       "2023-02-19   Sonstiger schwerer Diebstahl von Fahrrädern  \n",
       "2023-02-19   Sonstiger schwerer Diebstahl von Fahrrädern  \n",
       "2023-02-19   Sonstiger schwerer Diebstahl von Fahrrädern  "
      ]
     },
     "execution_count": 24,
     "metadata": {},
     "output_type": "execute_result"
    }
   ],
   "source": [
    "df_transformed = bike_thefts.time_parser(df, time_parseable)\n",
    "df_transformed.head(3)"
   ]
  },
  {
   "cell_type": "code",
   "execution_count": 25,
   "metadata": {},
   "outputs": [],
   "source": [
    "# df_transformed['diff_days'] = (df_transformed['end_date_delict'] - df_transformed['start_date_delict']) / np.timedelta64(1, 'D')\n",
    "# df_transformed.diff_days.unique()"
   ]
  },
  {
   "cell_type": "code",
   "execution_count": 26,
   "metadata": {},
   "outputs": [],
   "source": [
    "# start_time = df_transformed['start_time_delict']\n",
    "# end_time = df_transformed['end_time_delict']\n",
    "# diff = end_time - start_time\n",
    "# df_transformed['diff_hours'] = diff.total_seconds()/ 3600\n",
    "# df_transformed.diff_days.unique()"
   ]
  },
  {
   "cell_type": "code",
   "execution_count": 27,
   "metadata": {},
   "outputs": [],
   "source": [
    "df_transformed = bike_thefts.crime_duration_days(df_transformed, \n",
    "                                            start=df_transformed['start_date_delict'], \n",
    "                                            end = df_transformed['end_date_delict'])"
   ]
  },
  {
   "cell_type": "code",
   "execution_count": 28,
   "metadata": {},
   "outputs": [
    {
     "data": {
      "text/html": [
       "<div>\n",
       "<style scoped>\n",
       "    .dataframe tbody tr th:only-of-type {\n",
       "        vertical-align: middle;\n",
       "    }\n",
       "\n",
       "    .dataframe tbody tr th {\n",
       "        vertical-align: top;\n",
       "    }\n",
       "\n",
       "    .dataframe thead th {\n",
       "        text-align: right;\n",
       "    }\n",
       "</style>\n",
       "<table border=\"1\" class=\"dataframe\">\n",
       "  <thead>\n",
       "    <tr style=\"text-align: right;\">\n",
       "      <th></th>\n",
       "      <th>start_date_delict</th>\n",
       "      <th>start_time_delict</th>\n",
       "      <th>end_date_delict</th>\n",
       "      <th>end_time_delict</th>\n",
       "      <th>LOR</th>\n",
       "      <th>damage_amount</th>\n",
       "      <th>intent_delict</th>\n",
       "      <th>bike_type</th>\n",
       "      <th>delict</th>\n",
       "      <th>description</th>\n",
       "      <th>crime_duration_days</th>\n",
       "      <th>crime_duration_hours</th>\n",
       "    </tr>\n",
       "    <tr>\n",
       "      <th>ANGELEGT_AM</th>\n",
       "      <th></th>\n",
       "      <th></th>\n",
       "      <th></th>\n",
       "      <th></th>\n",
       "      <th></th>\n",
       "      <th></th>\n",
       "      <th></th>\n",
       "      <th></th>\n",
       "      <th></th>\n",
       "      <th></th>\n",
       "      <th></th>\n",
       "      <th></th>\n",
       "    </tr>\n",
       "  </thead>\n",
       "  <tbody>\n",
       "    <tr>\n",
       "      <th>2023-02-19</th>\n",
       "      <td>2023-02-18</td>\n",
       "      <td>1970-01-01 00:00:00.000000018</td>\n",
       "      <td>2023-02-19</td>\n",
       "      <td>1970-01-01 00:00:00.000000007</td>\n",
       "      <td>3701658</td>\n",
       "      <td>3472</td>\n",
       "      <td>Nein</td>\n",
       "      <td>Herrenfahrrad</td>\n",
       "      <td>Fahrraddiebstahl</td>\n",
       "      <td>Sonstiger schwerer Diebstahl von Fahrrädern</td>\n",
       "      <td>1 days</td>\n",
       "      <td>0 days 00:00:00.000000011</td>\n",
       "    </tr>\n",
       "    <tr>\n",
       "      <th>2023-02-19</th>\n",
       "      <td>2023-02-18</td>\n",
       "      <td>1970-01-01 00:00:00.000000020</td>\n",
       "      <td>2023-02-19</td>\n",
       "      <td>1970-01-01 00:00:00.000000009</td>\n",
       "      <td>1100308</td>\n",
       "      <td>2277</td>\n",
       "      <td>Nein</td>\n",
       "      <td>Herrenfahrrad</td>\n",
       "      <td>Fahrraddiebstahl</td>\n",
       "      <td>Sonstiger schwerer Diebstahl von Fahrrädern</td>\n",
       "      <td>1 days</td>\n",
       "      <td>0 days 00:00:00.000000011</td>\n",
       "    </tr>\n",
       "  </tbody>\n",
       "</table>\n",
       "</div>"
      ],
      "text/plain": [
       "            start_date_delict             start_time_delict end_date_delict  \\\n",
       "ANGELEGT_AM                                                                   \n",
       "2023-02-19         2023-02-18 1970-01-01 00:00:00.000000018      2023-02-19   \n",
       "2023-02-19         2023-02-18 1970-01-01 00:00:00.000000020      2023-02-19   \n",
       "\n",
       "                          end_time_delict      LOR  damage_amount  \\\n",
       "ANGELEGT_AM                                                         \n",
       "2023-02-19  1970-01-01 00:00:00.000000007  3701658           3472   \n",
       "2023-02-19  1970-01-01 00:00:00.000000009  1100308           2277   \n",
       "\n",
       "            intent_delict      bike_type            delict  \\\n",
       "ANGELEGT_AM                                                  \n",
       "2023-02-19           Nein  Herrenfahrrad  Fahrraddiebstahl   \n",
       "2023-02-19           Nein  Herrenfahrrad  Fahrraddiebstahl   \n",
       "\n",
       "                                             description crime_duration_days  \\\n",
       "ANGELEGT_AM                                                                    \n",
       "2023-02-19   Sonstiger schwerer Diebstahl von Fahrrädern              1 days   \n",
       "2023-02-19   Sonstiger schwerer Diebstahl von Fahrrädern              1 days   \n",
       "\n",
       "                 crime_duration_hours  \n",
       "ANGELEGT_AM                            \n",
       "2023-02-19  0 days 00:00:00.000000011  \n",
       "2023-02-19  0 days 00:00:00.000000011  "
      ]
     },
     "execution_count": 28,
     "metadata": {},
     "output_type": "execute_result"
    }
   ],
   "source": [
    "df_transformed = bike_thefts.crime_duration_hours(df_transformed, \n",
    "                                            start=df_transformed['start_time_delict'], \n",
    "                                            end = df_transformed['end_time_delict'])\n",
    "df_transformed.head(2)"
   ]
  },
  {
   "cell_type": "code",
   "execution_count": 29,
   "metadata": {},
   "outputs": [
    {
     "name": "stdout",
     "output_type": "stream",
     "text": [
      "<class 'pandas.core.frame.DataFrame'>\n",
      "DatetimeIndex: 24610 entries, 2023-02-19 to 2022-01-01\n",
      "Data columns (total 18 columns):\n",
      " #   Column                Non-Null Count  Dtype          \n",
      "---  ------                --------------  -----          \n",
      " 0   start_date_delict     24610 non-null  datetime64[ns] \n",
      " 1   start_time_delict     24610 non-null  datetime64[ns] \n",
      " 2   end_date_delict       24610 non-null  datetime64[ns] \n",
      " 3   end_time_delict       24610 non-null  datetime64[ns] \n",
      " 4   LOR                   24610 non-null  int64          \n",
      " 5   damage_amount         24610 non-null  int64          \n",
      " 6   intent_delict         24610 non-null  object         \n",
      " 7   bike_type             24610 non-null  object         \n",
      " 8   delict                24610 non-null  object         \n",
      " 9   description           24610 non-null  object         \n",
      " 10  crime_duration_days   24610 non-null  timedelta64[ns]\n",
      " 11  crime_duration_hours  24610 non-null  timedelta64[ns]\n",
      " 12  hour                  24610 non-null  int64          \n",
      " 13  day                   24610 non-null  int64          \n",
      " 14  week_day              24610 non-null  int64          \n",
      " 15  week                  24610 non-null  int64          \n",
      " 16  year                  24610 non-null  int64          \n",
      " 17  month                 24610 non-null  int64          \n",
      "dtypes: datetime64[ns](4), int64(8), object(4), timedelta64[ns](2)\n",
      "memory usage: 3.6+ MB\n"
     ]
    }
   ],
   "source": [
    "df_transformed = bike_thefts.include_timestamps(df)\n",
    "df_transformed.info()"
   ]
  },
  {
   "attachments": {},
   "cell_type": "markdown",
   "metadata": {},
   "source": [
    "## Reencode LOR values"
   ]
  },
  {
   "cell_type": "code",
   "execution_count": 30,
   "metadata": {},
   "outputs": [
    {
     "data": {
      "text/html": [
       "<div>\n",
       "<style scoped>\n",
       "    .dataframe tbody tr th:only-of-type {\n",
       "        vertical-align: middle;\n",
       "    }\n",
       "\n",
       "    .dataframe tbody tr th {\n",
       "        vertical-align: top;\n",
       "    }\n",
       "\n",
       "    .dataframe thead th {\n",
       "        text-align: right;\n",
       "    }\n",
       "</style>\n",
       "<table border=\"1\" class=\"dataframe\">\n",
       "  <thead>\n",
       "    <tr style=\"text-align: right;\">\n",
       "      <th></th>\n",
       "      <th>start_date_delict</th>\n",
       "      <th>start_time_delict</th>\n",
       "      <th>end_date_delict</th>\n",
       "      <th>end_time_delict</th>\n",
       "      <th>LOR</th>\n",
       "      <th>damage_amount</th>\n",
       "      <th>intent_delict</th>\n",
       "      <th>bike_type</th>\n",
       "      <th>delict</th>\n",
       "      <th>description</th>\n",
       "      <th>crime_duration_days</th>\n",
       "      <th>crime_duration_hours</th>\n",
       "      <th>hour</th>\n",
       "      <th>day</th>\n",
       "      <th>week_day</th>\n",
       "      <th>week</th>\n",
       "      <th>year</th>\n",
       "      <th>month</th>\n",
       "    </tr>\n",
       "    <tr>\n",
       "      <th>ANGELEGT_AM</th>\n",
       "      <th></th>\n",
       "      <th></th>\n",
       "      <th></th>\n",
       "      <th></th>\n",
       "      <th></th>\n",
       "      <th></th>\n",
       "      <th></th>\n",
       "      <th></th>\n",
       "      <th></th>\n",
       "      <th></th>\n",
       "      <th></th>\n",
       "      <th></th>\n",
       "      <th></th>\n",
       "      <th></th>\n",
       "      <th></th>\n",
       "      <th></th>\n",
       "      <th></th>\n",
       "      <th></th>\n",
       "    </tr>\n",
       "  </thead>\n",
       "  <tbody>\n",
       "    <tr>\n",
       "      <th>2023-02-19</th>\n",
       "      <td>2023-02-18</td>\n",
       "      <td>1970-01-01 00:00:00.000000018</td>\n",
       "      <td>2023-02-19</td>\n",
       "      <td>1970-01-01 00:00:00.000000007</td>\n",
       "      <td>03701658</td>\n",
       "      <td>3472</td>\n",
       "      <td>Nein</td>\n",
       "      <td>Herrenfahrrad</td>\n",
       "      <td>Fahrraddiebstahl</td>\n",
       "      <td>Sonstiger schwerer Diebstahl von Fahrrädern</td>\n",
       "      <td>1 days</td>\n",
       "      <td>0 days 00:00:00.000000011</td>\n",
       "      <td>0</td>\n",
       "      <td>19</td>\n",
       "      <td>6</td>\n",
       "      <td>7</td>\n",
       "      <td>2023</td>\n",
       "      <td>2</td>\n",
       "    </tr>\n",
       "    <tr>\n",
       "      <th>2023-02-19</th>\n",
       "      <td>2023-02-18</td>\n",
       "      <td>1970-01-01 00:00:00.000000020</td>\n",
       "      <td>2023-02-19</td>\n",
       "      <td>1970-01-01 00:00:00.000000009</td>\n",
       "      <td>01100308</td>\n",
       "      <td>2277</td>\n",
       "      <td>Nein</td>\n",
       "      <td>Herrenfahrrad</td>\n",
       "      <td>Fahrraddiebstahl</td>\n",
       "      <td>Sonstiger schwerer Diebstahl von Fahrrädern</td>\n",
       "      <td>1 days</td>\n",
       "      <td>0 days 00:00:00.000000011</td>\n",
       "      <td>0</td>\n",
       "      <td>19</td>\n",
       "      <td>6</td>\n",
       "      <td>7</td>\n",
       "      <td>2023</td>\n",
       "      <td>2</td>\n",
       "    </tr>\n",
       "  </tbody>\n",
       "</table>\n",
       "</div>"
      ],
      "text/plain": [
       "            start_date_delict             start_time_delict end_date_delict  \\\n",
       "ANGELEGT_AM                                                                   \n",
       "2023-02-19         2023-02-18 1970-01-01 00:00:00.000000018      2023-02-19   \n",
       "2023-02-19         2023-02-18 1970-01-01 00:00:00.000000020      2023-02-19   \n",
       "\n",
       "                          end_time_delict       LOR  damage_amount  \\\n",
       "ANGELEGT_AM                                                          \n",
       "2023-02-19  1970-01-01 00:00:00.000000007  03701658           3472   \n",
       "2023-02-19  1970-01-01 00:00:00.000000009  01100308           2277   \n",
       "\n",
       "            intent_delict      bike_type            delict  \\\n",
       "ANGELEGT_AM                                                  \n",
       "2023-02-19           Nein  Herrenfahrrad  Fahrraddiebstahl   \n",
       "2023-02-19           Nein  Herrenfahrrad  Fahrraddiebstahl   \n",
       "\n",
       "                                             description crime_duration_days  \\\n",
       "ANGELEGT_AM                                                                    \n",
       "2023-02-19   Sonstiger schwerer Diebstahl von Fahrrädern              1 days   \n",
       "2023-02-19   Sonstiger schwerer Diebstahl von Fahrrädern              1 days   \n",
       "\n",
       "                 crime_duration_hours  hour  day  week_day  week  year  month  \n",
       "ANGELEGT_AM                                                                    \n",
       "2023-02-19  0 days 00:00:00.000000011     0   19         6     7  2023      2  \n",
       "2023-02-19  0 days 00:00:00.000000011     0   19         6     7  2023      2  "
      ]
     },
     "execution_count": 30,
     "metadata": {},
     "output_type": "execute_result"
    }
   ],
   "source": [
    "df_transformed = bike_thefts.fill_ints(df)\n",
    "df_transformed.head(2)"
   ]
  },
  {
   "attachments": {},
   "cell_type": "markdown",
   "metadata": {},
   "source": [
    "## Get final transformed dataset"
   ]
  },
  {
   "cell_type": "code",
   "execution_count": 31,
   "metadata": {},
   "outputs": [],
   "source": [
    "keep = ['LOR', 'damage_amount', 'intent_delict', 'bike_type', \\\n",
    "        'delict', 'description', 'day', 'hour', 'week_day', 'week', 'year', 'month']"
   ]
  },
  {
   "cell_type": "code",
   "execution_count": 32,
   "metadata": {},
   "outputs": [
    {
     "data": {
      "text/plain": [
       "Index(['LOR', 'damage_amount', 'intent_delict', 'bike_type', 'delict',\n",
       "       'description', 'day', 'hour', 'week_day', 'week', 'year', 'month'],\n",
       "      dtype='object')"
      ]
     },
     "execution_count": 32,
     "metadata": {},
     "output_type": "execute_result"
    }
   ],
   "source": [
    "df_transformed_final = df_transformed[keep]\n",
    "df_transformed_final.columns"
   ]
  },
  {
   "cell_type": "code",
   "execution_count": 33,
   "metadata": {},
   "outputs": [],
   "source": [
    "df_transformed_final['week_day'] = df_transformed_final['week_day'].replace({\n",
    "    6:'Sunday',\n",
    "    5:'Saturday',\n",
    "    4:'Friday',\n",
    "    3:'Thursday',\n",
    "    2:'Wednesday',\n",
    "    1:'Tuesday',\n",
    "    0:'Monday',\n",
    "})"
   ]
  },
  {
   "cell_type": "code",
   "execution_count": 34,
   "metadata": {},
   "outputs": [],
   "source": [
    "df_transformed_final['month'] = df_transformed_final['month'].replace({\n",
    "    12:'December',\n",
    "    11:'November',\n",
    "    10:'October',\n",
    "    9:'September',\n",
    "    8:'August',\n",
    "    7:'July',\n",
    "    6:'June',\n",
    "    5:'May',\n",
    "    4:'April',\n",
    "    3:'March',\n",
    "    2:'February',\n",
    "    1:'January',\n",
    "    })"
   ]
  },
  {
   "cell_type": "code",
   "execution_count": 35,
   "metadata": {},
   "outputs": [
    {
     "data": {
      "text/html": [
       "<div>\n",
       "<style scoped>\n",
       "    .dataframe tbody tr th:only-of-type {\n",
       "        vertical-align: middle;\n",
       "    }\n",
       "\n",
       "    .dataframe tbody tr th {\n",
       "        vertical-align: top;\n",
       "    }\n",
       "\n",
       "    .dataframe thead th {\n",
       "        text-align: right;\n",
       "    }\n",
       "</style>\n",
       "<table border=\"1\" class=\"dataframe\">\n",
       "  <thead>\n",
       "    <tr style=\"text-align: right;\">\n",
       "      <th></th>\n",
       "      <th>LOR</th>\n",
       "      <th>damage_amount</th>\n",
       "      <th>intent_delict</th>\n",
       "      <th>bike_type</th>\n",
       "      <th>delict</th>\n",
       "      <th>description</th>\n",
       "      <th>day</th>\n",
       "      <th>hour</th>\n",
       "      <th>week_day</th>\n",
       "      <th>week</th>\n",
       "      <th>year</th>\n",
       "      <th>month</th>\n",
       "    </tr>\n",
       "    <tr>\n",
       "      <th>ANGELEGT_AM</th>\n",
       "      <th></th>\n",
       "      <th></th>\n",
       "      <th></th>\n",
       "      <th></th>\n",
       "      <th></th>\n",
       "      <th></th>\n",
       "      <th></th>\n",
       "      <th></th>\n",
       "      <th></th>\n",
       "      <th></th>\n",
       "      <th></th>\n",
       "      <th></th>\n",
       "    </tr>\n",
       "  </thead>\n",
       "  <tbody>\n",
       "    <tr>\n",
       "      <th>2023-02-19</th>\n",
       "      <td>03701658</td>\n",
       "      <td>3472</td>\n",
       "      <td>Nein</td>\n",
       "      <td>Herrenfahrrad</td>\n",
       "      <td>Fahrraddiebstahl</td>\n",
       "      <td>Sonstiger schwerer Diebstahl von Fahrrädern</td>\n",
       "      <td>19</td>\n",
       "      <td>0</td>\n",
       "      <td>Sunday</td>\n",
       "      <td>7</td>\n",
       "      <td>2023</td>\n",
       "      <td>February</td>\n",
       "    </tr>\n",
       "    <tr>\n",
       "      <th>2023-02-19</th>\n",
       "      <td>01100308</td>\n",
       "      <td>2277</td>\n",
       "      <td>Nein</td>\n",
       "      <td>Herrenfahrrad</td>\n",
       "      <td>Fahrraddiebstahl</td>\n",
       "      <td>Sonstiger schwerer Diebstahl von Fahrrädern</td>\n",
       "      <td>19</td>\n",
       "      <td>0</td>\n",
       "      <td>Sunday</td>\n",
       "      <td>7</td>\n",
       "      <td>2023</td>\n",
       "      <td>February</td>\n",
       "    </tr>\n",
       "  </tbody>\n",
       "</table>\n",
       "</div>"
      ],
      "text/plain": [
       "                  LOR  damage_amount intent_delict      bike_type  \\\n",
       "ANGELEGT_AM                                                         \n",
       "2023-02-19   03701658           3472          Nein  Herrenfahrrad   \n",
       "2023-02-19   01100308           2277          Nein  Herrenfahrrad   \n",
       "\n",
       "                       delict                                  description  \\\n",
       "ANGELEGT_AM                                                                  \n",
       "2023-02-19   Fahrraddiebstahl  Sonstiger schwerer Diebstahl von Fahrrädern   \n",
       "2023-02-19   Fahrraddiebstahl  Sonstiger schwerer Diebstahl von Fahrrädern   \n",
       "\n",
       "             day  hour week_day  week  year     month  \n",
       "ANGELEGT_AM                                            \n",
       "2023-02-19    19     0   Sunday     7  2023  February  \n",
       "2023-02-19    19     0   Sunday     7  2023  February  "
      ]
     },
     "execution_count": 35,
     "metadata": {},
     "output_type": "execute_result"
    }
   ],
   "source": [
    "df_transformed_final.head(2)"
   ]
  },
  {
   "cell_type": "code",
   "execution_count": 36,
   "metadata": {},
   "outputs": [],
   "source": [
    "bike_thefts.save_intermediate_data(df_transformed_final, 'bike_thefts_transformed')"
   ]
  },
  {
   "cell_type": "code",
   "execution_count": null,
   "metadata": {},
   "outputs": [],
   "source": []
  },
  {
   "cell_type": "markdown",
   "metadata": {},
   "source": [
    "## Get groups for bike thefts in different frequencies (this serves to then plot per frequency)"
   ]
  },
  {
   "cell_type": "code",
   "execution_count": 37,
   "metadata": {},
   "outputs": [
    {
     "data": {
      "text/html": [
       "<div>\n",
       "<style scoped>\n",
       "    .dataframe tbody tr th:only-of-type {\n",
       "        vertical-align: middle;\n",
       "    }\n",
       "\n",
       "    .dataframe tbody tr th {\n",
       "        vertical-align: top;\n",
       "    }\n",
       "\n",
       "    .dataframe thead th {\n",
       "        text-align: right;\n",
       "    }\n",
       "</style>\n",
       "<table border=\"1\" class=\"dataframe\">\n",
       "  <thead>\n",
       "    <tr style=\"text-align: right;\">\n",
       "      <th></th>\n",
       "      <th>LOR</th>\n",
       "      <th>damage_amount</th>\n",
       "      <th>intent_delict</th>\n",
       "      <th>bike_type</th>\n",
       "      <th>delict</th>\n",
       "      <th>description</th>\n",
       "      <th>day</th>\n",
       "      <th>hour</th>\n",
       "      <th>week_day</th>\n",
       "      <th>week</th>\n",
       "      <th>year</th>\n",
       "      <th>month</th>\n",
       "    </tr>\n",
       "    <tr>\n",
       "      <th>ANGELEGT_AM</th>\n",
       "      <th></th>\n",
       "      <th></th>\n",
       "      <th></th>\n",
       "      <th></th>\n",
       "      <th></th>\n",
       "      <th></th>\n",
       "      <th></th>\n",
       "      <th></th>\n",
       "      <th></th>\n",
       "      <th></th>\n",
       "      <th></th>\n",
       "      <th></th>\n",
       "    </tr>\n",
       "  </thead>\n",
       "  <tbody>\n",
       "    <tr>\n",
       "      <th>2023-02-19</th>\n",
       "      <td>3701658</td>\n",
       "      <td>3472</td>\n",
       "      <td>Nein</td>\n",
       "      <td>Herrenfahrrad</td>\n",
       "      <td>Fahrraddiebstahl</td>\n",
       "      <td>Sonstiger schwerer Diebstahl von FahrrÃ¤dern</td>\n",
       "      <td>19</td>\n",
       "      <td>0</td>\n",
       "      <td>Sunday</td>\n",
       "      <td>7</td>\n",
       "      <td>2023</td>\n",
       "      <td>February</td>\n",
       "    </tr>\n",
       "    <tr>\n",
       "      <th>2023-02-19</th>\n",
       "      <td>1100308</td>\n",
       "      <td>2277</td>\n",
       "      <td>Nein</td>\n",
       "      <td>Herrenfahrrad</td>\n",
       "      <td>Fahrraddiebstahl</td>\n",
       "      <td>Sonstiger schwerer Diebstahl von FahrrÃ¤dern</td>\n",
       "      <td>19</td>\n",
       "      <td>0</td>\n",
       "      <td>Sunday</td>\n",
       "      <td>7</td>\n",
       "      <td>2023</td>\n",
       "      <td>February</td>\n",
       "    </tr>\n",
       "  </tbody>\n",
       "</table>\n",
       "</div>"
      ],
      "text/plain": [
       "                 LOR  damage_amount intent_delict      bike_type  \\\n",
       "ANGELEGT_AM                                                        \n",
       "2023-02-19   3701658           3472          Nein  Herrenfahrrad   \n",
       "2023-02-19   1100308           2277          Nein  Herrenfahrrad   \n",
       "\n",
       "                       delict                                   description  \\\n",
       "ANGELEGT_AM                                                                   \n",
       "2023-02-19   Fahrraddiebstahl  Sonstiger schwerer Diebstahl von FahrrÃ¤dern   \n",
       "2023-02-19   Fahrraddiebstahl  Sonstiger schwerer Diebstahl von FahrrÃ¤dern   \n",
       "\n",
       "             day  hour week_day  week  year     month  \n",
       "ANGELEGT_AM                                            \n",
       "2023-02-19    19     0   Sunday     7  2023  February  \n",
       "2023-02-19    19     0   Sunday     7  2023  February  "
      ]
     },
     "execution_count": 37,
     "metadata": {},
     "output_type": "execute_result"
    }
   ],
   "source": [
    "df_transformed_loaded = bike_thefts.read_data('bike_thefts_transformed')\n",
    "df_transformed_loaded.head(2)"
   ]
  },
  {
   "cell_type": "code",
   "execution_count": 38,
   "metadata": {},
   "outputs": [],
   "source": [
    "def mean_thefts(df: pd.DataFrame, group_variable:str, aggregate_variable:str) -> pd.DataFrame:\n",
    "        '''Calculate average thefts per group_variable and aggregate_variable.'''\n",
    "        df_filled = pd.DataFrame(\n",
    "                df.groupby([group_variable])[aggregate_variable].mean(),\n",
    "                          columns=[f'{aggregate_variable}_average']).reset_index()\n",
    "        return df_filled"
   ]
  },
  {
   "cell_type": "code",
   "execution_count": 39,
   "metadata": {},
   "outputs": [
    {
     "data": {
      "text/html": [
       "<div>\n",
       "<style scoped>\n",
       "    .dataframe tbody tr th:only-of-type {\n",
       "        vertical-align: middle;\n",
       "    }\n",
       "\n",
       "    .dataframe tbody tr th {\n",
       "        vertical-align: top;\n",
       "    }\n",
       "\n",
       "    .dataframe thead th {\n",
       "        text-align: right;\n",
       "    }\n",
       "</style>\n",
       "<table border=\"1\" class=\"dataframe\">\n",
       "  <thead>\n",
       "    <tr style=\"text-align: right;\">\n",
       "      <th></th>\n",
       "      <th>index</th>\n",
       "      <th>damage_amount_average</th>\n",
       "    </tr>\n",
       "  </thead>\n",
       "  <tbody>\n",
       "  </tbody>\n",
       "</table>\n",
       "</div>"
      ],
      "text/plain": [
       "Empty DataFrame\n",
       "Columns: [index, damage_amount_average]\n",
       "Index: []"
      ]
     },
     "execution_count": 39,
     "metadata": {},
     "output_type": "execute_result"
    }
   ],
   "source": [
    "mean_thefts(df_transformed_loaded, 'bike_type', 'damage_amount')"
   ]
  },
  {
   "cell_type": "code",
   "execution_count": 41,
   "metadata": {},
   "outputs": [
    {
     "data": {
      "text/html": [
       "<div>\n",
       "<style scoped>\n",
       "    .dataframe tbody tr th:only-of-type {\n",
       "        vertical-align: middle;\n",
       "    }\n",
       "\n",
       "    .dataframe tbody tr th {\n",
       "        vertical-align: top;\n",
       "    }\n",
       "\n",
       "    .dataframe thead th {\n",
       "        text-align: right;\n",
       "    }\n",
       "</style>\n",
       "<table border=\"1\" class=\"dataframe\">\n",
       "  <thead>\n",
       "    <tr style=\"text-align: right;\">\n",
       "      <th></th>\n",
       "      <th>bike_type</th>\n",
       "      <th>damage_amount</th>\n",
       "    </tr>\n",
       "  </thead>\n",
       "  <tbody>\n",
       "    <tr>\n",
       "      <th>0</th>\n",
       "      <td>Damenfahrrad</td>\n",
       "      <td>908.386353</td>\n",
       "    </tr>\n",
       "    <tr>\n",
       "      <th>1</th>\n",
       "      <td>Fahrrad</td>\n",
       "      <td>1244.525110</td>\n",
       "    </tr>\n",
       "    <tr>\n",
       "      <th>2</th>\n",
       "      <td>Herrenfahrrad</td>\n",
       "      <td>1090.819025</td>\n",
       "    </tr>\n",
       "    <tr>\n",
       "      <th>3</th>\n",
       "      <td>Kinderfahrrad</td>\n",
       "      <td>414.633229</td>\n",
       "    </tr>\n",
       "    <tr>\n",
       "      <th>4</th>\n",
       "      <td>Lastenfahrrad</td>\n",
       "      <td>2514.245902</td>\n",
       "    </tr>\n",
       "    <tr>\n",
       "      <th>5</th>\n",
       "      <td>Mountainbike</td>\n",
       "      <td>839.741463</td>\n",
       "    </tr>\n",
       "    <tr>\n",
       "      <th>6</th>\n",
       "      <td>Rennrad</td>\n",
       "      <td>1171.696629</td>\n",
       "    </tr>\n",
       "    <tr>\n",
       "      <th>7</th>\n",
       "      <td>diverse FahrrÃ¤der</td>\n",
       "      <td>1990.250394</td>\n",
       "    </tr>\n",
       "  </tbody>\n",
       "</table>\n",
       "</div>"
      ],
      "text/plain": [
       "            bike_type  damage_amount\n",
       "0        Damenfahrrad     908.386353\n",
       "1             Fahrrad    1244.525110\n",
       "2       Herrenfahrrad    1090.819025\n",
       "3       Kinderfahrrad     414.633229\n",
       "4       Lastenfahrrad    2514.245902\n",
       "5        Mountainbike     839.741463\n",
       "6             Rennrad    1171.696629\n",
       "7  diverse FahrrÃ¤der    1990.250394"
      ]
     },
     "execution_count": 41,
     "metadata": {},
     "output_type": "execute_result"
    }
   ],
   "source": [
    "multi_biketype_month_frame = pd.DataFrame(\n",
    "    df_transformed_loaded.groupby(['bike_type'])['damage_amount'].mean(),\n",
    "    columns=['damage_amount']).reset_index()\n",
    "multi_biketype_month_frame"
   ]
  },
  {
   "cell_type": "code",
   "execution_count": null,
   "metadata": {},
   "outputs": [],
   "source": [
    "multi_biketype_month = df_transformed_loaded.groupby(['bike_type', 'year'])['damage_amount'].mean()\n",
    "multi_biketype_month"
   ]
  },
  {
   "cell_type": "code",
   "execution_count": null,
   "metadata": {},
   "outputs": [],
   "source": [
    "multi_biketype_month = multi_biketype_month.unstack().round(2)\n",
    "multi_biketype_month = multi_biketype_month.reset_index()\n",
    "#multi_biketype_month.reset_index(inplace=True)\n",
    "multi_biketype_month.head(2)"
   ]
  },
  {
   "cell_type": "code",
   "execution_count": null,
   "metadata": {},
   "outputs": [],
   "source": [
    "multi_biketype_month_long = multi_biketype_month.melt(id_vars='bike_type', var_name='year', value_name='bike_thefts')\n",
    "multi_biketype_month_long"
   ]
  },
  {
   "cell_type": "code",
   "execution_count": null,
   "metadata": {},
   "outputs": [],
   "source": [
    "plt.subplots(figsize = (5,3))\n",
    "sns.histplot(x='bike_thefts', hue='year', \n",
    "                palette='bright', alpha=0.40, bins=10,\n",
    "                stat='percent', # all bins heights sum up to 100, we can also replace it with probability\n",
    "                data=multi_biketype_month_long);"
   ]
  },
  {
   "cell_type": "code",
   "execution_count": null,
   "metadata": {},
   "outputs": [],
   "source": [
    "plt.subplots(figsize = (5,3))\n",
    "sns.boxplot(x='year', y='bike_thefts', data=multi_biketype_month_long);"
   ]
  },
  {
   "cell_type": "code",
   "execution_count": null,
   "metadata": {},
   "outputs": [],
   "source": [
    "# order_content = multi_biketype_month_long.bike_type.unique()\n",
    "# order_content = list(order_content)"
   ]
  },
  {
   "cell_type": "code",
   "execution_count": null,
   "metadata": {},
   "outputs": [],
   "source": [
    "# plt.subplots(figsize = (5,3))\n",
    "# sns.boxplot(x='bike_thefts', y='year', data=multi_biketype_month_long, palette='Blues', \n",
    "#             order=order_content);"
   ]
  },
  {
   "cell_type": "code",
   "execution_count": null,
   "metadata": {},
   "outputs": [],
   "source": [
    "# plt.subplots(figsize = (5,3))\n",
    "# sns.catplot(x='bike_type', data=multi_biketype_month_long, kind='count', hue='year');"
   ]
  },
  {
   "cell_type": "code",
   "execution_count": null,
   "metadata": {},
   "outputs": [],
   "source": [
    "get_distribution = df_transformed_loaded.groupby(['bike_type', 'year']).size()\n",
    "get_distribution"
   ]
  },
  {
   "cell_type": "code",
   "execution_count": null,
   "metadata": {},
   "outputs": [],
   "source": [
    "get_distribution_plot = get_distribution.unstack()\n",
    "get_distribution_plot"
   ]
  },
  {
   "cell_type": "code",
   "execution_count": null,
   "metadata": {},
   "outputs": [],
   "source": [
    "get_distribution_plot.hist(); #understand..."
   ]
  },
  {
   "cell_type": "code",
   "execution_count": null,
   "metadata": {},
   "outputs": [],
   "source": [
    "thefts_by_day = bike_thefts.thefts_count(df_transformed_loaded, 'day')\n",
    "# df_count_bike_thefts = df_count_bike_thefts.sort_values(ascending=False)\n",
    "thefts_by_day"
   ]
  },
  {
   "cell_type": "code",
   "execution_count": null,
   "metadata": {},
   "outputs": [],
   "source": [
    "thefts_by_day.day_thefts_count.plot.line()"
   ]
  },
  {
   "cell_type": "code",
   "execution_count": null,
   "metadata": {},
   "outputs": [],
   "source": [
    "# thefts_by_day.set_index('week_day', inplace=True)\n",
    "# thefts_by_day"
   ]
  },
  {
   "cell_type": "code",
   "execution_count": null,
   "metadata": {},
   "outputs": [],
   "source": [
    "thefts_by_day.plot.barh(title = 'Daily Bike Thefts'); #hist better?"
   ]
  },
  {
   "cell_type": "code",
   "execution_count": null,
   "metadata": {},
   "outputs": [],
   "source": [
    "weekly_average_thefts = bike_thefts.thefts_count(df_transformed_loaded, 'week')\n",
    "# df_count_bike_thefts = df_count_bike_thefts.sort_values(ascending=False)\n",
    "weekly_average_thefts.drop('week', axis=1, inplace=True) \n",
    "weekly_average_thefts.tail(3)"
   ]
  },
  {
   "cell_type": "code",
   "execution_count": null,
   "metadata": {},
   "outputs": [],
   "source": [
    "monthly_average_thefts = bike_thefts.thefts_count(df_transformed_loaded, 'month')\n",
    "monthly_average_thefts.set_index('month', inplace=True) \n",
    "monthly_average_thefts"
   ]
  },
  {
   "cell_type": "code",
   "execution_count": null,
   "metadata": {},
   "outputs": [],
   "source": []
  },
  {
   "cell_type": "code",
   "execution_count": null,
   "metadata": {},
   "outputs": [],
   "source": [
    "monthly_average_thefts.plot.barh(title = 'Monthly Bike Thefts');"
   ]
  },
  {
   "cell_type": "code",
   "execution_count": null,
   "metadata": {},
   "outputs": [],
   "source": [
    "yearly_average_thefts = bike_thefts.thefts_count(df_transformed_loaded, 'year')\n",
    "yearly_average_thefts.set_index('year', inplace=True)\n",
    "yearly_average_thefts"
   ]
  },
  {
   "cell_type": "code",
   "execution_count": null,
   "metadata": {},
   "outputs": [],
   "source": [
    "yearly_average_thefts.plot.barh(title = 'Yearly Bike Thefts');"
   ]
  },
  {
   "cell_type": "code",
   "execution_count": null,
   "metadata": {},
   "outputs": [],
   "source": []
  },
  {
   "attachments": {},
   "cell_type": "markdown",
   "metadata": {},
   "source": [
    "## Extract dataframes for individual years"
   ]
  },
  {
   "cell_type": "code",
   "execution_count": null,
   "metadata": {},
   "outputs": [],
   "source": [
    "extract_2022 = df_transformed.loc['2022-01-01':'2022-12-31']\n",
    "extract_2022.head(2)"
   ]
  },
  {
   "cell_type": "code",
   "execution_count": null,
   "metadata": {},
   "outputs": [],
   "source": [
    "extract_2022.crime_duration_hours.unique()"
   ]
  },
  {
   "cell_type": "code",
   "execution_count": null,
   "metadata": {},
   "outputs": [],
   "source": [
    "extract_22_resampled = extract_2022.resample('M')\n",
    "extract_22_resampled = extract_22_resampled['LOR', 'damage_amount'].mean().round(2)\n",
    "bike_thefts.save_intermediate_data(extract_22_resampled, 'extract_22_resampled')"
   ]
  },
  {
   "cell_type": "code",
   "execution_count": null,
   "metadata": {},
   "outputs": [],
   "source": [
    "def extract_mean(df: pd.DataFrame, resample_by: str, col_names: str) -> pd.DataFrame:\n",
    "    '''Resample by monthly vals.''' \n",
    "    df_monthly_vals = df.resample(resample_by)\n",
    "    df_monthly_vals = df_monthly_vals[col_names].mean().round(2)\n",
    "    return df_monthly_vals"
   ]
  },
  {
   "cell_type": "code",
   "execution_count": null,
   "metadata": {},
   "outputs": [],
   "source": [
    "schadenshoehe_monthly_mean = bike_thefts.mean_thefts(extract_2022, 'M')"
   ]
  },
  {
   "cell_type": "code",
   "execution_count": null,
   "metadata": {},
   "outputs": [],
   "source": [
    "schadenshoehe_monthly_mean.plot.line(title = 'Mean Values of Monthly Bike Thefts (EUR) - 2022');"
   ]
  },
  {
   "cell_type": "code",
   "execution_count": null,
   "metadata": {},
   "outputs": [],
   "source": [
    "schadenshoehe_monthly_mean.plot.hist(bins = 10, title = 'Values of Monthly Bike Thefts - 2022');"
   ]
  },
  {
   "cell_type": "code",
   "execution_count": null,
   "metadata": {},
   "outputs": [],
   "source": [
    "extract_2022.columns"
   ]
  },
  {
   "cell_type": "code",
   "execution_count": null,
   "metadata": {},
   "outputs": [],
   "source": [
    "duration_hours_monthly_mean = extract_mean(extract_2022, 'M', 'crime_duration_hours')"
   ]
  },
  {
   "cell_type": "code",
   "execution_count": null,
   "metadata": {},
   "outputs": [],
   "source": [
    "duration_hours_monthly_mean.plot.line(title = 'Average Duration of Bike Thefts (Monthly Values) - 2022');"
   ]
  },
  {
   "cell_type": "code",
   "execution_count": null,
   "metadata": {},
   "outputs": [],
   "source": [
    "duration_days_monthly_mean = extract_mean(extract_2022, 'M', 'crime_duration_days')"
   ]
  },
  {
   "cell_type": "code",
   "execution_count": null,
   "metadata": {},
   "outputs": [],
   "source": [
    "duration_hours_monthly_mean.plot.line(title = 'Average Duration of Bike Thefts (Monthly Values) - 2022');"
   ]
  },
  {
   "cell_type": "code",
   "execution_count": null,
   "metadata": {},
   "outputs": [],
   "source": []
  },
  {
   "cell_type": "code",
   "execution_count": null,
   "metadata": {},
   "outputs": [],
   "source": []
  },
  {
   "cell_type": "code",
   "execution_count": null,
   "metadata": {},
   "outputs": [],
   "source": [
    "schadenshoehe_weekly_mean = extract_mean(extract_22_resampled, 'W', 'damage_amount')\n",
    "schadenshoehe_weekly_mean"
   ]
  },
  {
   "cell_type": "code",
   "execution_count": null,
   "metadata": {},
   "outputs": [],
   "source": [
    "extract_2023 = df_transformed.loc['2023-01-01':'2023-02-19']\n",
    "extract_2023.head(2)"
   ]
  },
  {
   "cell_type": "code",
   "execution_count": null,
   "metadata": {},
   "outputs": [],
   "source": [
    "extract_23_resampled = extract_2023.resample('M')\n",
    "extract_23_resampled = extract_23_resampled['LOR', 'damage_amount'].mean().round(2)\n",
    "bike_thefts.save_intermediate_data(extract_23_resampled, 'extract_23_resampled')"
   ]
  },
  {
   "cell_type": "code",
   "execution_count": null,
   "metadata": {},
   "outputs": [],
   "source": []
  },
  {
   "cell_type": "code",
   "execution_count": null,
   "metadata": {},
   "outputs": [],
   "source": [
    "bike_thefts.save_intermediate_data(extract_2022, 'bike_thefts_df_2022')\n",
    "bike_thefts.save_intermediate_data(extract_2023, 'bike_thefts_df_2023')"
   ]
  },
  {
   "attachments": {},
   "cell_type": "markdown",
   "metadata": {},
   "source": [
    "## Extract series for individual years and plot numeric data: thefts"
   ]
  },
  {
   "cell_type": "code",
   "execution_count": null,
   "metadata": {},
   "outputs": [],
   "source": [
    "extract_2022.reset_index(inplace=True)\n",
    "extract_2022.head(2)"
   ]
  },
  {
   "cell_type": "code",
   "execution_count": null,
   "metadata": {},
   "outputs": [],
   "source": [
    "bike_thefts_series_22 = pd.DataFrame(extract_2022.groupby(['LOR', 'ANGELEGT_AM']).size(),\n",
    "                       columns = ['bike_theft_count']).reset_index()\n",
    "bike_thefts_series_22 = bike_thefts_series_22.set_index(bike_thefts_series_22['ANGELEGT_AM'])\n",
    "bike_thefts_series_22 = bike_thefts_series_22['bike_theft_count']\n",
    "bike_thefts_series_22.hist();"
   ]
  },
  {
   "cell_type": "code",
   "execution_count": null,
   "metadata": {},
   "outputs": [],
   "source": [
    "bike_thefts_series_22.index"
   ]
  },
  {
   "cell_type": "code",
   "execution_count": null,
   "metadata": {},
   "outputs": [],
   "source": [
    "bike_thefts_series_22.describe()"
   ]
  },
  {
   "cell_type": "code",
   "execution_count": null,
   "metadata": {},
   "outputs": [],
   "source": [
    "(bike_thefts_series_22\n",
    ".resample('D')  #change frequency\n",
    ".mean()\n",
    ".plot.line()\n",
    ");"
   ]
  },
  {
   "cell_type": "code",
   "execution_count": null,
   "metadata": {},
   "outputs": [],
   "source": [
    "bike_thefts_series_22.isna().sum().sum()"
   ]
  },
  {
   "cell_type": "code",
   "execution_count": null,
   "metadata": {},
   "outputs": [],
   "source": [
    "(bike_thefts_series_22\n",
    " .resample('M')\n",
    " .sum()\n",
    " .div(bike_thefts_series_22.sum())\n",
    " .mul(100)\n",
    " .rename(lambda idx: idx.month_name())\n",
    " .plot.barh(title = '2022 Monthly Percent Bike Thefts')\n",
    " );"
   ]
  },
  {
   "cell_type": "code",
   "execution_count": null,
   "metadata": {},
   "outputs": [],
   "source": [
    "bike_thefts.save_intermediate_data(bike_thefts_series_22, 'bike_thefts_series_2022')"
   ]
  },
  {
   "cell_type": "code",
   "execution_count": null,
   "metadata": {},
   "outputs": [],
   "source": [
    "extract_2023.reset_index(inplace=True)\n",
    "extract_2023.head(2)"
   ]
  },
  {
   "cell_type": "code",
   "execution_count": null,
   "metadata": {},
   "outputs": [],
   "source": [
    "bike_thefts_series_23 = pd.DataFrame(extract_2023.groupby(['LOR', 'ANGELEGT_AM']).size(),\n",
    "                       columns = ['bike_theft_count']).reset_index()\n",
    "bike_thefts_series_23 = bike_thefts_series_23.set_index(bike_thefts_series_23['ANGELEGT_AM'])\n",
    "bike_thefts_series_23 = bike_thefts_series_23['bike_theft_count']\n",
    "bike_thefts_series_23.hist();"
   ]
  },
  {
   "cell_type": "code",
   "execution_count": null,
   "metadata": {},
   "outputs": [],
   "source": [
    "bike_thefts_series_23.describe()"
   ]
  },
  {
   "cell_type": "code",
   "execution_count": null,
   "metadata": {},
   "outputs": [],
   "source": [
    "(bike_thefts_series_23\n",
    ".resample('D')\n",
    ".mean()\n",
    ".plot.line()\n",
    ");"
   ]
  },
  {
   "cell_type": "code",
   "execution_count": null,
   "metadata": {},
   "outputs": [],
   "source": [
    "(bike_thefts_series_23\n",
    ".resample('W')\n",
    ".mean()\n",
    ".plot.barh()\n",
    ");"
   ]
  },
  {
   "cell_type": "code",
   "execution_count": null,
   "metadata": {},
   "outputs": [],
   "source": [
    "(bike_thefts_series_23\n",
    " .resample('M')\n",
    " .sum()\n",
    " .div(bike_thefts_series_23.sum())\n",
    " .mul(100)\n",
    " .rename(lambda idx: idx.month_name())\n",
    " .plot.barh(title = '2023 Monthly Percent Bike Thefts')\n",
    " );"
   ]
  },
  {
   "cell_type": "code",
   "execution_count": null,
   "metadata": {},
   "outputs": [],
   "source": [
    "bike_thefts.save_intermediate_data(bike_thefts_series_23, 'bike_thefts_series_2023')"
   ]
  },
  {
   "cell_type": "code",
   "execution_count": null,
   "metadata": {},
   "outputs": [],
   "source": [
    "df_transformed.drop(df_transformed.iloc[:, 0:4], axis=1, inplace=True)\n",
    "df_transformed.head(2) #check"
   ]
  },
  {
   "cell_type": "code",
   "execution_count": null,
   "metadata": {},
   "outputs": [],
   "source": [
    "bike_thefts.check_unique(df_transformed['crime_duration_hours'])  # check: can this be so long?"
   ]
  },
  {
   "cell_type": "code",
   "execution_count": null,
   "metadata": {},
   "outputs": [],
   "source": [
    "df_transformed.reset_index(inplace=True)\n",
    "df_transformed.head(2)"
   ]
  },
  {
   "cell_type": "code",
   "execution_count": null,
   "metadata": {},
   "outputs": [],
   "source": [
    "bike_thefts_LOR_year = pd.DataFrame(df_transformed.groupby(['LOR', 'year']).size(),\n",
    "                       columns = ['bike_theft_count'])\n",
    "bike_thefts_LOR_year = bike_thefts_LOR_year.reset_index()\n",
    "bike_thefts_LOR_year = bike_thefts_LOR_year.set_index('year').reset_index()\n",
    "bike_thefts_LOR_year.head(2)"
   ]
  },
  {
   "cell_type": "code",
   "execution_count": null,
   "metadata": {},
   "outputs": [],
   "source": [
    "bike_thefts.save_LOR_bike_thefts(\n",
    "    df = bike_thefts_LOR_year, \n",
    "    group_by =['LOR', 'year'],\n",
    "    col_names='bike_theft_count',\n",
    "    file = 'bike_thefts_year_LOR_count'\n",
    "    ) #check"
   ]
  },
  {
   "cell_type": "code",
   "execution_count": null,
   "metadata": {},
   "outputs": [],
   "source": []
  },
  {
   "cell_type": "code",
   "execution_count": null,
   "metadata": {},
   "outputs": [],
   "source": []
  },
  {
   "attachments": {},
   "cell_type": "markdown",
   "metadata": {},
   "source": [
    "## Plot categoricals"
   ]
  },
  {
   "cell_type": "code",
   "execution_count": null,
   "metadata": {},
   "outputs": [],
   "source": [
    "plot_cats = PlotBikeThefts()"
   ]
  },
  {
   "cell_type": "code",
   "execution_count": null,
   "metadata": {},
   "outputs": [],
   "source": [
    "plot_cats.plot_categoricals(df, 'bike_type');"
   ]
  },
  {
   "cell_type": "code",
   "execution_count": null,
   "metadata": {},
   "outputs": [],
   "source": [
    "plot_cats.plot_categoricals(df, 'description');"
   ]
  },
  {
   "cell_type": "code",
   "execution_count": null,
   "metadata": {},
   "outputs": [],
   "source": [
    "plot_cats.plot_categoricals(df, 'delict');"
   ]
  },
  {
   "cell_type": "code",
   "execution_count": null,
   "metadata": {},
   "outputs": [],
   "source": [
    "plot_cats.plot_categoricals(df, 'intent_delict');"
   ]
  },
  {
   "cell_type": "code",
   "execution_count": null,
   "metadata": {},
   "outputs": [],
   "source": [
    "plot_cats.plot_correlations(df);"
   ]
  },
  {
   "cell_type": "code",
   "execution_count": null,
   "metadata": {},
   "outputs": [],
   "source": []
  }
 ],
 "metadata": {
  "kernelspec": {
   "display_name": "stenv",
   "language": "python",
   "name": "python3"
  },
  "language_info": {
   "codemirror_mode": {
    "name": "ipython",
    "version": 3
   },
   "file_extension": ".py",
   "mimetype": "text/x-python",
   "name": "python",
   "nbconvert_exporter": "python",
   "pygments_lexer": "ipython3",
   "version": "3.9.11"
  },
  "vscode": {
   "interpreter": {
    "hash": "f780cc9064199338697ec1746b1b70a3a142444ce1abab5007bd12c24dddf5fd"
   }
  }
 },
 "nbformat": 4,
 "nbformat_minor": 2
}
