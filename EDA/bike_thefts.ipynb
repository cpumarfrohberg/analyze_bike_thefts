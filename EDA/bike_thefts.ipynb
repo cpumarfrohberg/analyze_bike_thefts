{
 "cells": [
  {
   "attachments": {},
   "cell_type": "markdown",
   "metadata": {},
   "source": [
    "# Bike Thefts Berlin - EDA"
   ]
  },
  {
   "cell_type": "code",
   "execution_count": 3,
   "metadata": {},
   "outputs": [],
   "source": [
    "import pandas as pd\n",
    "import numpy as np\n",
    "import seaborn as sns\n",
    "import matplotlib.pyplot as plt\n",
    "\n",
    "import warnings\n",
    "warnings.filterwarnings('ignore')"
   ]
  },
  {
   "cell_type": "code",
   "execution_count": 4,
   "metadata": {},
   "outputs": [],
   "source": [
    "df = pd.read_csv('../data/Fahrraddiebstahl.csv', index_col=0, parse_dates=True, encoding = 'unicode_escape')"
   ]
  },
  {
   "cell_type": "code",
   "execution_count": 5,
   "metadata": {},
   "outputs": [
    {
     "data": {
      "text/plain": [
       "TATZEIT_ANFANG_DATUM     0\n",
       "TATZEIT_ANFANG_STUNDE    0\n",
       "TATZEIT_ENDE_DATUM       0\n",
       "TATZEIT_ENDE_STUNDE      0\n",
       "LOR                      0\n",
       "SCHADENSHOEHE            0\n",
       "VERSUCH                  0\n",
       "ART_DES_FAHRRADS         0\n",
       "DELIKT                   0\n",
       "ERFASSUNGSGRUND          0\n",
       "dtype: int64"
      ]
     },
     "execution_count": 5,
     "metadata": {},
     "output_type": "execute_result"
    }
   ],
   "source": [
    "df.isna().sum()"
   ]
  },
  {
   "cell_type": "code",
   "execution_count": 6,
   "metadata": {},
   "outputs": [
    {
     "data": {
      "text/plain": [
       "array(['Fahrraddiebstahl', 'Keller- und Bodeneinbruch'], dtype=object)"
      ]
     },
     "execution_count": 6,
     "metadata": {},
     "output_type": "execute_result"
    }
   ],
   "source": [
    "df['DELIKT'].unique()"
   ]
  },
  {
   "cell_type": "code",
   "execution_count": null,
   "metadata": {},
   "outputs": [],
   "source": []
  },
  {
   "cell_type": "markdown",
   "metadata": {},
   "source": [
    "## Inspecting features"
   ]
  },
  {
   "cell_type": "code",
   "execution_count": 7,
   "metadata": {},
   "outputs": [],
   "source": [
    "def time_parser(df, time_parsables):\n",
    "    '''Parses columns encoded as strings to datetime-objects.'''\n",
    "    for col in time_parsables:\n",
    "        df[col] = pd.to_datetime(df[col])\n",
    "    return df"
   ]
  },
  {
   "cell_type": "code",
   "execution_count": 8,
   "metadata": {},
   "outputs": [],
   "source": [
    "def check_unique_vals(df):\n",
    "    '''Checks unique values per column.'''\n",
    "    for col in df.columns:\n",
    "        print(df[col].unique())"
   ]
  },
  {
   "cell_type": "code",
   "execution_count": 9,
   "metadata": {},
   "outputs": [
    {
     "name": "stdout",
     "output_type": "stream",
     "text": [
      "['18.02.2023' '17.02.2023' '19.02.2023' '16.02.2023' '12.02.2023'\n",
      " '13.02.2023' '15.02.2023' '10.02.2023' '11.02.2023' '27.01.2023'\n",
      " '17.02.2022' '12.01.2023' '14.02.2023' '06.01.2023' '24.01.2023'\n",
      " '19.12.2022' '08.02.2023' '06.02.2023' '15.01.2023' '12.08.2022'\n",
      " '01.02.2023' '26.01.2023' '28.01.2023' '09.02.2023' '07.02.2023'\n",
      " '10.12.2022' '10.01.2023' '03.02.2023' '31.01.2023' '17.01.2023'\n",
      " '22.01.2023' '05.12.2022' '20.01.2023' '29.12.2022' '10.10.2022'\n",
      " '25.01.2023' '10.11.2022' '05.02.2023' '01.01.2023' '19.11.2022'\n",
      " '04.02.2023' '07.02.2022' '21.01.2023' '23.01.2023' '02.02.2023'\n",
      " '17.11.2022' '30.01.2023' '04.01.2023' '11.01.2023' '19.01.2023'\n",
      " '09.12.2022' '29.01.2023' '01.02.2022' '14.01.2023' '13.01.2023'\n",
      " '16.01.2023' '18.11.2022' '22.09.2022' '28.12.2022' '18.01.2023'\n",
      " '12.12.2022' '03.01.2023' '31.07.2022' '20.12.2022' '08.01.2023'\n",
      " '24.01.2022' '19.10.2022' '08.12.2022' '23.01.2022' '07.01.2023'\n",
      " '21.01.2022' '04.12.2022' '27.12.2022' '27.10.2022' '16.12.2022'\n",
      " '26.12.2022' '26.11.2022' '29.11.2022' '09.01.2023' '17.01.2022'\n",
      " '24.11.2022' '05.11.2022' '14.09.2022' '09.10.2022' '05.02.2022'\n",
      " '30.12.2022' '17.12.2022' '01.12.2022' '08.06.2022' '30.11.2022'\n",
      " '05.01.2023' '01.11.2022' '31.12.2022' '07.12.2022' '11.11.2022'\n",
      " '02.01.2023' '11.01.2022' '12.11.2022' '05.10.2022' '28.10.2022'\n",
      " '18.12.2022' '21.10.2022' '07.11.2022' '10.01.2022' '09.01.2022'\n",
      " '20.09.2022' '20.11.2022' '15.12.2022' '22.11.2022' '25.12.2022'\n",
      " '21.12.2022' '03.09.2022' '22.12.2022' '13.12.2022' '27.11.2022'\n",
      " '04.01.2022' '06.12.2022' '23.12.2022' '08.08.2022' '25.11.2022'\n",
      " '14.12.2022' '24.12.2022' '17.09.2022' '30.09.2022' '12.10.2022'\n",
      " '15.10.2022' '02.12.2022' '16.09.2022' '03.12.2022' '09.11.2022'\n",
      " '11.12.2022' '13.11.2022' '31.10.2022' '20.07.2022' '21.11.2022'\n",
      " '21.08.2022' '16.11.2022' '04.11.2022' '28.11.2022' '02.11.2022'\n",
      " '16.10.2022' '23.11.2022' '20.10.2022' '06.11.2022' '22.10.2022'\n",
      " '15.11.2022' '14.11.2022' '26.10.2022' '06.07.2022' '29.10.2022'\n",
      " '13.10.2022' '10.08.2022' '23.06.2022' '14.10.2022' '29.07.2022'\n",
      " '08.11.2022' '01.10.2022' '25.10.2022' '17.10.2022' '18.10.2022'\n",
      " '21.09.2022' '11.10.2022' '23.07.2022' '24.10.2022' '29.09.2022'\n",
      " '27.08.2022' '03.10.2022' '03.11.2022' '26.09.2022' '08.10.2022'\n",
      " '30.10.2022' '31.08.2022' '23.10.2022' '06.10.2022' '05.09.2022'\n",
      " '25.09.2022' '28.09.2022' '04.10.2022' '28.07.2022' '24.09.2022'\n",
      " '09.09.2022' '02.10.2022' '07.10.2022' '26.08.2022' '01.09.2022'\n",
      " '23.08.2022' '15.09.2022' '12.07.2022' '25.04.2022' '15.04.2022'\n",
      " '27.09.2022' '25.05.2022' '02.09.2022' '10.09.2022' '23.09.2022'\n",
      " '01.08.2022' '11.03.2022' '22.08.2022' '19.09.2022' '15.08.2022'\n",
      " '09.07.2022' '07.09.2022' '05.05.2022' '31.05.2022' '06.09.2022'\n",
      " '02.08.2022' '30.08.2022' '13.09.2022' '12.09.2022' '28.08.2022'\n",
      " '22.07.2022' '04.09.2022' '10.07.2022' '08.09.2022' '02.06.2022'\n",
      " '10.06.2022' '18.09.2022' '11.09.2022' '20.04.2022' '13.08.2022'\n",
      " '27.06.2022' '10.04.2022' '19.08.2022' '11.07.2022' '15.05.2022'\n",
      " '06.08.2022' '15.06.2022' '16.08.2022' '24.08.2022' '07.05.2022'\n",
      " '07.06.2022' '21.07.2022' '28.06.2022' '18.08.2022' '25.08.2022'\n",
      " '17.08.2022' '25.06.2022' '29.08.2022' '20.08.2022' '15.07.2022'\n",
      " '03.08.2022' '05.08.2022' '26.02.2022' '03.02.2022' '03.06.2022'\n",
      " '01.07.2022' '24.07.2022' '07.08.2022' '30.07.2022' '14.08.2022'\n",
      " '16.07.2022' '17.07.2022' '04.08.2022' '19.07.2022' '09.08.2022'\n",
      " '25.07.2022' '02.03.2022' '14.07.2022' '03.07.2022' '26.07.2022'\n",
      " '11.08.2022' '27.05.2022' '08.07.2022' '05.07.2022' '07.07.2022'\n",
      " '04.06.2022' '23.03.2022' '18.07.2022' '27.07.2022' '12.06.2022'\n",
      " '26.06.2022' '28.05.2022' '29.06.2022' '22.04.2022' '20.06.2022'\n",
      " '24.06.2022' '27.04.2022' '10.05.2022' '13.07.2022' '21.06.2022'\n",
      " '30.06.2022' '19.03.2022' '22.05.2022' '18.03.2022' '19.05.2022'\n",
      " '02.07.2022' '21.05.2022' '19.06.2022' '17.06.2022' '14.05.2022'\n",
      " '24.05.2022' '14.06.2022' '04.07.2022' '22.06.2022' '01.06.2022'\n",
      " '17.04.2022' '11.05.2022' '13.06.2022' '06.06.2022' '12.05.2022'\n",
      " '09.06.2022' '16.06.2022' '23.05.2022' '18.06.2022' '31.03.2022'\n",
      " '11.06.2022' '16.04.2022' '12.04.2022' '16.05.2022' '08.05.2022'\n",
      " '22.02.2022' '29.05.2022' '05.06.2022' '26.05.2022' '23.02.2022'\n",
      " '30.05.2022' '20.05.2022' '09.05.2022' '06.05.2022' '20.01.2022'\n",
      " '28.04.2022' '03.05.2022' '04.04.2022' '13.05.2022' '14.04.2022'\n",
      " '18.05.2022' '06.04.2022' '17.05.2022' '11.04.2022' '28.02.2022'\n",
      " '02.05.2022' '04.05.2022' '23.04.2022' '30.04.2022' '29.04.2022'\n",
      " '28.01.2022' '09.03.2022' '24.04.2022' '01.05.2022' '08.04.2022'\n",
      " '27.02.2022' '20.03.2022' '05.04.2022' '26.04.2022' '30.03.2022'\n",
      " '21.03.2022' '21.04.2022' '19.04.2022' '13.04.2022' '28.03.2022'\n",
      " '01.04.2022' '27.03.2022' '18.04.2022' '03.04.2022' '07.04.2022'\n",
      " '02.04.2022' '09.04.2022' '29.03.2022' '25.03.2022' '12.03.2022'\n",
      " '16.01.2022' '01.01.2022' '26.03.2022' '04.03.2022' '07.03.2022'\n",
      " '01.03.2022' '22.03.2022' '16.03.2022' '25.02.2022' '08.03.2022'\n",
      " '05.03.2022' '13.03.2022' '22.01.2022' '10.03.2022' '27.01.2022'\n",
      " '14.03.2022' '15.03.2022' '24.03.2022' '17.03.2022' '11.02.2022'\n",
      " '20.02.2022' '15.02.2022' '03.03.2022' '30.01.2022' '15.01.2022'\n",
      " '06.03.2022' '18.02.2022' '14.01.2022' '14.02.2022' '24.02.2022'\n",
      " '08.02.2022' '10.02.2022' '13.02.2022' '04.02.2022' '16.02.2022'\n",
      " '21.02.2022' '12.01.2022' '19.02.2022' '25.01.2022' '09.02.2022'\n",
      " '18.01.2022' '12.02.2022' '02.02.2022' '06.02.2022' '13.01.2022'\n",
      " '29.01.2022' '31.01.2022' '02.01.2022' '06.01.2022' '26.01.2022'\n",
      " '19.01.2022' '03.01.2022' '07.01.2022' '08.01.2022' '05.01.2022']\n",
      "[18 20 16 17 11 22 23 12 19 15  7  8 13  0 14  4 10  9 21  5  3  1  6  2]\n",
      "['19.02.2023' '17.02.2023' '18.02.2023' '12.02.2023' '13.02.2023'\n",
      " '16.02.2023' '10.02.2023' '15.02.2023' '28.01.2023' '17.02.2022'\n",
      " '12.01.2023' '14.02.2023' '07.01.2023' '11.02.2023' '25.01.2023'\n",
      " '20.12.2022' '08.02.2023' '06.02.2023' '15.01.2023' '14.08.2022'\n",
      " '01.02.2023' '27.01.2023' '29.01.2023' '02.02.2023' '09.02.2023'\n",
      " '10.12.2022' '10.01.2023' '07.02.2023' '04.02.2023' '31.01.2023'\n",
      " '17.01.2023' '22.01.2023' '05.12.2022' '23.01.2023' '29.12.2022'\n",
      " '26.01.2023' '11.10.2022' '10.11.2022' '05.02.2023' '02.01.2023'\n",
      " '20.11.2022' '07.02.2022' '21.01.2023' '24.01.2023' '03.02.2023'\n",
      " '18.11.2022' '04.01.2023' '30.01.2023' '11.01.2023' '19.01.2023'\n",
      " '14.01.2023' '20.01.2023' '02.02.2022' '13.01.2023' '16.01.2023'\n",
      " '22.09.2022' '05.01.2023' '30.12.2022' '18.01.2023' '14.12.2022'\n",
      " '06.01.2023' '31.07.2022' '09.01.2023' '24.01.2022' '19.10.2022'\n",
      " '09.12.2022' '28.12.2022' '22.01.2022' '04.12.2022' '27.12.2022'\n",
      " '27.10.2022' '17.12.2022' '03.01.2023' '27.11.2022' '30.11.2022'\n",
      " '08.12.2022' '18.01.2022' '24.11.2022' '06.11.2022' '14.09.2022'\n",
      " '10.10.2022' '05.02.2022' '08.01.2023' '01.12.2022' '08.06.2022'\n",
      " '02.11.2022' '31.12.2022' '16.12.2022' '17.11.2022' '07.12.2022'\n",
      " '11.11.2022' '29.11.2022' '11.01.2022' '26.12.2022' '14.11.2022'\n",
      " '05.10.2022' '28.10.2022' '19.12.2022' '24.10.2022' '07.11.2022'\n",
      " '10.01.2022' '20.09.2022' '21.11.2022' '15.12.2022' '01.01.2023'\n",
      " '25.11.2022' '25.12.2022' '21.12.2022' '09.01.2022' '03.09.2022'\n",
      " '13.12.2022' '23.12.2022' '05.01.2022' '12.12.2022' '08.08.2022'\n",
      " '24.12.2022' '17.09.2022' '22.12.2022' '18.12.2022' '30.09.2022'\n",
      " '12.10.2022' '02.12.2022' '16.10.2022' '12.11.2022' '04.09.2022'\n",
      " '03.12.2022' '09.11.2022' '11.12.2022' '13.10.2022' '06.12.2022'\n",
      " '13.11.2022' '31.10.2022' '20.07.2022' '22.11.2022' '22.08.2022'\n",
      " '16.11.2022' '05.11.2022' '03.11.2022' '09.08.2022' '21.07.2022'\n",
      " '23.11.2022' '15.10.2022' '19.11.2022' '21.10.2022' '23.10.2022'\n",
      " '15.11.2022' '22.10.2022' '28.11.2022' '30.10.2022' '06.07.2022'\n",
      " '26.11.2022' '10.08.2022' '24.06.2022' '08.11.2022' '14.10.2022'\n",
      " '30.07.2022' '01.10.2022' '25.10.2022' '18.10.2022' '17.10.2022'\n",
      " '21.09.2022' '25.07.2022' '26.10.2022' '29.09.2022' '04.11.2022'\n",
      " '20.10.2022' '01.11.2022' '28.08.2022' '09.10.2022' '04.10.2022'\n",
      " '26.09.2022' '29.10.2022' '08.10.2022' '01.09.2022' '03.10.2022'\n",
      " '06.10.2022' '05.09.2022' '02.10.2022' '28.07.2022' '24.09.2022'\n",
      " '09.09.2022' '25.09.2022' '07.10.2022' '26.08.2022' '24.08.2022'\n",
      " '15.09.2022' '13.07.2022' '19.09.2022' '26.04.2022' '16.04.2022'\n",
      " '16.09.2022' '26.05.2022' '11.09.2022' '23.09.2022' '02.08.2022'\n",
      " '11.03.2022' '27.09.2022' '29.07.2022' '28.09.2022' '18.08.2022'\n",
      " '23.08.2022' '10.07.2022' '01.08.2022' '07.09.2022' '05.05.2022'\n",
      " '02.06.2022' '06.09.2022' '30.08.2022' '18.09.2022' '12.09.2022'\n",
      " '23.07.2022' '02.09.2022' '10.09.2022' '12.07.2022' '08.09.2022'\n",
      " '13.09.2022' '10.06.2022' '21.04.2022' '13.08.2022' '29.06.2022'\n",
      " '11.04.2022' '20.08.2022' '11.07.2022' '15.05.2022' '27.08.2022'\n",
      " '06.08.2022' '15.06.2022' '31.08.2022' '07.08.2022' '17.08.2022'\n",
      " '25.08.2022' '08.05.2022' '24.07.2022' '07.06.2022' '28.06.2022'\n",
      " '19.08.2022' '25.06.2022' '21.08.2022' '29.08.2022' '16.07.2022'\n",
      " '04.08.2022' '15.07.2022' '03.08.2022' '28.02.2022' '16.08.2022'\n",
      " '22.07.2022' '01.02.2022' '03.06.2022' '01.07.2022' '12.08.2022'\n",
      " '17.07.2022' '25.04.2022' '05.08.2022' '11.08.2022' '26.07.2022'\n",
      " '03.03.2022' '14.07.2022' '15.08.2022' '03.07.2022' '16.06.2022'\n",
      " '27.05.2022' '09.07.2022' '08.07.2022' '05.06.2022' '23.03.2022'\n",
      " '06.06.2022' '04.07.2022' '27.07.2022' '18.07.2022' '02.07.2022'\n",
      " '12.06.2022' '26.06.2022' '28.05.2022' '22.04.2022' '07.07.2022'\n",
      " '05.07.2022' '20.06.2022' '27.04.2022' '11.05.2022' '21.06.2022'\n",
      " '09.06.2022' '22.03.2022' '23.05.2022' '19.07.2022' '19.03.2022'\n",
      " '20.05.2022' '30.06.2022' '27.06.2022' '21.05.2022' '19.06.2022'\n",
      " '17.06.2022' '22.06.2022' '14.05.2022' '13.06.2022' '24.05.2022'\n",
      " '14.06.2022' '18.04.2022' '23.06.2022' '12.05.2022' '04.06.2022'\n",
      " '25.05.2022' '18.06.2022' '01.04.2022' '16.05.2022' '13.05.2022'\n",
      " '11.06.2022' '06.05.2022' '01.06.2022' '31.05.2022' '12.04.2022'\n",
      " '22.02.2022' '30.05.2022' '09.05.2022' '22.05.2022' '23.02.2022'\n",
      " '29.05.2022' '21.01.2022' '28.04.2022' '04.05.2022' '04.04.2022'\n",
      " '14.04.2022' '19.05.2022' '18.05.2022' '06.04.2022' '17.05.2022'\n",
      " '31.03.2022' '02.05.2022' '08.04.2022' '20.04.2022' '24.04.2022'\n",
      " '07.05.2022' '30.04.2022' '01.05.2022' '29.01.2022' '03.05.2022'\n",
      " '10.05.2022' '09.03.2022' '10.03.2022' '29.04.2022' '23.04.2022'\n",
      " '06.01.2022' '27.02.2022' '19.04.2022' '21.03.2022' '18.03.2022'\n",
      " '05.04.2022' '02.04.2022' '13.04.2022' '29.03.2022' '28.03.2022'\n",
      " '03.04.2022' '07.04.2022' '12.03.2022' '13.03.2022' '10.04.2022'\n",
      " '17.04.2022' '15.04.2022' '09.04.2022' '30.03.2022' '25.03.2022'\n",
      " '26.03.2022' '17.01.2022' '01.01.2022' '27.03.2022' '20.03.2022'\n",
      " '04.03.2022' '07.03.2022' '01.03.2022' '16.03.2022' '26.02.2022'\n",
      " '08.03.2022' '05.03.2022' '23.01.2022' '27.01.2022' '14.03.2022'\n",
      " '24.03.2022' '17.03.2022' '11.02.2022' '20.02.2022' '16.02.2022'\n",
      " '02.03.2022' '30.01.2022' '06.03.2022' '15.03.2022' '10.02.2022'\n",
      " '16.01.2022' '13.02.2022' '18.02.2022' '24.02.2022' '08.02.2022'\n",
      " '19.02.2022' '25.01.2022' '15.02.2022' '09.02.2022' '25.02.2022'\n",
      " '28.01.2022' '04.01.2022' '04.02.2022' '21.02.2022' '12.01.2022'\n",
      " '14.02.2022' '12.02.2022' '03.02.2022' '06.02.2022' '15.01.2022'\n",
      " '14.01.2022' '19.01.2022' '31.01.2022' '03.01.2022' '07.01.2022'\n",
      " '26.01.2022' '20.01.2022' '13.01.2022' '08.01.2022' '02.01.2022']\n",
      "[ 7  9  0 17 21 22  1 16 10 14 13 19 11 15 18  3  4 12  8 23 20  2  5  6]\n",
      "[ 3701658  1100308  6100102  7601544  3601346  3400723  1200522  5300737\n",
      "  3701554  3400620  1300834  2500835  3601245  2200208  2100104  3601141\n",
      "  8100312  9501940  2200211 12400720  6400839  9100304 11501340  9401329\n",
      "  4300517  6200421  2500830  5200632  2200209  7300619 11501341  3601348\n",
      " 11300725  3601140  2400520  2500727  1100102  4501042  2200207  7400720\n",
      "  7200308  4501147  3601243  6100206  4501149  2200212  7100205  4400830\n",
      "  7100204  8100311 10100315  1300733  4300622  1100312  8100415 12200515\n",
      "  1100414  1300835 12400617  4200310  4501044 11300724  7200411  4300620\n",
      "  4501148  9200715  7200410  3701555 11100101  2200210  4501043  7100101\n",
      "  8100418  1200625  5300840 11200513  2200213 10200417  1401048  1100103\n",
      "  1100313  2400623 12500825  9300921  2300417  2400522  3300412  2500834\n",
      "  8100209  9100101  4400727  6400737  4200308  3100103  1400937  2300314\n",
      "  8100416  1200517  4501151  3601142  1200629  2500728  1401049  8100208\n",
      "  3400724  6400844  8100207  3601451  3100102  7100103  2500833  8100419\n",
      "  6300526  6100207  2500836  1300731  2300419  8100310 10300731  8200833\n",
      "  2500832  2300418  8100314  7200413 11401136  3200206  1100309  2100106\n",
      "  3400826  8200623 10300734  2300315  8300934  6400735  3701556 12100205\n",
      "  8100101  1100415  8100206  3601244  1100416 12200309  5200629  2400521\n",
      "  4400834  3601452  1401043  4300412  1300732  7100102  1100207  9501838\n",
      "  8100313  9501737  1100206  4200206  9100202  1200628  3400721 10300732\n",
      " 11401034  1300730  2500729  7300618  9200818 11400930  2300316  3501037\n",
      "  9401534  5100209  1401047  8100102 12100101  6300633  2400625  1100311\n",
      "  2500726  3400830  4300414  3400725  4300415  7300516  3701660  9501939\n",
      "  7400928  2100101 12400721  7200409 11300722  4500938  2100103  5100313\n",
      "  9200613 12601134  4501153 11401032  8100417  3300516 11501238  4400835\n",
      "  4200309  9200512  5100315  1401044  9200717  3500932  9301025  4501152\n",
      "  4501150  9100407  1401046  1200521  7400824  4300621 12500927  3400829\n",
      "  4200311 11300826  9401635 12601032  6100101  3701659 10200629  4200207\n",
      "  7200307 12400619  7400823  3500934  4300623  2400624 11400929  7300517\n",
      "  9100409  9100305  4400832  9501736  1300836 12400723  1400942  4300416\n",
      "  3500936  5300735 11100308  6300528  1200518  1401045 11100102  8100103\n",
      "  3601453 10200420  7601442  2100102  3200205  9200716  9502043  5300841\n",
      " 12200308 11300617  4300624 11401137 10400837  7501134 11200514  6300632\n",
      "  1200624  8401243 12500928  6100208 11200515  8100104  3601450  1100205\n",
      " 10400836  7100206  2100105  3400827 11400927  7501133  1400938  3300514\n",
      "  6200422  6100209 10100316  3601347  7601546 10300733 10100208  5300736\n",
      "  9401431 12100206  3400619  4300413  6100210  6200314  8401246 11400931\n",
      "  9502042 10200627  6300629  5100314  4501041  7300515  7601548  6100103\n",
      "  8100105 10200628  7501031  2500831  3501038  5100316 12500926 10400939\n",
      "  9200511  7601238  3500933  6400838  3300411  6400736 10200421  1200519\n",
      " 11100203  6300524  5100104  1100104  9100408  5200528  4300518  5300839\n",
      "  7400927  6200317  1200520  5100210  4500936  4501040  6200313 10100209\n",
      " 10100311  8200725 11200410  1100310 10200524  9301126  7200414 10100312\n",
      "  3601449  5200527  5200630 11300619  9301024  6400843  6300631  1200623\n",
      " 12500824 11300618 11300616  3601139  5100312  3500935  7400822 11401033\n",
      " 10400835  4400833  1400939 11300721  6300634  4501045 11200512  3200207\n",
      "  4501146 12200412  1400940  6400841 10100206  8401244 10200526  9300920\n",
      "  5100101  4400725  9200819  5100102  7200412  3400828  6200420  4400726\n",
      "  6300527  8200727  3400618  7601545  8301037 10200418  8200729  6400840\n",
      "  7400825 12500929  4300619  3701657  4500937  9100203  3200310  5100103\n",
      " 10200419 12601133  1100101  4400728  7400826 12400722 11300723  5200423\n",
      " 11501339  8300935  7400721  6300630  5200634 10100101 11300620  6200312\n",
      " 11100309  3200308  4100101  3300413  8200730  8100521  4500939  5200524\n",
      "  5100207 10100210  3400831  6400842  5200631 12100204  1200627  1200626\n",
      "  8301036  3200309  5400943  7601341  7601237 12500930  3300517 11401135\n",
      "  6100205 10400940  7501030 11100206  5100211  8100520  4200203 11200411\n",
      "  7501032 11400928 12601031 12100102  9300923 12200307 10400938 12200413\n",
      "  9200510  6300525 12100103  9300922  5400945 12200310  8401139 10400941\n",
      "  8200728  8200622  6200419  6200315  9401432 10100103  8401138  5400944\n",
      " 11100204  5100317  7601443  5100105  3400722 11100205  8200726 12400616\n",
      "  1400941  3100101  7501029 10200423  4400729  8401245  9501941  5200420\n",
      " 12400618 11100307 10100313  9401433 10200525  4200205 12601235  8200624\n",
      "  8401242  4200204  9200614 12200414  8200832 10200630 12601236 10100205\n",
      "  5100208  5200421  6200311  6100204  7601340 10100207  4400831  7601236\n",
      "  8200831  5400942  9100306  5200633 10100314  9301228  8401140  6200316\n",
      "  5200525  4100102 10100104  6200423  5300838  7501135  8401241 10100102\n",
      "  3200204  5200418 10200422  9401330  5200526  5100206  9301227  5200419\n",
      "  7601547  5200422  7601339 12200411]\n",
      "[3472 2277  746 ... 2531 2445 1698]\n",
      "['Nein' 'Unbekannt' 'Ja']\n",
      "['Herrenfahrrad' 'Damenfahrrad' 'Mountainbike' 'diverse Fahrräder'\n",
      " 'Fahrrad' 'Kinderfahrrad' 'Rennrad' 'Lastenfahrrad']\n",
      "['Fahrraddiebstahl' 'Keller- und Bodeneinbruch']\n",
      "['Sonstiger schwerer Diebstahl von Fahrrädern'\n",
      " 'Einfacher Diebstahl von Fahrrädern'\n",
      " 'Sonstiger schwerer Diebstahl in/aus Keller/Boden von Fahrrädern'\n",
      " 'Einfacher Diebstahl aus Keller/Boden von Fahrrädern']\n"
     ]
    }
   ],
   "source": [
    "check_unique_vals(df)"
   ]
  },
  {
   "cell_type": "code",
   "execution_count": null,
   "metadata": {},
   "outputs": [],
   "source": [
    "df.head(3)"
   ]
  },
  {
   "cell_type": "code",
   "execution_count": null,
   "metadata": {},
   "outputs": [],
   "source": [
    "time_parsable = ['TATZEIT_ANFANG_DATUM', 'TATZEIT_ENDE_DATUM', 'TATZEIT_ANFANG_STUNDE', 'TATZEIT_ANFANG_STUNDE']"
   ]
  },
  {
   "attachments": {},
   "cell_type": "markdown",
   "metadata": {},
   "source": [
    "Plan:\n",
    "- parse relevant time-related cols to datetime so that you can calculate time periods. Done\n",
    "- group by: district and plot n(thefts). Done\n",
    "- plot thru time\n",
    "- check distributions\n",
    "- check correlations\n",
    "- check for time gaps, and interpolate them"
   ]
  },
  {
   "cell_type": "code",
   "execution_count": null,
   "metadata": {},
   "outputs": [],
   "source": [
    "df_time_parsed = time_parser(df, time_parsable)"
   ]
  },
  {
   "cell_type": "code",
   "execution_count": null,
   "metadata": {},
   "outputs": [],
   "source": [
    "df_time_parsed[\"Year\"] = df_time_parsed.index.year\n",
    "df_time_parsed[\"Month\"] = df_time_parsed.index.month"
   ]
  },
  {
   "cell_type": "code",
   "execution_count": null,
   "metadata": {},
   "outputs": [],
   "source": [
    "df_time_parsed.head()"
   ]
  },
  {
   "cell_type": "code",
   "execution_count": null,
   "metadata": {},
   "outputs": [],
   "source": [
    "y = df_time_parsed['SCHADENSHOEHE']"
   ]
  },
  {
   "cell_type": "code",
   "execution_count": null,
   "metadata": {},
   "outputs": [],
   "source": [
    "p = df_time_parsed.groupby('LOR')['SCHADENSHOEHE'].mean().hist()\n",
    "plt.xticks(rotation=45)\n",
    "p;"
   ]
  },
  {
   "cell_type": "markdown",
   "metadata": {},
   "source": [
    "## EDA - features"
   ]
  },
  {
   "cell_type": "code",
   "execution_count": null,
   "metadata": {},
   "outputs": [],
   "source": [
    "p4 = df.groupby([\"Year\",\"Month\"])[\"n(Loans)_Outstanding_Other\"].mean().plot() \n",
    "plt.xticks(rotation=45)\n",
    "p4"
   ]
  },
  {
   "cell_type": "markdown",
   "metadata": {},
   "source": [
    "### The number of transactions of SME clients of the SB with other institutions have decreased strongly since the year 2020.\n",
    "* in the year 2021 these transactions skyrocket. Maintained outliers. "
   ]
  },
  {
   "cell_type": "markdown",
   "metadata": {},
   "source": [
    "#### EDA - amount of last disbursements (at each cut-off date) => \"monetary\""
   ]
  },
  {
   "cell_type": "code",
   "execution_count": null,
   "metadata": {},
   "outputs": [],
   "source": [
    "p5 = df.groupby([\"Year\",\"Month\"])[\"Amount_Last_Disbursement\"].mean().plot() \n",
    "plt.xticks(rotation=45)\n",
    "p5"
   ]
  },
  {
   "cell_type": "markdown",
   "metadata": {},
   "source": [
    "### During the time period between 2018 and May 2021 the amounts disbursed to SME clients tended to decrease.\n",
    "* trend changes in april 2021. Maintained outliers. "
   ]
  },
  {
   "cell_type": "markdown",
   "metadata": {},
   "source": [
    "#### EDA - total accumulated interest since last disbursement, per client (at each cut-off date) => \"monetary\""
   ]
  },
  {
   "cell_type": "code",
   "execution_count": null,
   "metadata": {},
   "outputs": [],
   "source": [
    "p6 = df.groupby([\"Year\", \"Month\"])[\"Total_Accumulated_Interest_per_Client\"].mean().plot()\n",
    "plt.xticks(rotation=45)\n",
    "p6"
   ]
  },
  {
   "cell_type": "markdown",
   "metadata": {},
   "source": [
    "### Accumulated interest skyrockets at the beginning of 2020 and decreases sharply in the course of the year to pre 2020 levels.\n",
    "* in the year 2021 interest accumulated skyrockets again. Maintained outliers. "
   ]
  },
  {
   "cell_type": "code",
   "execution_count": null,
   "metadata": {},
   "outputs": [],
   "source": [
    "# drop time-related cols again\n",
    "df.drop([\"Year\", \"Month\"], axis = 1, inplace = True)"
   ]
  },
  {
   "cell_type": "markdown",
   "metadata": {},
   "source": [
    "#### EDA - socioeconomic features "
   ]
  },
  {
   "cell_type": "code",
   "execution_count": null,
   "metadata": {},
   "outputs": [],
   "source": [
    "(p9.ggplot(data=df,\n",
    "           mapping=p9.aes(x=\"Client_Age_Years\")\n",
    "                       )\n",
    "    + p9.geom_bar(\n",
    "       alpha=0.4,\n",
    "        color='#F6F6F6', \n",
    "        fill='#0C475B')\n",
    "    + p9.facet_wrap(\"Client_Status_Post3Months\")\n",
    ")"
   ]
  },
  {
   "cell_type": "markdown",
   "metadata": {},
   "source": [
    "Result not intuitive, since the majority group are customers that do not churn. I conclude that churn has been encoded wrongly. Hence, re-enconding churn as \"1\":"
   ]
  },
  {
   "cell_type": "code",
   "execution_count": null,
   "metadata": {},
   "outputs": [],
   "source": [
    "df[\"Client_Status_Post3Months\"].unique"
   ]
  },
  {
   "cell_type": "code",
   "execution_count": null,
   "metadata": {},
   "outputs": [],
   "source": [
    "df[\"Client_Status_Post3Months\"] = df[\"Client_Status_Post3Months\"].replace({0:1, 1:0})"
   ]
  },
  {
   "cell_type": "code",
   "execution_count": null,
   "metadata": {},
   "outputs": [],
   "source": [
    "df[\"Client_Status_Post3Months\"].unique"
   ]
  },
  {
   "cell_type": "code",
   "execution_count": null,
   "metadata": {},
   "outputs": [],
   "source": [
    "(p9.ggplot(data=df,\n",
    "           mapping=p9.aes(x=\"Client_Age_Years\")\n",
    "                       )\n",
    "    + p9.geom_bar(\n",
    "       alpha=0.4,\n",
    "        color='#F6F6F6', \n",
    "        fill='#0C475B')\n",
    "    + p9.facet_wrap(\"Client_Status_Post3Months\")\n",
    ")"
   ]
  },
  {
   "cell_type": "markdown",
   "metadata": {},
   "source": [
    "Now it makes sense: distribution of minority group shows less counts compared to majority group."
   ]
  },
  {
   "cell_type": "code",
   "execution_count": null,
   "metadata": {},
   "outputs": [],
   "source": [
    "(p9.ggplot(data=df,\n",
    "          mapping=p9.aes(x=\"Client_Sex\")\n",
    "                       )\n",
    "    + p9.geom_bar(\n",
    "       alpha=0.4,\n",
    "       color='#F6F6F6', \n",
    "        fill='#0C475B')\n",
    "    + p9.facet_wrap(\"Client_Status_Post3Months\")\n",
    ")"
   ]
  },
  {
   "cell_type": "markdown",
   "metadata": {},
   "source": [
    "Gender has been encoded as: \"1\" women...resulting plot makes sense, since proportion of male clients is higher in practice."
   ]
  },
  {
   "cell_type": "code",
   "execution_count": null,
   "metadata": {},
   "outputs": [],
   "source": [
    "(p9.ggplot(data=df,\n",
    "          mapping=p9.aes(x=\"Resident_Capital\")\n",
    "                       )\n",
    "    + p9.geom_bar(\n",
    "       alpha=0.4,\n",
    "       color='#F6F6F6', \n",
    "       fill='#0C475B')\n",
    "    + p9.facet_wrap(\"Client_Status_Post3Months\")\n",
    ")"
   ]
  },
  {
   "cell_type": "markdown",
   "metadata": {},
   "source": [
    "Intuitive: \n",
    "- minority group has less counts than majority group\n",
    "- for both groups: the majority of counts are masculine customers\n",
    "- for both genders: most of the customers in the portfolio are clients that actually live in the capital city\n"
   ]
  },
  {
   "cell_type": "code",
   "execution_count": null,
   "metadata": {},
   "outputs": [],
   "source": [
    "(p9.ggplot(data=df,\n",
    "          mapping=p9.aes(x=\"Client_Married\")\n",
    "                       )\n",
    "   + p9.geom_bar(\n",
    "       alpha=0.4,\n",
    "       color='#F6F6F6', \n",
    "       fill='#0C475B')\n",
    "    + p9.facet_wrap(\"Client_Status_Post3Months\")\n",
    ")"
   ]
  },
  {
   "cell_type": "markdown",
   "metadata": {},
   "source": [
    "Intuitive: \n",
    "- same interpretation as prior bar plot - only re marital status of customers."
   ]
  },
  {
   "cell_type": "markdown",
   "metadata": {},
   "source": [
    "## EDA - correlation between features and target (\"client status\")"
   ]
  },
  {
   "cell_type": "code",
   "execution_count": null,
   "metadata": {},
   "outputs": [],
   "source": [
    "corr = df.corr()\n",
    "\n",
    "mask = np.triu(np.ones_like(corr, dtype=bool))\n",
    "\n",
    "f, ax = plt.subplots(figsize=(8, 6))\n",
    "\n",
    "cmap = sns.diverging_palette(230, 20, as_cmap=True)\n",
    "\n",
    "sns.heatmap(corr, mask=mask, cmap=cmap, vmax=.3, center=0,\n",
    "             square=True, linewidths=.5, cbar_kws={\"shrink\": .5})"
   ]
  },
  {
   "cell_type": "markdown",
   "metadata": {},
   "source": [
    "\"Zooming in\"..."
   ]
  },
  {
   "cell_type": "code",
   "execution_count": null,
   "metadata": {},
   "outputs": [],
   "source": [
    "df_RFM = df.drop([\"Resident_Capital\", \"Client_Age_Years\",\"Client_Sex\", \"Client_Married\",\"LO_Active_Employee_Post3Months\",\n",
    "                 \"LO_Active_Employee_Post6Months\", \"LO_Active_Employee_Prior3Months\", \"LO_Active_Employee_Prior6Months\",\n",
    "                 \"LO_Changed\", \"n(Months)_Change_LO\"], axis = 1)"
   ]
  },
  {
   "cell_type": "code",
   "execution_count": null,
   "metadata": {},
   "outputs": [],
   "source": [
    "corr_RFM = df_RFM.corr()\n",
    "\n",
    "mask = np.triu(np.ones_like(corr_RFM, dtype=bool))\n",
    "\n",
    "f, ax = plt.subplots(figsize=(8, 6))\n",
    "\n",
    "cmap = sns.diverging_palette(230, 20, as_cmap=True)\n",
    "\n",
    "sns.heatmap(corr_RFM, mask=mask, cmap=cmap, vmax=.3, center=0,\n",
    "             square=True, linewidths=.5, cbar_kws={\"shrink\": .5})"
   ]
  },
  {
   "cell_type": "markdown",
   "metadata": {},
   "source": [
    "Socioeconomic variables and target variable do not show high correlations."
   ]
  },
  {
   "cell_type": "code",
   "execution_count": null,
   "metadata": {},
   "outputs": [],
   "source": [
    "df_RFM = df_LO = df.drop([\"Resident_Capital\", \"Client_Age_Years\",\"Client_Sex\", \"Client_Married\",\"Amount_Last_Disbursement\",\n",
    "                 \"n(Months)_Since_Last_Disbursement\", \"n(Loans)_Outstanding_Maynas\", \"n(Loans)_Outstanding_Other\",\n",
    "                 \"n(Additional_Loans)_Post3Months\", \"n(Additional_Loans)_Post6Months\", \"Total_Accumulated_Interest_per_Client\",\n",
    "                 \"n(Additional_Loans)_Pre3Months\", \"n(Additional_Loans)_Pre6Months\"]      \n",
    "                 , axis = 1)"
   ]
  },
  {
   "cell_type": "code",
   "execution_count": null,
   "metadata": {},
   "outputs": [],
   "source": [
    "corr_LO = df_LO.corr()\n",
    "\n",
    "mask = np.triu(np.ones_like(corr_LO, dtype=bool))\n",
    "\n",
    "f, ax = plt.subplots(figsize=(8, 6))\n",
    "\n",
    "cmap = sns.diverging_palette(230, 20, as_cmap=True)\n",
    "\n",
    "sns.heatmap(corr_LO, mask=mask, cmap=cmap, vmax=.3, center=0,\n",
    "             square=True, linewidths=.5, cbar_kws={\"shrink\": .5})"
   ]
  },
  {
   "cell_type": "markdown",
   "metadata": {},
   "source": [
    "### Main correlations between features and the target variable are found with those variables that describe relationship between clients and their Loan Officers!"
   ]
  },
  {
   "cell_type": "markdown",
   "metadata": {},
   "source": [
    "## Checking for class imbalance"
   ]
  },
  {
   "cell_type": "code",
   "execution_count": null,
   "metadata": {},
   "outputs": [],
   "source": [
    "df.info()"
   ]
  },
  {
   "cell_type": "code",
   "execution_count": null,
   "metadata": {},
   "outputs": [],
   "source": [
    "y = df[\"Client_Status_Post3Months\"]"
   ]
  },
  {
   "cell_type": "code",
   "execution_count": null,
   "metadata": {},
   "outputs": [],
   "source": [
    "(y == 1).sum(), (y == 0).sum() "
   ]
  },
  {
   "cell_type": "code",
   "execution_count": null,
   "metadata": {},
   "outputs": [],
   "source": [
    "y.value_counts()/df.shape[0]"
   ]
  },
  {
   "cell_type": "markdown",
   "metadata": {},
   "source": [
    "5.624 counts of clients who have left the SB after 3 months (for each cut-off date) <=>  37% of all clients. This is problematic:\n",
    "- based on a separate analysis, one concludes that monthly average in the established time period is approx. 2%. 37% for churn simply is unrealistic.\n",
    "- while extracting data from database, most probably some registers were duplicated manually. If so  => extract them."
   ]
  },
  {
   "cell_type": "markdown",
   "metadata": {},
   "source": [
    "## Checking for duplicates"
   ]
  },
  {
   "cell_type": "code",
   "execution_count": null,
   "metadata": {},
   "outputs": [],
   "source": [
    "df2 = df.groupby([\"Client_Status_Post3Months\"]).agg({\"Client_ID\" : \"nunique\", \"Resident_Capital\" : \"count\"})\n",
    "df2 = df2.reset_index()\n",
    "df2 = df2.rename(columns={\"Client_ID\" : \"Unique_Frequency\", \"Resident_Capital\" : \"Frequency\"})\n",
    "df2"
   ]
  },
  {
   "cell_type": "code",
   "execution_count": null,
   "metadata": {},
   "outputs": [],
   "source": [
    "check_duplicates = np.array(df2)\n",
    "check_duplicates"
   ]
  },
  {
   "cell_type": "code",
   "execution_count": null,
   "metadata": {},
   "outputs": [],
   "source": [
    "prop_duplicates = check_duplicates[0,1]/check_duplicates[0,2]*100\n",
    "prop_duplicates"
   ]
  },
  {
   "cell_type": "markdown",
   "metadata": {},
   "source": [
    "Confirming high number of duplicates. Need to extract them."
   ]
  },
  {
   "cell_type": "code",
   "execution_count": null,
   "metadata": {},
   "outputs": [],
   "source": [
    "df_unique = df.drop_duplicates(subset=\"Client_ID\", keep=\"first\") "
   ]
  },
  {
   "cell_type": "code",
   "execution_count": null,
   "metadata": {},
   "outputs": [],
   "source": [
    "df_unique.info()"
   ]
  },
  {
   "cell_type": "markdown",
   "metadata": {},
   "source": [
    "=> data set reduced by one third after dropping duplicates!"
   ]
  },
  {
   "cell_type": "code",
   "execution_count": null,
   "metadata": {},
   "outputs": [],
   "source": [
    "df_unique.shape"
   ]
  },
  {
   "cell_type": "code",
   "execution_count": null,
   "metadata": {},
   "outputs": [],
   "source": [
    "y = df_unique[\"Client_Status_Post3Months\"]"
   ]
  },
  {
   "cell_type": "code",
   "execution_count": null,
   "metadata": {},
   "outputs": [],
   "source": [
    "y.value_counts()/df_unique.shape[0]"
   ]
  },
  {
   "cell_type": "markdown",
   "metadata": {},
   "source": [
    "Unintuitive: data set is not imbalanced. Can't achieve extraction of duplicates. However => continue analysis with this data set."
   ]
  },
  {
   "cell_type": "markdown",
   "metadata": {},
   "source": [
    "Preparing dataset for training models:"
   ]
  },
  {
   "cell_type": "code",
   "execution_count": null,
   "metadata": {},
   "outputs": [],
   "source": [
    "df_unique.head()"
   ]
  },
  {
   "cell_type": "code",
   "execution_count": null,
   "metadata": {},
   "outputs": [],
   "source": [
    "df_unique.shape"
   ]
  },
  {
   "cell_type": "code",
   "execution_count": null,
   "metadata": {},
   "outputs": [],
   "source": [
    "df_unique.to_csv(\"Tabla_01_English_Unique_postEDA.csv\")"
   ]
  }
 ],
 "metadata": {
  "kernelspec": {
   "display_name": "stenv",
   "language": "python",
   "name": "python3"
  },
  "language_info": {
   "codemirror_mode": {
    "name": "ipython",
    "version": 3
   },
   "file_extension": ".py",
   "mimetype": "text/x-python",
   "name": "python",
   "nbconvert_exporter": "python",
   "pygments_lexer": "ipython3",
   "version": "3.9.11"
  },
  "vscode": {
   "interpreter": {
    "hash": "f780cc9064199338697ec1746b1b70a3a142444ce1abab5007bd12c24dddf5fd"
   }
  }
 },
 "nbformat": 4,
 "nbformat_minor": 2
}
