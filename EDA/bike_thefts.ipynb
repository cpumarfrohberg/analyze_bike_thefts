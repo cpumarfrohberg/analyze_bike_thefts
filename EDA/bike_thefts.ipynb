{
 "cells": [
  {
   "attachments": {},
   "cell_type": "markdown",
   "metadata": {},
   "source": [
    "# Bike Thefts Berlin - EDA"
   ]
  },
  {
   "cell_type": "code",
   "execution_count": 1,
   "metadata": {},
   "outputs": [],
   "source": [
    "import pandas as pd\n",
    "import numpy as np\n",
    "import seaborn as sns\n",
    "import matplotlib.pyplot as plt\n",
    "\n",
    "import warnings\n",
    "warnings.filterwarnings('ignore')"
   ]
  },
  {
   "cell_type": "code",
   "execution_count": 2,
   "metadata": {},
   "outputs": [],
   "source": [
    "PATH_INITIAL = '../data/Fahrraddiebstahl.csv' \n",
    "PATH_SAVEABLE = '../data'\n",
    "PATH_EXTRACTED = './data'"
   ]
  },
  {
   "cell_type": "code",
   "execution_count": 3,
   "metadata": {},
   "outputs": [],
   "source": [
    "time_parseable = ['TATZEIT_ANFANG_DATUM', 'TATZEIT_ENDE_DATUM']"
   ]
  },
  {
   "attachments": {},
   "cell_type": "markdown",
   "metadata": {},
   "source": [
    "## Prep data inspection"
   ]
  },
  {
   "cell_type": "code",
   "execution_count": 4,
   "metadata": {},
   "outputs": [],
   "source": [
    "class BikeThefts():\n",
    "    '''Read, inspect and transform initial data.'''\n",
    "\n",
    "    def __init__(self, path = PATH_INITIAL, path_saveable = PATH_SAVEABLE, path_extracted = PATH_EXTRACTED) -> None:\n",
    "        self.path = path\n",
    "        self.path_saveable = path_saveable\n",
    "        self.path_extracted = path_extracted\n",
    "\n",
    "    def read_initial_data(self) -> pd.DataFrame:\n",
    "        '''Return DataFrame with feature matrix and labels as values.'''\n",
    "        df = pd.read_csv(self.path, index_col=0, parse_dates=True, encoding = 'unicode_escape')\n",
    "        return df\n",
    "\n",
    "    def read_extracted_data(self, file) -> pd.DataFrame:\n",
    "        '''Return DataFrame extracted from initial data.'''\n",
    "        df = pd.read_csv(f'{self.path_extracted}/{file}', encoding = 'unicode_escape')\n",
    "        return df\n",
    "    \n",
    "    def check_unique(self, serie) -> pd.Series:\n",
    "        '''Return unique values of selected columns.'''\n",
    "        return serie.unique()\n",
    "\n",
    "    def include_timestamps(self, df) -> pd.DataFrame:\n",
    "        '''Return DataFrame with time-stamps.'''\n",
    "        df['year'] = df.index.year\n",
    "        df['month'] = df.index.month\n",
    "        return df\n",
    "\n",
    "    def time_parser(self, df, time_parsables) -> pd.DataFrame:\n",
    "        '''Parse columns encoded as strings to datetime-objects.'''\n",
    "        for col in time_parsables:\n",
    "            df[col] = pd.to_datetime(df[col])\n",
    "        return df\n",
    "\n",
    "    def crime_duration_days(self, df, start, end) -> pd.DataFrame: #use for plotting?\n",
    "        '''Calculate duration of crime in days.'''\n",
    "        df['crime_duration_days'] = end - start\n",
    "        return df\n",
    "    \n",
    "    def crime_duration_hours(self, df, start, end) -> pd.DataFrame: #use for plotting?\n",
    "        '''Calculate duration of crime in hours.'''\n",
    "        df['crime_duration_hours'] = abs(start - end)\n",
    "        return df\n",
    "    \n",
    "    def plot_categoricals(self, df, ordinate) -> sns:\n",
    "        return sns.catplot(\n",
    "        data=df, y=ordinate, kind=\"count\",\n",
    "        palette=\"pastel\", edgecolor=\".6\",\n",
    "    )\n",
    "\n",
    "    def save_data(self, df, group_by, col_names, file):\n",
    "        '''Save extracted data locally as csv-file.'''\n",
    "        bike_thefts_LOR = pd.DataFrame(df.groupby(group_by).size(),\n",
    "                        columns = [col_names]).reset_index()\n",
    "        return bike_thefts_LOR.to_csv(f'{self.path_saveable}/{file}.csv')"
   ]
  },
  {
   "cell_type": "markdown",
   "metadata": {},
   "source": [
    "## Inspect"
   ]
  },
  {
   "cell_type": "code",
   "execution_count": 5,
   "metadata": {},
   "outputs": [],
   "source": [
    "bike_thefts = BikeThefts()"
   ]
  },
  {
   "cell_type": "code",
   "execution_count": 6,
   "metadata": {},
   "outputs": [
    {
     "data": {
      "text/html": [
       "<div>\n",
       "<style scoped>\n",
       "    .dataframe tbody tr th:only-of-type {\n",
       "        vertical-align: middle;\n",
       "    }\n",
       "\n",
       "    .dataframe tbody tr th {\n",
       "        vertical-align: top;\n",
       "    }\n",
       "\n",
       "    .dataframe thead th {\n",
       "        text-align: right;\n",
       "    }\n",
       "</style>\n",
       "<table border=\"1\" class=\"dataframe\">\n",
       "  <thead>\n",
       "    <tr style=\"text-align: right;\">\n",
       "      <th></th>\n",
       "      <th>TATZEIT_ANFANG_DATUM</th>\n",
       "      <th>TATZEIT_ANFANG_STUNDE</th>\n",
       "      <th>TATZEIT_ENDE_DATUM</th>\n",
       "      <th>TATZEIT_ENDE_STUNDE</th>\n",
       "      <th>LOR</th>\n",
       "      <th>SCHADENSHOEHE</th>\n",
       "      <th>VERSUCH</th>\n",
       "      <th>ART_DES_FAHRRADS</th>\n",
       "      <th>DELIKT</th>\n",
       "      <th>ERFASSUNGSGRUND</th>\n",
       "    </tr>\n",
       "    <tr>\n",
       "      <th>ANGELEGT_AM</th>\n",
       "      <th></th>\n",
       "      <th></th>\n",
       "      <th></th>\n",
       "      <th></th>\n",
       "      <th></th>\n",
       "      <th></th>\n",
       "      <th></th>\n",
       "      <th></th>\n",
       "      <th></th>\n",
       "      <th></th>\n",
       "    </tr>\n",
       "  </thead>\n",
       "  <tbody>\n",
       "    <tr>\n",
       "      <th>2023-02-19</th>\n",
       "      <td>18.02.2023</td>\n",
       "      <td>18</td>\n",
       "      <td>19.02.2023</td>\n",
       "      <td>7</td>\n",
       "      <td>3701658</td>\n",
       "      <td>3472</td>\n",
       "      <td>Nein</td>\n",
       "      <td>Herrenfahrrad</td>\n",
       "      <td>Fahrraddiebstahl</td>\n",
       "      <td>Sonstiger schwerer Diebstahl von Fahrrädern</td>\n",
       "    </tr>\n",
       "    <tr>\n",
       "      <th>2023-02-19</th>\n",
       "      <td>18.02.2023</td>\n",
       "      <td>20</td>\n",
       "      <td>19.02.2023</td>\n",
       "      <td>9</td>\n",
       "      <td>1100308</td>\n",
       "      <td>2277</td>\n",
       "      <td>Nein</td>\n",
       "      <td>Herrenfahrrad</td>\n",
       "      <td>Fahrraddiebstahl</td>\n",
       "      <td>Sonstiger schwerer Diebstahl von Fahrrädern</td>\n",
       "    </tr>\n",
       "    <tr>\n",
       "      <th>2023-02-19</th>\n",
       "      <td>18.02.2023</td>\n",
       "      <td>16</td>\n",
       "      <td>19.02.2023</td>\n",
       "      <td>0</td>\n",
       "      <td>6100102</td>\n",
       "      <td>746</td>\n",
       "      <td>Nein</td>\n",
       "      <td>Damenfahrrad</td>\n",
       "      <td>Fahrraddiebstahl</td>\n",
       "      <td>Sonstiger schwerer Diebstahl von Fahrrädern</td>\n",
       "    </tr>\n",
       "    <tr>\n",
       "      <th>2023-02-19</th>\n",
       "      <td>18.02.2023</td>\n",
       "      <td>17</td>\n",
       "      <td>19.02.2023</td>\n",
       "      <td>0</td>\n",
       "      <td>7601544</td>\n",
       "      <td>1849</td>\n",
       "      <td>Nein</td>\n",
       "      <td>Herrenfahrrad</td>\n",
       "      <td>Fahrraddiebstahl</td>\n",
       "      <td>Sonstiger schwerer Diebstahl von Fahrrädern</td>\n",
       "    </tr>\n",
       "    <tr>\n",
       "      <th>2023-02-19</th>\n",
       "      <td>17.02.2023</td>\n",
       "      <td>17</td>\n",
       "      <td>17.02.2023</td>\n",
       "      <td>17</td>\n",
       "      <td>3601346</td>\n",
       "      <td>1863</td>\n",
       "      <td>Nein</td>\n",
       "      <td>Herrenfahrrad</td>\n",
       "      <td>Fahrraddiebstahl</td>\n",
       "      <td>Sonstiger schwerer Diebstahl von Fahrrädern</td>\n",
       "    </tr>\n",
       "  </tbody>\n",
       "</table>\n",
       "</div>"
      ],
      "text/plain": [
       "            TATZEIT_ANFANG_DATUM  TATZEIT_ANFANG_STUNDE TATZEIT_ENDE_DATUM  \\\n",
       "ANGELEGT_AM                                                                  \n",
       "2023-02-19            18.02.2023                     18         19.02.2023   \n",
       "2023-02-19            18.02.2023                     20         19.02.2023   \n",
       "2023-02-19            18.02.2023                     16         19.02.2023   \n",
       "2023-02-19            18.02.2023                     17         19.02.2023   \n",
       "2023-02-19            17.02.2023                     17         17.02.2023   \n",
       "\n",
       "             TATZEIT_ENDE_STUNDE      LOR  SCHADENSHOEHE VERSUCH  \\\n",
       "ANGELEGT_AM                                                        \n",
       "2023-02-19                     7  3701658           3472    Nein   \n",
       "2023-02-19                     9  1100308           2277    Nein   \n",
       "2023-02-19                     0  6100102            746    Nein   \n",
       "2023-02-19                     0  7601544           1849    Nein   \n",
       "2023-02-19                    17  3601346           1863    Nein   \n",
       "\n",
       "            ART_DES_FAHRRADS            DELIKT  \\\n",
       "ANGELEGT_AM                                      \n",
       "2023-02-19     Herrenfahrrad  Fahrraddiebstahl   \n",
       "2023-02-19     Herrenfahrrad  Fahrraddiebstahl   \n",
       "2023-02-19      Damenfahrrad  Fahrraddiebstahl   \n",
       "2023-02-19     Herrenfahrrad  Fahrraddiebstahl   \n",
       "2023-02-19     Herrenfahrrad  Fahrraddiebstahl   \n",
       "\n",
       "                                         ERFASSUNGSGRUND  \n",
       "ANGELEGT_AM                                               \n",
       "2023-02-19   Sonstiger schwerer Diebstahl von Fahrrädern  \n",
       "2023-02-19   Sonstiger schwerer Diebstahl von Fahrrädern  \n",
       "2023-02-19   Sonstiger schwerer Diebstahl von Fahrrädern  \n",
       "2023-02-19   Sonstiger schwerer Diebstahl von Fahrrädern  \n",
       "2023-02-19   Sonstiger schwerer Diebstahl von Fahrrädern  "
      ]
     },
     "execution_count": 6,
     "metadata": {},
     "output_type": "execute_result"
    }
   ],
   "source": [
    "df = bike_thefts.read_initial_data()\n",
    "df.head()"
   ]
  },
  {
   "cell_type": "code",
   "execution_count": 7,
   "metadata": {},
   "outputs": [
    {
     "name": "stdout",
     "output_type": "stream",
     "text": [
      "<class 'pandas.core.frame.DataFrame'>\n",
      "DatetimeIndex: 24610 entries, 2023-02-19 to 2022-01-01\n",
      "Data columns (total 10 columns):\n",
      " #   Column                 Non-Null Count  Dtype \n",
      "---  ------                 --------------  ----- \n",
      " 0   TATZEIT_ANFANG_DATUM   24610 non-null  object\n",
      " 1   TATZEIT_ANFANG_STUNDE  24610 non-null  int64 \n",
      " 2   TATZEIT_ENDE_DATUM     24610 non-null  object\n",
      " 3   TATZEIT_ENDE_STUNDE    24610 non-null  int64 \n",
      " 4   LOR                    24610 non-null  int64 \n",
      " 5   SCHADENSHOEHE          24610 non-null  int64 \n",
      " 6   VERSUCH                24610 non-null  object\n",
      " 7   ART_DES_FAHRRADS       24610 non-null  object\n",
      " 8   DELIKT                 24610 non-null  object\n",
      " 9   ERFASSUNGSGRUND        24610 non-null  object\n",
      "dtypes: int64(4), object(6)\n",
      "memory usage: 2.1+ MB\n"
     ]
    }
   ],
   "source": [
    "df.info() # dates are encoded as strings"
   ]
  },
  {
   "cell_type": "code",
   "execution_count": 8,
   "metadata": {},
   "outputs": [
    {
     "data": {
      "text/plain": [
       "0"
      ]
     },
     "execution_count": 8,
     "metadata": {},
     "output_type": "execute_result"
    }
   ],
   "source": [
    "df.isna().sum().sum()"
   ]
  },
  {
   "cell_type": "code",
   "execution_count": 9,
   "metadata": {},
   "outputs": [
    {
     "data": {
      "text/plain": [
       "array(['Fahrraddiebstahl', 'Keller- und Bodeneinbruch'], dtype=object)"
      ]
     },
     "execution_count": 9,
     "metadata": {},
     "output_type": "execute_result"
    }
   ],
   "source": [
    "bike_thefts.check_unique(df['DELIKT'])"
   ]
  },
  {
   "cell_type": "code",
   "execution_count": 10,
   "metadata": {},
   "outputs": [
    {
     "data": {
      "text/plain": [
       "array(['Herrenfahrrad', 'Damenfahrrad', 'Mountainbike',\n",
       "       'diverse Fahrräder', 'Fahrrad', 'Kinderfahrrad', 'Rennrad',\n",
       "       'Lastenfahrrad'], dtype=object)"
      ]
     },
     "execution_count": 10,
     "metadata": {},
     "output_type": "execute_result"
    }
   ],
   "source": [
    "bike_thefts.check_unique(df['ART_DES_FAHRRADS'])"
   ]
  },
  {
   "cell_type": "code",
   "execution_count": 11,
   "metadata": {},
   "outputs": [
    {
     "data": {
      "text/plain": [
       "540"
      ]
     },
     "execution_count": 11,
     "metadata": {},
     "output_type": "execute_result"
    }
   ],
   "source": [
    "len(bike_thefts.check_unique(df['LOR']))"
   ]
  },
  {
   "cell_type": "code",
   "execution_count": 12,
   "metadata": {},
   "outputs": [
    {
     "data": {
      "text/plain": [
       "array(['Nein', 'Unbekannt', 'Ja'], dtype=object)"
      ]
     },
     "execution_count": 12,
     "metadata": {},
     "output_type": "execute_result"
    }
   ],
   "source": [
    "bike_thefts.check_unique(df['VERSUCH']) "
   ]
  },
  {
   "cell_type": "code",
   "execution_count": 13,
   "metadata": {},
   "outputs": [
    {
     "data": {
      "text/plain": [
       "5"
      ]
     },
     "execution_count": 13,
     "metadata": {},
     "output_type": "execute_result"
    }
   ],
   "source": [
    "len(df[df['VERSUCH']== 'Unbekannt']) # decision: include or drop?"
   ]
  },
  {
   "cell_type": "code",
   "execution_count": 14,
   "metadata": {},
   "outputs": [
    {
     "data": {
      "text/plain": [
       "array(['Sonstiger schwerer Diebstahl von Fahrrädern',\n",
       "       'Einfacher Diebstahl von Fahrrädern',\n",
       "       'Sonstiger schwerer Diebstahl in/aus Keller/Boden von Fahrrädern',\n",
       "       'Einfacher Diebstahl aus Keller/Boden von Fahrrädern'],\n",
       "      dtype=object)"
      ]
     },
     "execution_count": 14,
     "metadata": {},
     "output_type": "execute_result"
    }
   ],
   "source": [
    "bike_thefts.check_unique(df['ERFASSUNGSGRUND'])"
   ]
  },
  {
   "attachments": {},
   "cell_type": "markdown",
   "metadata": {},
   "source": [
    "## Transform"
   ]
  },
  {
   "cell_type": "code",
   "execution_count": 15,
   "metadata": {},
   "outputs": [
    {
     "data": {
      "text/html": [
       "<div>\n",
       "<style scoped>\n",
       "    .dataframe tbody tr th:only-of-type {\n",
       "        vertical-align: middle;\n",
       "    }\n",
       "\n",
       "    .dataframe tbody tr th {\n",
       "        vertical-align: top;\n",
       "    }\n",
       "\n",
       "    .dataframe thead th {\n",
       "        text-align: right;\n",
       "    }\n",
       "</style>\n",
       "<table border=\"1\" class=\"dataframe\">\n",
       "  <thead>\n",
       "    <tr style=\"text-align: right;\">\n",
       "      <th></th>\n",
       "      <th>TATZEIT_ANFANG_DATUM</th>\n",
       "      <th>TATZEIT_ANFANG_STUNDE</th>\n",
       "      <th>TATZEIT_ENDE_DATUM</th>\n",
       "      <th>TATZEIT_ENDE_STUNDE</th>\n",
       "      <th>LOR</th>\n",
       "      <th>SCHADENSHOEHE</th>\n",
       "      <th>VERSUCH</th>\n",
       "      <th>ART_DES_FAHRRADS</th>\n",
       "      <th>DELIKT</th>\n",
       "      <th>ERFASSUNGSGRUND</th>\n",
       "      <th>year</th>\n",
       "      <th>month</th>\n",
       "    </tr>\n",
       "    <tr>\n",
       "      <th>ANGELEGT_AM</th>\n",
       "      <th></th>\n",
       "      <th></th>\n",
       "      <th></th>\n",
       "      <th></th>\n",
       "      <th></th>\n",
       "      <th></th>\n",
       "      <th></th>\n",
       "      <th></th>\n",
       "      <th></th>\n",
       "      <th></th>\n",
       "      <th></th>\n",
       "      <th></th>\n",
       "    </tr>\n",
       "  </thead>\n",
       "  <tbody>\n",
       "    <tr>\n",
       "      <th>2023-02-19</th>\n",
       "      <td>2023-02-18</td>\n",
       "      <td>18</td>\n",
       "      <td>2023-02-19</td>\n",
       "      <td>7</td>\n",
       "      <td>3701658</td>\n",
       "      <td>3472</td>\n",
       "      <td>Nein</td>\n",
       "      <td>Herrenfahrrad</td>\n",
       "      <td>Fahrraddiebstahl</td>\n",
       "      <td>Sonstiger schwerer Diebstahl von Fahrrädern</td>\n",
       "      <td>2023</td>\n",
       "      <td>2</td>\n",
       "    </tr>\n",
       "    <tr>\n",
       "      <th>2023-02-19</th>\n",
       "      <td>2023-02-18</td>\n",
       "      <td>20</td>\n",
       "      <td>2023-02-19</td>\n",
       "      <td>9</td>\n",
       "      <td>1100308</td>\n",
       "      <td>2277</td>\n",
       "      <td>Nein</td>\n",
       "      <td>Herrenfahrrad</td>\n",
       "      <td>Fahrraddiebstahl</td>\n",
       "      <td>Sonstiger schwerer Diebstahl von Fahrrädern</td>\n",
       "      <td>2023</td>\n",
       "      <td>2</td>\n",
       "    </tr>\n",
       "    <tr>\n",
       "      <th>2023-02-19</th>\n",
       "      <td>2023-02-18</td>\n",
       "      <td>16</td>\n",
       "      <td>2023-02-19</td>\n",
       "      <td>0</td>\n",
       "      <td>6100102</td>\n",
       "      <td>746</td>\n",
       "      <td>Nein</td>\n",
       "      <td>Damenfahrrad</td>\n",
       "      <td>Fahrraddiebstahl</td>\n",
       "      <td>Sonstiger schwerer Diebstahl von Fahrrädern</td>\n",
       "      <td>2023</td>\n",
       "      <td>2</td>\n",
       "    </tr>\n",
       "  </tbody>\n",
       "</table>\n",
       "</div>"
      ],
      "text/plain": [
       "            TATZEIT_ANFANG_DATUM  TATZEIT_ANFANG_STUNDE TATZEIT_ENDE_DATUM  \\\n",
       "ANGELEGT_AM                                                                  \n",
       "2023-02-19            2023-02-18                     18         2023-02-19   \n",
       "2023-02-19            2023-02-18                     20         2023-02-19   \n",
       "2023-02-19            2023-02-18                     16         2023-02-19   \n",
       "\n",
       "             TATZEIT_ENDE_STUNDE      LOR  SCHADENSHOEHE VERSUCH  \\\n",
       "ANGELEGT_AM                                                        \n",
       "2023-02-19                     7  3701658           3472    Nein   \n",
       "2023-02-19                     9  1100308           2277    Nein   \n",
       "2023-02-19                     0  6100102            746    Nein   \n",
       "\n",
       "            ART_DES_FAHRRADS            DELIKT  \\\n",
       "ANGELEGT_AM                                      \n",
       "2023-02-19     Herrenfahrrad  Fahrraddiebstahl   \n",
       "2023-02-19     Herrenfahrrad  Fahrraddiebstahl   \n",
       "2023-02-19      Damenfahrrad  Fahrraddiebstahl   \n",
       "\n",
       "                                         ERFASSUNGSGRUND  year  month  \n",
       "ANGELEGT_AM                                                            \n",
       "2023-02-19   Sonstiger schwerer Diebstahl von Fahrrädern  2023      2  \n",
       "2023-02-19   Sonstiger schwerer Diebstahl von Fahrrädern  2023      2  \n",
       "2023-02-19   Sonstiger schwerer Diebstahl von Fahrrädern  2023      2  "
      ]
     },
     "execution_count": 15,
     "metadata": {},
     "output_type": "execute_result"
    }
   ],
   "source": [
    "df_transformed = bike_thefts.time_parser(df, time_parseable)\n",
    "df_transformed = bike_thefts.include_timestamps(df_transformed)\n",
    "df_transformed.head(3)"
   ]
  },
  {
   "cell_type": "code",
   "execution_count": 16,
   "metadata": {},
   "outputs": [],
   "source": [
    "df_transformed = bike_thefts.crime_duration_days(df_transformed, \n",
    "                                            start=df_transformed['TATZEIT_ANFANG_DATUM'], \n",
    "                                            end = df_transformed['TATZEIT_ENDE_DATUM'])"
   ]
  },
  {
   "cell_type": "code",
   "execution_count": 17,
   "metadata": {},
   "outputs": [
    {
     "data": {
      "text/html": [
       "<div>\n",
       "<style scoped>\n",
       "    .dataframe tbody tr th:only-of-type {\n",
       "        vertical-align: middle;\n",
       "    }\n",
       "\n",
       "    .dataframe tbody tr th {\n",
       "        vertical-align: top;\n",
       "    }\n",
       "\n",
       "    .dataframe thead th {\n",
       "        text-align: right;\n",
       "    }\n",
       "</style>\n",
       "<table border=\"1\" class=\"dataframe\">\n",
       "  <thead>\n",
       "    <tr style=\"text-align: right;\">\n",
       "      <th></th>\n",
       "      <th>TATZEIT_ANFANG_DATUM</th>\n",
       "      <th>TATZEIT_ANFANG_STUNDE</th>\n",
       "      <th>TATZEIT_ENDE_DATUM</th>\n",
       "      <th>TATZEIT_ENDE_STUNDE</th>\n",
       "      <th>LOR</th>\n",
       "      <th>SCHADENSHOEHE</th>\n",
       "      <th>VERSUCH</th>\n",
       "      <th>ART_DES_FAHRRADS</th>\n",
       "      <th>DELIKT</th>\n",
       "      <th>ERFASSUNGSGRUND</th>\n",
       "      <th>year</th>\n",
       "      <th>month</th>\n",
       "      <th>crime_duration_days</th>\n",
       "      <th>crime_duration_hours</th>\n",
       "    </tr>\n",
       "    <tr>\n",
       "      <th>ANGELEGT_AM</th>\n",
       "      <th></th>\n",
       "      <th></th>\n",
       "      <th></th>\n",
       "      <th></th>\n",
       "      <th></th>\n",
       "      <th></th>\n",
       "      <th></th>\n",
       "      <th></th>\n",
       "      <th></th>\n",
       "      <th></th>\n",
       "      <th></th>\n",
       "      <th></th>\n",
       "      <th></th>\n",
       "      <th></th>\n",
       "    </tr>\n",
       "  </thead>\n",
       "  <tbody>\n",
       "    <tr>\n",
       "      <th>2023-02-19</th>\n",
       "      <td>2023-02-18</td>\n",
       "      <td>18</td>\n",
       "      <td>2023-02-19</td>\n",
       "      <td>7</td>\n",
       "      <td>3701658</td>\n",
       "      <td>3472</td>\n",
       "      <td>Nein</td>\n",
       "      <td>Herrenfahrrad</td>\n",
       "      <td>Fahrraddiebstahl</td>\n",
       "      <td>Sonstiger schwerer Diebstahl von Fahrrädern</td>\n",
       "      <td>2023</td>\n",
       "      <td>2</td>\n",
       "      <td>1 days</td>\n",
       "      <td>11</td>\n",
       "    </tr>\n",
       "    <tr>\n",
       "      <th>2023-02-19</th>\n",
       "      <td>2023-02-18</td>\n",
       "      <td>20</td>\n",
       "      <td>2023-02-19</td>\n",
       "      <td>9</td>\n",
       "      <td>1100308</td>\n",
       "      <td>2277</td>\n",
       "      <td>Nein</td>\n",
       "      <td>Herrenfahrrad</td>\n",
       "      <td>Fahrraddiebstahl</td>\n",
       "      <td>Sonstiger schwerer Diebstahl von Fahrrädern</td>\n",
       "      <td>2023</td>\n",
       "      <td>2</td>\n",
       "      <td>1 days</td>\n",
       "      <td>11</td>\n",
       "    </tr>\n",
       "  </tbody>\n",
       "</table>\n",
       "</div>"
      ],
      "text/plain": [
       "            TATZEIT_ANFANG_DATUM  TATZEIT_ANFANG_STUNDE TATZEIT_ENDE_DATUM  \\\n",
       "ANGELEGT_AM                                                                  \n",
       "2023-02-19            2023-02-18                     18         2023-02-19   \n",
       "2023-02-19            2023-02-18                     20         2023-02-19   \n",
       "\n",
       "             TATZEIT_ENDE_STUNDE      LOR  SCHADENSHOEHE VERSUCH  \\\n",
       "ANGELEGT_AM                                                        \n",
       "2023-02-19                     7  3701658           3472    Nein   \n",
       "2023-02-19                     9  1100308           2277    Nein   \n",
       "\n",
       "            ART_DES_FAHRRADS            DELIKT  \\\n",
       "ANGELEGT_AM                                      \n",
       "2023-02-19     Herrenfahrrad  Fahrraddiebstahl   \n",
       "2023-02-19     Herrenfahrrad  Fahrraddiebstahl   \n",
       "\n",
       "                                         ERFASSUNGSGRUND  year  month  \\\n",
       "ANGELEGT_AM                                                             \n",
       "2023-02-19   Sonstiger schwerer Diebstahl von Fahrrädern  2023      2   \n",
       "2023-02-19   Sonstiger schwerer Diebstahl von Fahrrädern  2023      2   \n",
       "\n",
       "            crime_duration_days  crime_duration_hours  \n",
       "ANGELEGT_AM                                            \n",
       "2023-02-19               1 days                    11  \n",
       "2023-02-19               1 days                    11  "
      ]
     },
     "execution_count": 17,
     "metadata": {},
     "output_type": "execute_result"
    }
   ],
   "source": [
    "df_transformed = bike_thefts.crime_duration_hours(df_transformed, \n",
    "                                            start=df_transformed['TATZEIT_ANFANG_STUNDE'], \n",
    "                                            end = df_transformed['TATZEIT_ENDE_STUNDE'])\n",
    "df_transformed.head(2)"
   ]
  },
  {
   "cell_type": "code",
   "execution_count": 18,
   "metadata": {},
   "outputs": [
    {
     "data": {
      "text/html": [
       "<div>\n",
       "<style scoped>\n",
       "    .dataframe tbody tr th:only-of-type {\n",
       "        vertical-align: middle;\n",
       "    }\n",
       "\n",
       "    .dataframe tbody tr th {\n",
       "        vertical-align: top;\n",
       "    }\n",
       "\n",
       "    .dataframe thead th {\n",
       "        text-align: right;\n",
       "    }\n",
       "</style>\n",
       "<table border=\"1\" class=\"dataframe\">\n",
       "  <thead>\n",
       "    <tr style=\"text-align: right;\">\n",
       "      <th></th>\n",
       "      <th>LOR</th>\n",
       "      <th>SCHADENSHOEHE</th>\n",
       "      <th>VERSUCH</th>\n",
       "      <th>ART_DES_FAHRRADS</th>\n",
       "      <th>DELIKT</th>\n",
       "      <th>ERFASSUNGSGRUND</th>\n",
       "      <th>year</th>\n",
       "      <th>month</th>\n",
       "      <th>crime_duration_days</th>\n",
       "      <th>crime_duration_hours</th>\n",
       "    </tr>\n",
       "    <tr>\n",
       "      <th>ANGELEGT_AM</th>\n",
       "      <th></th>\n",
       "      <th></th>\n",
       "      <th></th>\n",
       "      <th></th>\n",
       "      <th></th>\n",
       "      <th></th>\n",
       "      <th></th>\n",
       "      <th></th>\n",
       "      <th></th>\n",
       "      <th></th>\n",
       "    </tr>\n",
       "  </thead>\n",
       "  <tbody>\n",
       "    <tr>\n",
       "      <th>2023-02-19</th>\n",
       "      <td>3701658</td>\n",
       "      <td>3472</td>\n",
       "      <td>Nein</td>\n",
       "      <td>Herrenfahrrad</td>\n",
       "      <td>Fahrraddiebstahl</td>\n",
       "      <td>Sonstiger schwerer Diebstahl von Fahrrädern</td>\n",
       "      <td>2023</td>\n",
       "      <td>2</td>\n",
       "      <td>1 days</td>\n",
       "      <td>11</td>\n",
       "    </tr>\n",
       "    <tr>\n",
       "      <th>2023-02-19</th>\n",
       "      <td>1100308</td>\n",
       "      <td>2277</td>\n",
       "      <td>Nein</td>\n",
       "      <td>Herrenfahrrad</td>\n",
       "      <td>Fahrraddiebstahl</td>\n",
       "      <td>Sonstiger schwerer Diebstahl von Fahrrädern</td>\n",
       "      <td>2023</td>\n",
       "      <td>2</td>\n",
       "      <td>1 days</td>\n",
       "      <td>11</td>\n",
       "    </tr>\n",
       "  </tbody>\n",
       "</table>\n",
       "</div>"
      ],
      "text/plain": [
       "                 LOR  SCHADENSHOEHE VERSUCH ART_DES_FAHRRADS  \\\n",
       "ANGELEGT_AM                                                    \n",
       "2023-02-19   3701658           3472    Nein    Herrenfahrrad   \n",
       "2023-02-19   1100308           2277    Nein    Herrenfahrrad   \n",
       "\n",
       "                       DELIKT                              ERFASSUNGSGRUND  \\\n",
       "ANGELEGT_AM                                                                  \n",
       "2023-02-19   Fahrraddiebstahl  Sonstiger schwerer Diebstahl von Fahrrädern   \n",
       "2023-02-19   Fahrraddiebstahl  Sonstiger schwerer Diebstahl von Fahrrädern   \n",
       "\n",
       "             year  month crime_duration_days  crime_duration_hours  \n",
       "ANGELEGT_AM                                                         \n",
       "2023-02-19   2023      2              1 days                    11  \n",
       "2023-02-19   2023      2              1 days                    11  "
      ]
     },
     "execution_count": 18,
     "metadata": {},
     "output_type": "execute_result"
    }
   ],
   "source": [
    "df_transformed.drop(df_transformed.iloc[:, 0:4], axis=1, inplace=True)\n",
    "df_transformed.head(2)"
   ]
  },
  {
   "cell_type": "code",
   "execution_count": 19,
   "metadata": {},
   "outputs": [
    {
     "data": {
      "text/plain": [
       "array([11, 16, 17,  0, 10, 22,  4,  1,  9,  2,  7,  5,  3,  6, 23,  8, 20,\n",
       "       14, 12, 13, 15, 19, 18, 21])"
      ]
     },
     "execution_count": 19,
     "metadata": {},
     "output_type": "execute_result"
    }
   ],
   "source": [
    "bike_thefts.check_unique(df_transformed['crime_duration_hours'])  # check: can this be so long?"
   ]
  },
  {
   "cell_type": "code",
   "execution_count": 20,
   "metadata": {},
   "outputs": [
    {
     "data": {
      "text/html": [
       "<div>\n",
       "<style scoped>\n",
       "    .dataframe tbody tr th:only-of-type {\n",
       "        vertical-align: middle;\n",
       "    }\n",
       "\n",
       "    .dataframe tbody tr th {\n",
       "        vertical-align: top;\n",
       "    }\n",
       "\n",
       "    .dataframe thead th {\n",
       "        text-align: right;\n",
       "    }\n",
       "</style>\n",
       "<table border=\"1\" class=\"dataframe\">\n",
       "  <thead>\n",
       "    <tr style=\"text-align: right;\">\n",
       "      <th></th>\n",
       "      <th>ANGELEGT_AM</th>\n",
       "      <th>LOR</th>\n",
       "      <th>SCHADENSHOEHE</th>\n",
       "      <th>VERSUCH</th>\n",
       "      <th>ART_DES_FAHRRADS</th>\n",
       "      <th>DELIKT</th>\n",
       "      <th>ERFASSUNGSGRUND</th>\n",
       "      <th>year</th>\n",
       "      <th>month</th>\n",
       "      <th>crime_duration_days</th>\n",
       "      <th>crime_duration_hours</th>\n",
       "    </tr>\n",
       "  </thead>\n",
       "  <tbody>\n",
       "    <tr>\n",
       "      <th>0</th>\n",
       "      <td>2023-02-19</td>\n",
       "      <td>3701658</td>\n",
       "      <td>3472</td>\n",
       "      <td>Nein</td>\n",
       "      <td>Herrenfahrrad</td>\n",
       "      <td>Fahrraddiebstahl</td>\n",
       "      <td>Sonstiger schwerer Diebstahl von Fahrrädern</td>\n",
       "      <td>2023</td>\n",
       "      <td>2</td>\n",
       "      <td>1 days</td>\n",
       "      <td>11</td>\n",
       "    </tr>\n",
       "    <tr>\n",
       "      <th>1</th>\n",
       "      <td>2023-02-19</td>\n",
       "      <td>1100308</td>\n",
       "      <td>2277</td>\n",
       "      <td>Nein</td>\n",
       "      <td>Herrenfahrrad</td>\n",
       "      <td>Fahrraddiebstahl</td>\n",
       "      <td>Sonstiger schwerer Diebstahl von Fahrrädern</td>\n",
       "      <td>2023</td>\n",
       "      <td>2</td>\n",
       "      <td>1 days</td>\n",
       "      <td>11</td>\n",
       "    </tr>\n",
       "  </tbody>\n",
       "</table>\n",
       "</div>"
      ],
      "text/plain": [
       "  ANGELEGT_AM      LOR  SCHADENSHOEHE VERSUCH ART_DES_FAHRRADS  \\\n",
       "0  2023-02-19  3701658           3472    Nein    Herrenfahrrad   \n",
       "1  2023-02-19  1100308           2277    Nein    Herrenfahrrad   \n",
       "\n",
       "             DELIKT                              ERFASSUNGSGRUND  year  month  \\\n",
       "0  Fahrraddiebstahl  Sonstiger schwerer Diebstahl von Fahrrädern  2023      2   \n",
       "1  Fahrraddiebstahl  Sonstiger schwerer Diebstahl von Fahrrädern  2023      2   \n",
       "\n",
       "  crime_duration_days  crime_duration_hours  \n",
       "0              1 days                    11  \n",
       "1              1 days                    11  "
      ]
     },
     "execution_count": 20,
     "metadata": {},
     "output_type": "execute_result"
    }
   ],
   "source": [
    "df_transformed.reset_index(inplace=True)\n",
    "df_transformed.head(2)"
   ]
  },
  {
   "cell_type": "code",
   "execution_count": 21,
   "metadata": {},
   "outputs": [
    {
     "data": {
      "text/html": [
       "<div>\n",
       "<style scoped>\n",
       "    .dataframe tbody tr th:only-of-type {\n",
       "        vertical-align: middle;\n",
       "    }\n",
       "\n",
       "    .dataframe tbody tr th {\n",
       "        vertical-align: top;\n",
       "    }\n",
       "\n",
       "    .dataframe thead th {\n",
       "        text-align: right;\n",
       "    }\n",
       "</style>\n",
       "<table border=\"1\" class=\"dataframe\">\n",
       "  <thead>\n",
       "    <tr style=\"text-align: right;\">\n",
       "      <th></th>\n",
       "      <th>year</th>\n",
       "      <th>LOR</th>\n",
       "      <th>bike_theft_count</th>\n",
       "    </tr>\n",
       "  </thead>\n",
       "  <tbody>\n",
       "    <tr>\n",
       "      <th>0</th>\n",
       "      <td>2022</td>\n",
       "      <td>1100101</td>\n",
       "      <td>26</td>\n",
       "    </tr>\n",
       "    <tr>\n",
       "      <th>1</th>\n",
       "      <td>2023</td>\n",
       "      <td>1100101</td>\n",
       "      <td>2</td>\n",
       "    </tr>\n",
       "  </tbody>\n",
       "</table>\n",
       "</div>"
      ],
      "text/plain": [
       "   year      LOR  bike_theft_count\n",
       "0  2022  1100101                26\n",
       "1  2023  1100101                 2"
      ]
     },
     "execution_count": 21,
     "metadata": {},
     "output_type": "execute_result"
    }
   ],
   "source": [
    "bike_thefts_LOR_year = pd.DataFrame(df_transformed.groupby(['LOR', 'year']).size(),\n",
    "                       columns = ['bike_theft_count'])\n",
    "bike_thefts_LOR_year = bike_thefts_LOR_year.reset_index()\n",
    "bike_thefts_LOR_year = bike_thefts_LOR_year.set_index('year').reset_index()\n",
    "bike_thefts_LOR_year.head(2)"
   ]
  },
  {
   "cell_type": "code",
   "execution_count": 22,
   "metadata": {},
   "outputs": [],
   "source": [
    "bike_thefts.save_data(\n",
    "    df = bike_thefts_LOR_year, \n",
    "    group_by =['LOR', 'year'],\n",
    "    col_names='bike_theft_count',\n",
    "    file = 'bike_thefts_year_LOR_count'\n",
    "    )"
   ]
  },
  {
   "attachments": {},
   "cell_type": "markdown",
   "metadata": {},
   "source": [
    "## Plot"
   ]
  },
  {
   "cell_type": "code",
   "execution_count": 26,
   "metadata": {},
   "outputs": [
    {
     "data": {
      "image/png": "[encoded data removed]",
      "text/plain": [
       "<Figure size 432x288 with 1 Axes>"
      ]
     },
     "metadata": {
      "needs_background": "light"
     },
     "output_type": "display_data"
    }
   ],
   "source": [
    "group_crime_type = df_transformed.groupby(['year'])['SCHADENSHOEHE'].mean()\n",
    "plot_crime_type = group_crime_type.plot()\n",
    "plt.xticks(rotation=45);  #check!"
   ]
  },
  {
   "attachments": {},
   "cell_type": "markdown",
   "metadata": {},
   "source": [
    "Plan:\n",
    "- parse relevant time-related cols to datetime so that you can calculate time periods. Done\n",
    "- group by: district and plot n(thefts). Done\n",
    "- plot thru time. Partially done\n",
    "- check distributions\n",
    "- check correlations. Done\n",
    "- check boxplots"
   ]
  },
  {
   "cell_type": "code",
   "execution_count": 27,
   "metadata": {},
   "outputs": [
    {
     "data": {
      "image/png": "[encoded data removed]",
      "text/plain": [
       "<Figure size 432x288 with 1 Axes>"
      ]
     },
     "metadata": {
      "needs_background": "light"
     },
     "output_type": "display_data"
    }
   ],
   "source": [
    "bike_thefts_LOR_year.groupby(['year', 'LOR'])['bike_theft_count'].mean().plot()\n",
    "plt.xticks(rotation=45);"
   ]
  },
  {
   "cell_type": "code",
   "execution_count": 28,
   "metadata": {},
   "outputs": [
    {
     "data": {
      "text/html": [
       "<div>\n",
       "<style scoped>\n",
       "    .dataframe tbody tr th:only-of-type {\n",
       "        vertical-align: middle;\n",
       "    }\n",
       "\n",
       "    .dataframe tbody tr th {\n",
       "        vertical-align: top;\n",
       "    }\n",
       "\n",
       "    .dataframe thead th {\n",
       "        text-align: right;\n",
       "    }\n",
       "</style>\n",
       "<table border=\"1\" class=\"dataframe\">\n",
       "  <thead>\n",
       "    <tr style=\"text-align: right;\">\n",
       "      <th></th>\n",
       "      <th>year</th>\n",
       "      <th>LOR</th>\n",
       "      <th>bike_theft_count</th>\n",
       "    </tr>\n",
       "  </thead>\n",
       "  <tbody>\n",
       "    <tr>\n",
       "      <th>0</th>\n",
       "      <td>2022</td>\n",
       "      <td>1100101</td>\n",
       "      <td>26</td>\n",
       "    </tr>\n",
       "    <tr>\n",
       "      <th>2</th>\n",
       "      <td>2022</td>\n",
       "      <td>1100102</td>\n",
       "      <td>110</td>\n",
       "    </tr>\n",
       "  </tbody>\n",
       "</table>\n",
       "</div>"
      ],
      "text/plain": [
       "   year      LOR  bike_theft_count\n",
       "0  2022  1100101                26\n",
       "2  2022  1100102               110"
      ]
     },
     "execution_count": 28,
     "metadata": {},
     "output_type": "execute_result"
    }
   ],
   "source": [
    "bike_thefts_2022 = bike_thefts_LOR_year[\n",
    "    bike_thefts_LOR_year['year'] == 2022\n",
    "    ]\n",
    "bike_thefts_2022.head(2)"
   ]
  },
  {
   "cell_type": "code",
   "execution_count": 29,
   "metadata": {},
   "outputs": [
    {
     "data": {
      "image/png": "[encoded data removed]",
      "text/plain": [
       "<Figure size 432x288 with 1 Axes>"
      ]
     },
     "metadata": {
      "needs_background": "light"
     },
     "output_type": "display_data"
    }
   ],
   "source": [
    "bike_thefts_2022['bike_theft_count'].plot()\n",
    "plt.xticks(rotation=45); # check how to give names to axis"
   ]
  },
  {
   "cell_type": "code",
   "execution_count": 30,
   "metadata": {},
   "outputs": [
    {
     "data": {
      "text/html": [
       "<div>\n",
       "<style scoped>\n",
       "    .dataframe tbody tr th:only-of-type {\n",
       "        vertical-align: middle;\n",
       "    }\n",
       "\n",
       "    .dataframe tbody tr th {\n",
       "        vertical-align: top;\n",
       "    }\n",
       "\n",
       "    .dataframe thead th {\n",
       "        text-align: right;\n",
       "    }\n",
       "</style>\n",
       "<table border=\"1\" class=\"dataframe\">\n",
       "  <thead>\n",
       "    <tr style=\"text-align: right;\">\n",
       "      <th></th>\n",
       "      <th>year</th>\n",
       "      <th>LOR</th>\n",
       "      <th>bike_theft_count</th>\n",
       "    </tr>\n",
       "  </thead>\n",
       "  <tbody>\n",
       "    <tr>\n",
       "      <th>1</th>\n",
       "      <td>2023</td>\n",
       "      <td>1100101</td>\n",
       "      <td>2</td>\n",
       "    </tr>\n",
       "    <tr>\n",
       "      <th>3</th>\n",
       "      <td>2023</td>\n",
       "      <td>1100102</td>\n",
       "      <td>17</td>\n",
       "    </tr>\n",
       "  </tbody>\n",
       "</table>\n",
       "</div>"
      ],
      "text/plain": [
       "   year      LOR  bike_theft_count\n",
       "1  2023  1100101                 2\n",
       "3  2023  1100102                17"
      ]
     },
     "execution_count": 30,
     "metadata": {},
     "output_type": "execute_result"
    }
   ],
   "source": [
    "bike_thefts_2023 = bike_thefts_LOR_year[\n",
    "    bike_thefts_LOR_year['year'] == 2023\n",
    "    ]\n",
    "bike_thefts_2023.head(2)"
   ]
  },
  {
   "cell_type": "code",
   "execution_count": 31,
   "metadata": {},
   "outputs": [
    {
     "data": {
      "image/png": "[encoded data removed]",
      "text/plain": [
       "<Figure size 432x288 with 1 Axes>"
      ]
     },
     "metadata": {
      "needs_background": "light"
     },
     "output_type": "display_data"
    }
   ],
   "source": [
    "bike_thefts_2023['bike_theft_count'].plot()\n",
    "plt.xticks(rotation=45); # clarify where these vals are coming from"
   ]
  },
  {
   "cell_type": "code",
   "execution_count": 32,
   "metadata": {},
   "outputs": [
    {
     "data": {
      "image/png": "[encoded data removed]",
      "text/plain": [
       "<Figure size 360x360 with 1 Axes>"
      ]
     },
     "metadata": {
      "needs_background": "light"
     },
     "output_type": "display_data"
    }
   ],
   "source": [
    "bike_thefts.plot_categoricals(df, 'ART_DES_FAHRRADS');"
   ]
  },
  {
   "cell_type": "code",
   "execution_count": 33,
   "metadata": {},
   "outputs": [
    {
     "data": {
      "image/png": "[encoded data removed]",
      "text/plain": [
       "<Figure size 360x360 with 1 Axes>"
      ]
     },
     "metadata": {
      "needs_background": "light"
     },
     "output_type": "display_data"
    }
   ],
   "source": [
    "bike_thefts.plot_categoricals(df, 'ERFASSUNGSGRUND');"
   ]
  },
  {
   "cell_type": "code",
   "execution_count": 34,
   "metadata": {},
   "outputs": [
    {
     "data": {
      "image/png": "[encoded data removed]",
      "text/plain": [
       "<Figure size 360x360 with 1 Axes>"
      ]
     },
     "metadata": {
      "needs_background": "light"
     },
     "output_type": "display_data"
    }
   ],
   "source": [
    "bike_thefts.plot_categoricals(df, 'DELIKT');"
   ]
  },
  {
   "cell_type": "code",
   "execution_count": 35,
   "metadata": {},
   "outputs": [
    {
     "data": {
      "image/png": "[encoded data removed]",
      "text/plain": [
       "<Figure size 360x360 with 1 Axes>"
      ]
     },
     "metadata": {
      "needs_background": "light"
     },
     "output_type": "display_data"
    }
   ],
   "source": [
    "bike_thefts.plot_categoricals(df, 'VERSUCH');"
   ]
  },
  {
   "cell_type": "code",
   "execution_count": 36,
   "metadata": {},
   "outputs": [
    {
     "data": {
      "image/png": "[encoded data removed]",
      "text/plain": [
       "<Figure size 576x432 with 2 Axes>"
      ]
     },
     "metadata": {
      "needs_background": "light"
     },
     "output_type": "display_data"
    }
   ],
   "source": [
    "corr = df.corr()\n",
    "\n",
    "mask = np.triu(np.ones_like(corr, dtype=bool))\n",
    "\n",
    "f, ax = plt.subplots(figsize=(8, 6))\n",
    "plt.xticks(rotation=45)\n",
    "cmap = sns.diverging_palette(230, 20, as_cmap=True)\n",
    "\n",
    "sns.heatmap(corr, mask=mask, cmap=cmap, vmax=.3, center=0,\n",
    "             square=True, linewidths=.5, cbar_kws={\"shrink\": .5});"
   ]
  }
 ],
 "metadata": {
  "kernelspec": {
   "display_name": "stenv",
   "language": "python",
   "name": "python3"
  },
  "language_info": {
   "codemirror_mode": {
    "name": "ipython",
    "version": 3
   },
   "file_extension": ".py",
   "mimetype": "text/x-python",
   "name": "python",
   "nbconvert_exporter": "python",
   "pygments_lexer": "ipython3",
   "version": "3.9.11"
  },
  "vscode": {
   "interpreter": {
    "hash": "f780cc9064199338697ec1746b1b70a3a142444ce1abab5007bd12c24dddf5fd"
   }
  }
 },
 "nbformat": 4,
 "nbformat_minor": 2
}
