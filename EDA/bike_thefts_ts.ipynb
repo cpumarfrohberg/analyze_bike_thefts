{
 "cells": [
  {
   "attachments": {},
   "cell_type": "markdown",
   "metadata": {},
   "source": [
    "# Bike Thefts Berlin - EDA"
   ]
  },
  {
   "cell_type": "code",
   "execution_count": 66,
   "metadata": {},
   "outputs": [],
   "source": [
    "import pandas as pd\n",
    "import numpy as np\n",
    "import seaborn as sns\n",
    "import matplotlib.pyplot as plt\n",
    "\n",
    "import warnings\n",
    "warnings.filterwarnings('ignore')"
   ]
  },
  {
   "cell_type": "code",
   "execution_count": 67,
   "metadata": {},
   "outputs": [],
   "source": [
    "PATH_INITIAL = '../data/Fahrraddiebstahl.csv' \n",
    "PATH_SAVEABLE = '../data'\n",
    "PATH_EXTRACTED = './data'"
   ]
  },
  {
   "cell_type": "code",
   "execution_count": 68,
   "metadata": {},
   "outputs": [],
   "source": [
    "time_parseable = ['start_date_delict', 'end_date_delict']"
   ]
  },
  {
   "cell_type": "code",
   "execution_count": 69,
   "metadata": {},
   "outputs": [],
   "source": [
    "LOR_dict = {'01':'Mitte',\n",
    "            '02':'Friedrichshain-Kreuzberg',\n",
    "            '03':'Pankow',\n",
    "            '04':'Charlottenburg-Wilmersdorf',\n",
    "            '05':'Spandau',\n",
    "            '06':'Steglitz-Zehlendorf',\n",
    "            '07':'Tempelhof-Schöneberg',\n",
    "            '08':'Neukölln',\n",
    "            '09':'Treptow-Köpenick',\n",
    "            '10':'Marzahn-Hellersdorf',\n",
    "            '11':'Lichtenberg',\n",
    "            '12':'Reinickendorf'\n",
    "            }"
   ]
  },
  {
   "attachments": {},
   "cell_type": "markdown",
   "metadata": {},
   "source": [
    "## Prep data inspection"
   ]
  },
  {
   "cell_type": "code",
   "execution_count": 70,
   "metadata": {},
   "outputs": [],
   "source": [
    "class BikeThefts():\n",
    "    '''Read, inspect and transform initial data.'''\n",
    "\n",
    "    def __init__(self, path = PATH_INITIAL, path_saveable = PATH_SAVEABLE, path_extracted = PATH_EXTRACTED) -> None:\n",
    "        self.path = path\n",
    "        self.path_saveable = path_saveable\n",
    "        self.path_extracted = path_extracted\n",
    "\n",
    "    def read_initial_data(self) -> pd.DataFrame:\n",
    "        '''Return DataFrame with feature matrix and labels as values.'''\n",
    "        df = pd.read_csv(self.path, index_col=0, parse_dates=True, encoding = 'unicode_escape')\n",
    "        return df\n",
    "\n",
    "    def read_extracted_data(self, file) -> pd.DataFrame:\n",
    "        '''Return DataFrame extracted from initial data.'''\n",
    "        df = pd.read_csv(f'{self.path_extracted}/{file}', encoding = 'unicode_escape')\n",
    "        return df\n",
    "    \n",
    "    def check_unique(self, serie) -> pd.Series:\n",
    "        '''Return unique values of selected columns.'''\n",
    "        return serie.unique()\n",
    "\n",
    "    def include_timestamps(self, df) -> pd.DataFrame:\n",
    "        '''Return DataFrame with time-stamps.'''\n",
    "        df['year'] = df.index.year\n",
    "        df['month'] = df.index.month\n",
    "        return df\n",
    "\n",
    "    def time_parser(self, df, time_parsables) -> pd.DataFrame:\n",
    "        '''Parse columns encoded as strings to datetime-objects.'''\n",
    "        for col in time_parsables:\n",
    "            df[col] = pd.to_datetime(df[col])\n",
    "        return df\n",
    "\n",
    "    def crime_duration_days(self, df, start, end) -> pd.DataFrame: #use for plotting?\n",
    "        '''Calculate duration of crime in days.'''\n",
    "        df['crime_duration_days'] = end - start\n",
    "        return df\n",
    "    \n",
    "    def crime_duration_hours(self, df, start, end) -> pd.DataFrame: #use for plotting?\n",
    "        '''Calculate duration of crime in hours.'''\n",
    "        df['crime_duration_hours'] = abs(start - end)\n",
    "        return df\n",
    "    \n",
    "    def fill_ints(self, df) -> pd.DataFrame:\n",
    "        '''Reencode LOR into 8-digit values.'''\n",
    "        df['LOR'] = df['LOR'].apply(lambda x: str(x))\n",
    "        df['LOR'] = df['LOR'].apply(lambda x: f'0{(x)}'[-8:])\n",
    "        return df\n",
    "    \n",
    "    def fill_ints_grouped(self, df) -> pd.DataFrame:\n",
    "        '''Reencode LOR into 8-digit values.'''\n",
    "        df_filled = pd.DataFrame(df.groupby('LOR').size(),\n",
    "                          columns=['bike_thefts']).reset_index()\n",
    "        df_filled['LOR'] = df_filled['LOR'].apply(lambda x: str(x))\n",
    "        df_filled['LOR'] = df_filled['LOR'].apply(lambda x: f'0{(x)}'[-8:])\n",
    "        return df_filled\n",
    "    \n",
    "    # def reencode_LOR(self, df, dictionary) -> pd.DataFrame:\n",
    "    #     '''Reencode LOR into name of district.'''\n",
    "    #     for idx, row in df['LOR'].items():\n",
    "    #         for key in dictionary.keys():\n",
    "    #             if key in row[0:2]:\n",
    "    #                 row = dictionary[key]\n",
    "    #             else:\n",
    "    #                 continue\n",
    "    #         return df\n",
    "        \n",
    "    \n",
    "    def rename_cols(self, df) -> pd.DataFrame:\n",
    "        return df.rename(columns={\n",
    "            'Client_ID' : 'Unique_Frequency', \n",
    "            'TATZEIT_ANFANG_DATUM' : 'start_date_delict',\n",
    "            'TATZEIT_ANFANG_STUNDE' : 'start_time_delict',\n",
    "            'TATZEIT_ENDE_DATUM' : 'end_date_delict',\n",
    "            'TATZEIT_ENDE_STUNDE' : 'end_time_delict',\n",
    "            'SCHADENSHOEHE' : 'damage_amount',\n",
    "            'VERSUCH' : 'intent_delict',\n",
    "            'ART_DES_FAHRRADS' : 'bike_type',\n",
    "            'DELIKT' : 'delict',\n",
    "            'ERFASSUNGSGRUND' : 'description'\n",
    "            })\n",
    "    \n",
    "    def save_intermediate_data(self, df, file: str):\n",
    "        '''Save extracted data locally as csv-file.'''\n",
    "        return df.to_csv(f'{self.path_saveable}/{file}.csv')\n",
    "\n",
    "    def save_LOR_bike_thefts(self, df, group_by: str, col_names: str, file: str):\n",
    "        '''Save extracted LOR-bike thefts-data locally as csv-file.'''\n",
    "        bike_thefts_LOR = pd.DataFrame(df.groupby(group_by).size(),\n",
    "                        columns = [col_names]).reset_index()\n",
    "        return bike_thefts_LOR.to_csv(f'{self.path_saveable}/{file}.csv')"
   ]
  },
  {
   "cell_type": "code",
   "execution_count": 111,
   "metadata": {},
   "outputs": [],
   "source": [
    "class PlotBikeThefts():\n",
    "    '''Plot data with seaborn.'''\n",
    "\n",
    "    def plot_categoricals(self, df, ordinate) -> sns:\n",
    "            return sns.catplot(\n",
    "            data=df, y=ordinate, kind=\"count\",\n",
    "            palette=\"pastel\", edgecolor=\".6\",\n",
    "        )\n",
    "\n",
    "    def plot_correlations(self, df) -> sns:\n",
    "        corr = df.corr()\n",
    "        mask = np.triu(np.ones_like(corr, dtype=bool))\n",
    "        f, ax = plt.subplots(figsize=(8, 6))\n",
    "        plt.xticks(rotation=45)\n",
    "        cmap = sns.diverging_palette(230, 20, as_cmap=True)\n",
    "        return sns.heatmap(corr, mask=mask, cmap=cmap, vmax=.3, center=0,\n",
    "                    square=True, linewidths=.5, cbar_kws={\"shrink\": .5})\n",
    "    "
   ]
  },
  {
   "cell_type": "markdown",
   "metadata": {},
   "source": [
    "## Inspect"
   ]
  },
  {
   "cell_type": "code",
   "execution_count": 71,
   "metadata": {},
   "outputs": [],
   "source": [
    "bike_thefts = BikeThefts()"
   ]
  },
  {
   "cell_type": "code",
   "execution_count": 72,
   "metadata": {},
   "outputs": [
    {
     "data": {
      "text/html": [
       "<div>\n",
       "<style scoped>\n",
       "    .dataframe tbody tr th:only-of-type {\n",
       "        vertical-align: middle;\n",
       "    }\n",
       "\n",
       "    .dataframe tbody tr th {\n",
       "        vertical-align: top;\n",
       "    }\n",
       "\n",
       "    .dataframe thead th {\n",
       "        text-align: right;\n",
       "    }\n",
       "</style>\n",
       "<table border=\"1\" class=\"dataframe\">\n",
       "  <thead>\n",
       "    <tr style=\"text-align: right;\">\n",
       "      <th></th>\n",
       "      <th>TATZEIT_ANFANG_DATUM</th>\n",
       "      <th>TATZEIT_ANFANG_STUNDE</th>\n",
       "      <th>TATZEIT_ENDE_DATUM</th>\n",
       "      <th>TATZEIT_ENDE_STUNDE</th>\n",
       "      <th>LOR</th>\n",
       "      <th>SCHADENSHOEHE</th>\n",
       "      <th>VERSUCH</th>\n",
       "      <th>ART_DES_FAHRRADS</th>\n",
       "      <th>DELIKT</th>\n",
       "      <th>ERFASSUNGSGRUND</th>\n",
       "    </tr>\n",
       "    <tr>\n",
       "      <th>ANGELEGT_AM</th>\n",
       "      <th></th>\n",
       "      <th></th>\n",
       "      <th></th>\n",
       "      <th></th>\n",
       "      <th></th>\n",
       "      <th></th>\n",
       "      <th></th>\n",
       "      <th></th>\n",
       "      <th></th>\n",
       "      <th></th>\n",
       "    </tr>\n",
       "  </thead>\n",
       "  <tbody>\n",
       "    <tr>\n",
       "      <th>2023-02-19</th>\n",
       "      <td>18.02.2023</td>\n",
       "      <td>18</td>\n",
       "      <td>19.02.2023</td>\n",
       "      <td>7</td>\n",
       "      <td>3701658</td>\n",
       "      <td>3472</td>\n",
       "      <td>Nein</td>\n",
       "      <td>Herrenfahrrad</td>\n",
       "      <td>Fahrraddiebstahl</td>\n",
       "      <td>Sonstiger schwerer Diebstahl von Fahrrädern</td>\n",
       "    </tr>\n",
       "    <tr>\n",
       "      <th>2023-02-19</th>\n",
       "      <td>18.02.2023</td>\n",
       "      <td>20</td>\n",
       "      <td>19.02.2023</td>\n",
       "      <td>9</td>\n",
       "      <td>1100308</td>\n",
       "      <td>2277</td>\n",
       "      <td>Nein</td>\n",
       "      <td>Herrenfahrrad</td>\n",
       "      <td>Fahrraddiebstahl</td>\n",
       "      <td>Sonstiger schwerer Diebstahl von Fahrrädern</td>\n",
       "    </tr>\n",
       "    <tr>\n",
       "      <th>2023-02-19</th>\n",
       "      <td>18.02.2023</td>\n",
       "      <td>16</td>\n",
       "      <td>19.02.2023</td>\n",
       "      <td>0</td>\n",
       "      <td>6100102</td>\n",
       "      <td>746</td>\n",
       "      <td>Nein</td>\n",
       "      <td>Damenfahrrad</td>\n",
       "      <td>Fahrraddiebstahl</td>\n",
       "      <td>Sonstiger schwerer Diebstahl von Fahrrädern</td>\n",
       "    </tr>\n",
       "    <tr>\n",
       "      <th>2023-02-19</th>\n",
       "      <td>18.02.2023</td>\n",
       "      <td>17</td>\n",
       "      <td>19.02.2023</td>\n",
       "      <td>0</td>\n",
       "      <td>7601544</td>\n",
       "      <td>1849</td>\n",
       "      <td>Nein</td>\n",
       "      <td>Herrenfahrrad</td>\n",
       "      <td>Fahrraddiebstahl</td>\n",
       "      <td>Sonstiger schwerer Diebstahl von Fahrrädern</td>\n",
       "    </tr>\n",
       "    <tr>\n",
       "      <th>2023-02-19</th>\n",
       "      <td>17.02.2023</td>\n",
       "      <td>17</td>\n",
       "      <td>17.02.2023</td>\n",
       "      <td>17</td>\n",
       "      <td>3601346</td>\n",
       "      <td>1863</td>\n",
       "      <td>Nein</td>\n",
       "      <td>Herrenfahrrad</td>\n",
       "      <td>Fahrraddiebstahl</td>\n",
       "      <td>Sonstiger schwerer Diebstahl von Fahrrädern</td>\n",
       "    </tr>\n",
       "  </tbody>\n",
       "</table>\n",
       "</div>"
      ],
      "text/plain": [
       "            TATZEIT_ANFANG_DATUM  TATZEIT_ANFANG_STUNDE TATZEIT_ENDE_DATUM  \\\n",
       "ANGELEGT_AM                                                                  \n",
       "2023-02-19            18.02.2023                     18         19.02.2023   \n",
       "2023-02-19            18.02.2023                     20         19.02.2023   \n",
       "2023-02-19            18.02.2023                     16         19.02.2023   \n",
       "2023-02-19            18.02.2023                     17         19.02.2023   \n",
       "2023-02-19            17.02.2023                     17         17.02.2023   \n",
       "\n",
       "             TATZEIT_ENDE_STUNDE      LOR  SCHADENSHOEHE VERSUCH  \\\n",
       "ANGELEGT_AM                                                        \n",
       "2023-02-19                     7  3701658           3472    Nein   \n",
       "2023-02-19                     9  1100308           2277    Nein   \n",
       "2023-02-19                     0  6100102            746    Nein   \n",
       "2023-02-19                     0  7601544           1849    Nein   \n",
       "2023-02-19                    17  3601346           1863    Nein   \n",
       "\n",
       "            ART_DES_FAHRRADS            DELIKT  \\\n",
       "ANGELEGT_AM                                      \n",
       "2023-02-19     Herrenfahrrad  Fahrraddiebstahl   \n",
       "2023-02-19     Herrenfahrrad  Fahrraddiebstahl   \n",
       "2023-02-19      Damenfahrrad  Fahrraddiebstahl   \n",
       "2023-02-19     Herrenfahrrad  Fahrraddiebstahl   \n",
       "2023-02-19     Herrenfahrrad  Fahrraddiebstahl   \n",
       "\n",
       "                                         ERFASSUNGSGRUND  \n",
       "ANGELEGT_AM                                               \n",
       "2023-02-19   Sonstiger schwerer Diebstahl von Fahrrädern  \n",
       "2023-02-19   Sonstiger schwerer Diebstahl von Fahrrädern  \n",
       "2023-02-19   Sonstiger schwerer Diebstahl von Fahrrädern  \n",
       "2023-02-19   Sonstiger schwerer Diebstahl von Fahrrädern  \n",
       "2023-02-19   Sonstiger schwerer Diebstahl von Fahrrädern  "
      ]
     },
     "execution_count": 72,
     "metadata": {},
     "output_type": "execute_result"
    }
   ],
   "source": [
    "df = bike_thefts.read_initial_data()\n",
    "df.head()"
   ]
  },
  {
   "cell_type": "code",
   "execution_count": 73,
   "metadata": {},
   "outputs": [
    {
     "name": "stdout",
     "output_type": "stream",
     "text": [
      "<class 'pandas.core.frame.DataFrame'>\n",
      "DatetimeIndex: 24610 entries, 2023-02-19 to 2022-01-01\n",
      "Data columns (total 10 columns):\n",
      " #   Column                 Non-Null Count  Dtype \n",
      "---  ------                 --------------  ----- \n",
      " 0   TATZEIT_ANFANG_DATUM   24610 non-null  object\n",
      " 1   TATZEIT_ANFANG_STUNDE  24610 non-null  int64 \n",
      " 2   TATZEIT_ENDE_DATUM     24610 non-null  object\n",
      " 3   TATZEIT_ENDE_STUNDE    24610 non-null  int64 \n",
      " 4   LOR                    24610 non-null  int64 \n",
      " 5   SCHADENSHOEHE          24610 non-null  int64 \n",
      " 6   VERSUCH                24610 non-null  object\n",
      " 7   ART_DES_FAHRRADS       24610 non-null  object\n",
      " 8   DELIKT                 24610 non-null  object\n",
      " 9   ERFASSUNGSGRUND        24610 non-null  object\n",
      "dtypes: int64(4), object(6)\n",
      "memory usage: 2.1+ MB\n"
     ]
    }
   ],
   "source": [
    "df.info() # dates are encoded as strings"
   ]
  },
  {
   "cell_type": "code",
   "execution_count": 74,
   "metadata": {},
   "outputs": [
    {
     "data": {
      "text/plain": [
       "0"
      ]
     },
     "execution_count": 74,
     "metadata": {},
     "output_type": "execute_result"
    }
   ],
   "source": [
    "df.isna().sum().sum()"
   ]
  },
  {
   "cell_type": "code",
   "execution_count": 75,
   "metadata": {},
   "outputs": [
    {
     "data": {
      "text/plain": [
       "array(['Fahrraddiebstahl', 'Keller- und Bodeneinbruch'], dtype=object)"
      ]
     },
     "execution_count": 75,
     "metadata": {},
     "output_type": "execute_result"
    }
   ],
   "source": [
    "bike_thefts.check_unique(df['DELIKT'])"
   ]
  },
  {
   "cell_type": "code",
   "execution_count": 76,
   "metadata": {},
   "outputs": [
    {
     "data": {
      "text/plain": [
       "array(['Herrenfahrrad', 'Damenfahrrad', 'Mountainbike',\n",
       "       'diverse Fahrräder', 'Fahrrad', 'Kinderfahrrad', 'Rennrad',\n",
       "       'Lastenfahrrad'], dtype=object)"
      ]
     },
     "execution_count": 76,
     "metadata": {},
     "output_type": "execute_result"
    }
   ],
   "source": [
    "bike_thefts.check_unique(df['ART_DES_FAHRRADS'])"
   ]
  },
  {
   "cell_type": "code",
   "execution_count": 77,
   "metadata": {},
   "outputs": [
    {
     "data": {
      "text/plain": [
       "540"
      ]
     },
     "execution_count": 77,
     "metadata": {},
     "output_type": "execute_result"
    }
   ],
   "source": [
    "len(bike_thefts.check_unique(df['LOR']))"
   ]
  },
  {
   "cell_type": "code",
   "execution_count": 78,
   "metadata": {},
   "outputs": [
    {
     "data": {
      "text/plain": [
       "array(['Nein', 'Unbekannt', 'Ja'], dtype=object)"
      ]
     },
     "execution_count": 78,
     "metadata": {},
     "output_type": "execute_result"
    }
   ],
   "source": [
    "bike_thefts.check_unique(df['VERSUCH']) "
   ]
  },
  {
   "cell_type": "code",
   "execution_count": 79,
   "metadata": {},
   "outputs": [
    {
     "data": {
      "text/plain": [
       "5"
      ]
     },
     "execution_count": 79,
     "metadata": {},
     "output_type": "execute_result"
    }
   ],
   "source": [
    "len(df[df['VERSUCH']== 'Unbekannt']) # decision: include or drop?"
   ]
  },
  {
   "cell_type": "code",
   "execution_count": 80,
   "metadata": {},
   "outputs": [
    {
     "data": {
      "text/plain": [
       "array(['Sonstiger schwerer Diebstahl von Fahrrädern',\n",
       "       'Einfacher Diebstahl von Fahrrädern',\n",
       "       'Sonstiger schwerer Diebstahl in/aus Keller/Boden von Fahrrädern',\n",
       "       'Einfacher Diebstahl aus Keller/Boden von Fahrrädern'],\n",
       "      dtype=object)"
      ]
     },
     "execution_count": 80,
     "metadata": {},
     "output_type": "execute_result"
    }
   ],
   "source": [
    "bike_thefts.check_unique(df['ERFASSUNGSGRUND'])"
   ]
  },
  {
   "cell_type": "code",
   "execution_count": 81,
   "metadata": {},
   "outputs": [
    {
     "data": {
      "text/plain": [
       "Index(['start_date_delict', 'start_time_delict', 'end_date_delict',\n",
       "       'end_time_delict', 'LOR', 'damage_amount', 'intent_delict', 'bike_type',\n",
       "       'delict', 'description'],\n",
       "      dtype='object')"
      ]
     },
     "execution_count": 81,
     "metadata": {},
     "output_type": "execute_result"
    }
   ],
   "source": [
    "df = bike_thefts.rename_cols(df)\n",
    "df.columns"
   ]
  },
  {
   "attachments": {},
   "cell_type": "markdown",
   "metadata": {},
   "source": [
    "## Parse time"
   ]
  },
  {
   "cell_type": "code",
   "execution_count": 82,
   "metadata": {},
   "outputs": [
    {
     "data": {
      "text/html": [
       "<div>\n",
       "<style scoped>\n",
       "    .dataframe tbody tr th:only-of-type {\n",
       "        vertical-align: middle;\n",
       "    }\n",
       "\n",
       "    .dataframe tbody tr th {\n",
       "        vertical-align: top;\n",
       "    }\n",
       "\n",
       "    .dataframe thead th {\n",
       "        text-align: right;\n",
       "    }\n",
       "</style>\n",
       "<table border=\"1\" class=\"dataframe\">\n",
       "  <thead>\n",
       "    <tr style=\"text-align: right;\">\n",
       "      <th></th>\n",
       "      <th>start_date_delict</th>\n",
       "      <th>start_time_delict</th>\n",
       "      <th>end_date_delict</th>\n",
       "      <th>end_time_delict</th>\n",
       "      <th>LOR</th>\n",
       "      <th>damage_amount</th>\n",
       "      <th>intent_delict</th>\n",
       "      <th>bike_type</th>\n",
       "      <th>delict</th>\n",
       "      <th>description</th>\n",
       "    </tr>\n",
       "    <tr>\n",
       "      <th>ANGELEGT_AM</th>\n",
       "      <th></th>\n",
       "      <th></th>\n",
       "      <th></th>\n",
       "      <th></th>\n",
       "      <th></th>\n",
       "      <th></th>\n",
       "      <th></th>\n",
       "      <th></th>\n",
       "      <th></th>\n",
       "      <th></th>\n",
       "    </tr>\n",
       "  </thead>\n",
       "  <tbody>\n",
       "    <tr>\n",
       "      <th>2023-02-19</th>\n",
       "      <td>2023-02-18</td>\n",
       "      <td>18</td>\n",
       "      <td>2023-02-19</td>\n",
       "      <td>7</td>\n",
       "      <td>3701658</td>\n",
       "      <td>3472</td>\n",
       "      <td>Nein</td>\n",
       "      <td>Herrenfahrrad</td>\n",
       "      <td>Fahrraddiebstahl</td>\n",
       "      <td>Sonstiger schwerer Diebstahl von Fahrrädern</td>\n",
       "    </tr>\n",
       "    <tr>\n",
       "      <th>2023-02-19</th>\n",
       "      <td>2023-02-18</td>\n",
       "      <td>20</td>\n",
       "      <td>2023-02-19</td>\n",
       "      <td>9</td>\n",
       "      <td>1100308</td>\n",
       "      <td>2277</td>\n",
       "      <td>Nein</td>\n",
       "      <td>Herrenfahrrad</td>\n",
       "      <td>Fahrraddiebstahl</td>\n",
       "      <td>Sonstiger schwerer Diebstahl von Fahrrädern</td>\n",
       "    </tr>\n",
       "    <tr>\n",
       "      <th>2023-02-19</th>\n",
       "      <td>2023-02-18</td>\n",
       "      <td>16</td>\n",
       "      <td>2023-02-19</td>\n",
       "      <td>0</td>\n",
       "      <td>6100102</td>\n",
       "      <td>746</td>\n",
       "      <td>Nein</td>\n",
       "      <td>Damenfahrrad</td>\n",
       "      <td>Fahrraddiebstahl</td>\n",
       "      <td>Sonstiger schwerer Diebstahl von Fahrrädern</td>\n",
       "    </tr>\n",
       "  </tbody>\n",
       "</table>\n",
       "</div>"
      ],
      "text/plain": [
       "            start_date_delict  start_time_delict end_date_delict  \\\n",
       "ANGELEGT_AM                                                        \n",
       "2023-02-19         2023-02-18                 18      2023-02-19   \n",
       "2023-02-19         2023-02-18                 20      2023-02-19   \n",
       "2023-02-19         2023-02-18                 16      2023-02-19   \n",
       "\n",
       "             end_time_delict      LOR  damage_amount intent_delict  \\\n",
       "ANGELEGT_AM                                                          \n",
       "2023-02-19                 7  3701658           3472          Nein   \n",
       "2023-02-19                 9  1100308           2277          Nein   \n",
       "2023-02-19                 0  6100102            746          Nein   \n",
       "\n",
       "                 bike_type            delict  \\\n",
       "ANGELEGT_AM                                    \n",
       "2023-02-19   Herrenfahrrad  Fahrraddiebstahl   \n",
       "2023-02-19   Herrenfahrrad  Fahrraddiebstahl   \n",
       "2023-02-19    Damenfahrrad  Fahrraddiebstahl   \n",
       "\n",
       "                                             description  \n",
       "ANGELEGT_AM                                               \n",
       "2023-02-19   Sonstiger schwerer Diebstahl von Fahrrädern  \n",
       "2023-02-19   Sonstiger schwerer Diebstahl von Fahrrädern  \n",
       "2023-02-19   Sonstiger schwerer Diebstahl von Fahrrädern  "
      ]
     },
     "execution_count": 82,
     "metadata": {},
     "output_type": "execute_result"
    }
   ],
   "source": [
    "df_transformed = bike_thefts.time_parser(df, time_parseable)\n",
    "df_transformed.head(3)"
   ]
  },
  {
   "cell_type": "code",
   "execution_count": 83,
   "metadata": {},
   "outputs": [],
   "source": [
    "df_transformed = bike_thefts.crime_duration_days(df_transformed, \n",
    "                                            start=df_transformed['start_date_delict'], \n",
    "                                            end = df_transformed['end_date_delict'])"
   ]
  },
  {
   "cell_type": "code",
   "execution_count": 84,
   "metadata": {},
   "outputs": [
    {
     "data": {
      "text/html": [
       "<div>\n",
       "<style scoped>\n",
       "    .dataframe tbody tr th:only-of-type {\n",
       "        vertical-align: middle;\n",
       "    }\n",
       "\n",
       "    .dataframe tbody tr th {\n",
       "        vertical-align: top;\n",
       "    }\n",
       "\n",
       "    .dataframe thead th {\n",
       "        text-align: right;\n",
       "    }\n",
       "</style>\n",
       "<table border=\"1\" class=\"dataframe\">\n",
       "  <thead>\n",
       "    <tr style=\"text-align: right;\">\n",
       "      <th></th>\n",
       "      <th>start_date_delict</th>\n",
       "      <th>start_time_delict</th>\n",
       "      <th>end_date_delict</th>\n",
       "      <th>end_time_delict</th>\n",
       "      <th>LOR</th>\n",
       "      <th>damage_amount</th>\n",
       "      <th>intent_delict</th>\n",
       "      <th>bike_type</th>\n",
       "      <th>delict</th>\n",
       "      <th>description</th>\n",
       "      <th>crime_duration_days</th>\n",
       "      <th>crime_duration_hours</th>\n",
       "    </tr>\n",
       "    <tr>\n",
       "      <th>ANGELEGT_AM</th>\n",
       "      <th></th>\n",
       "      <th></th>\n",
       "      <th></th>\n",
       "      <th></th>\n",
       "      <th></th>\n",
       "      <th></th>\n",
       "      <th></th>\n",
       "      <th></th>\n",
       "      <th></th>\n",
       "      <th></th>\n",
       "      <th></th>\n",
       "      <th></th>\n",
       "    </tr>\n",
       "  </thead>\n",
       "  <tbody>\n",
       "    <tr>\n",
       "      <th>2023-02-19</th>\n",
       "      <td>2023-02-18</td>\n",
       "      <td>18</td>\n",
       "      <td>2023-02-19</td>\n",
       "      <td>7</td>\n",
       "      <td>3701658</td>\n",
       "      <td>3472</td>\n",
       "      <td>Nein</td>\n",
       "      <td>Herrenfahrrad</td>\n",
       "      <td>Fahrraddiebstahl</td>\n",
       "      <td>Sonstiger schwerer Diebstahl von Fahrrädern</td>\n",
       "      <td>1 days</td>\n",
       "      <td>11</td>\n",
       "    </tr>\n",
       "    <tr>\n",
       "      <th>2023-02-19</th>\n",
       "      <td>2023-02-18</td>\n",
       "      <td>20</td>\n",
       "      <td>2023-02-19</td>\n",
       "      <td>9</td>\n",
       "      <td>1100308</td>\n",
       "      <td>2277</td>\n",
       "      <td>Nein</td>\n",
       "      <td>Herrenfahrrad</td>\n",
       "      <td>Fahrraddiebstahl</td>\n",
       "      <td>Sonstiger schwerer Diebstahl von Fahrrädern</td>\n",
       "      <td>1 days</td>\n",
       "      <td>11</td>\n",
       "    </tr>\n",
       "  </tbody>\n",
       "</table>\n",
       "</div>"
      ],
      "text/plain": [
       "            start_date_delict  start_time_delict end_date_delict  \\\n",
       "ANGELEGT_AM                                                        \n",
       "2023-02-19         2023-02-18                 18      2023-02-19   \n",
       "2023-02-19         2023-02-18                 20      2023-02-19   \n",
       "\n",
       "             end_time_delict      LOR  damage_amount intent_delict  \\\n",
       "ANGELEGT_AM                                                          \n",
       "2023-02-19                 7  3701658           3472          Nein   \n",
       "2023-02-19                 9  1100308           2277          Nein   \n",
       "\n",
       "                 bike_type            delict  \\\n",
       "ANGELEGT_AM                                    \n",
       "2023-02-19   Herrenfahrrad  Fahrraddiebstahl   \n",
       "2023-02-19   Herrenfahrrad  Fahrraddiebstahl   \n",
       "\n",
       "                                             description crime_duration_days  \\\n",
       "ANGELEGT_AM                                                                    \n",
       "2023-02-19   Sonstiger schwerer Diebstahl von Fahrrädern              1 days   \n",
       "2023-02-19   Sonstiger schwerer Diebstahl von Fahrrädern              1 days   \n",
       "\n",
       "             crime_duration_hours  \n",
       "ANGELEGT_AM                        \n",
       "2023-02-19                     11  \n",
       "2023-02-19                     11  "
      ]
     },
     "execution_count": 84,
     "metadata": {},
     "output_type": "execute_result"
    }
   ],
   "source": [
    "df_transformed = bike_thefts.crime_duration_hours(df_transformed, \n",
    "                                            start=df_transformed['start_time_delict'], \n",
    "                                            end = df_transformed['end_time_delict'])\n",
    "df_transformed.head(2)"
   ]
  },
  {
   "cell_type": "code",
   "execution_count": 85,
   "metadata": {},
   "outputs": [
    {
     "data": {
      "text/html": [
       "<div>\n",
       "<style scoped>\n",
       "    .dataframe tbody tr th:only-of-type {\n",
       "        vertical-align: middle;\n",
       "    }\n",
       "\n",
       "    .dataframe tbody tr th {\n",
       "        vertical-align: top;\n",
       "    }\n",
       "\n",
       "    .dataframe thead th {\n",
       "        text-align: right;\n",
       "    }\n",
       "</style>\n",
       "<table border=\"1\" class=\"dataframe\">\n",
       "  <thead>\n",
       "    <tr style=\"text-align: right;\">\n",
       "      <th></th>\n",
       "      <th>start_date_delict</th>\n",
       "      <th>start_time_delict</th>\n",
       "      <th>end_date_delict</th>\n",
       "      <th>end_time_delict</th>\n",
       "      <th>LOR</th>\n",
       "      <th>damage_amount</th>\n",
       "      <th>intent_delict</th>\n",
       "      <th>bike_type</th>\n",
       "      <th>delict</th>\n",
       "      <th>description</th>\n",
       "      <th>crime_duration_days</th>\n",
       "      <th>crime_duration_hours</th>\n",
       "      <th>year</th>\n",
       "      <th>month</th>\n",
       "    </tr>\n",
       "    <tr>\n",
       "      <th>ANGELEGT_AM</th>\n",
       "      <th></th>\n",
       "      <th></th>\n",
       "      <th></th>\n",
       "      <th></th>\n",
       "      <th></th>\n",
       "      <th></th>\n",
       "      <th></th>\n",
       "      <th></th>\n",
       "      <th></th>\n",
       "      <th></th>\n",
       "      <th></th>\n",
       "      <th></th>\n",
       "      <th></th>\n",
       "      <th></th>\n",
       "    </tr>\n",
       "  </thead>\n",
       "  <tbody>\n",
       "    <tr>\n",
       "      <th>2023-02-19</th>\n",
       "      <td>2023-02-18</td>\n",
       "      <td>18</td>\n",
       "      <td>2023-02-19</td>\n",
       "      <td>7</td>\n",
       "      <td>3701658</td>\n",
       "      <td>3472</td>\n",
       "      <td>Nein</td>\n",
       "      <td>Herrenfahrrad</td>\n",
       "      <td>Fahrraddiebstahl</td>\n",
       "      <td>Sonstiger schwerer Diebstahl von Fahrrädern</td>\n",
       "      <td>1 days</td>\n",
       "      <td>11</td>\n",
       "      <td>2023</td>\n",
       "      <td>2</td>\n",
       "    </tr>\n",
       "    <tr>\n",
       "      <th>2023-02-19</th>\n",
       "      <td>2023-02-18</td>\n",
       "      <td>20</td>\n",
       "      <td>2023-02-19</td>\n",
       "      <td>9</td>\n",
       "      <td>1100308</td>\n",
       "      <td>2277</td>\n",
       "      <td>Nein</td>\n",
       "      <td>Herrenfahrrad</td>\n",
       "      <td>Fahrraddiebstahl</td>\n",
       "      <td>Sonstiger schwerer Diebstahl von Fahrrädern</td>\n",
       "      <td>1 days</td>\n",
       "      <td>11</td>\n",
       "      <td>2023</td>\n",
       "      <td>2</td>\n",
       "    </tr>\n",
       "  </tbody>\n",
       "</table>\n",
       "</div>"
      ],
      "text/plain": [
       "            start_date_delict  start_time_delict end_date_delict  \\\n",
       "ANGELEGT_AM                                                        \n",
       "2023-02-19         2023-02-18                 18      2023-02-19   \n",
       "2023-02-19         2023-02-18                 20      2023-02-19   \n",
       "\n",
       "             end_time_delict      LOR  damage_amount intent_delict  \\\n",
       "ANGELEGT_AM                                                          \n",
       "2023-02-19                 7  3701658           3472          Nein   \n",
       "2023-02-19                 9  1100308           2277          Nein   \n",
       "\n",
       "                 bike_type            delict  \\\n",
       "ANGELEGT_AM                                    \n",
       "2023-02-19   Herrenfahrrad  Fahrraddiebstahl   \n",
       "2023-02-19   Herrenfahrrad  Fahrraddiebstahl   \n",
       "\n",
       "                                             description crime_duration_days  \\\n",
       "ANGELEGT_AM                                                                    \n",
       "2023-02-19   Sonstiger schwerer Diebstahl von Fahrrädern              1 days   \n",
       "2023-02-19   Sonstiger schwerer Diebstahl von Fahrrädern              1 days   \n",
       "\n",
       "             crime_duration_hours  year  month  \n",
       "ANGELEGT_AM                                     \n",
       "2023-02-19                     11  2023      2  \n",
       "2023-02-19                     11  2023      2  "
      ]
     },
     "execution_count": 85,
     "metadata": {},
     "output_type": "execute_result"
    }
   ],
   "source": [
    "df_transformed = bike_thefts.include_timestamps(df)\n",
    "df_transformed.head(2)"
   ]
  },
  {
   "cell_type": "code",
   "execution_count": 86,
   "metadata": {},
   "outputs": [
    {
     "data": {
      "text/html": [
       "<div>\n",
       "<style scoped>\n",
       "    .dataframe tbody tr th:only-of-type {\n",
       "        vertical-align: middle;\n",
       "    }\n",
       "\n",
       "    .dataframe tbody tr th {\n",
       "        vertical-align: top;\n",
       "    }\n",
       "\n",
       "    .dataframe thead th {\n",
       "        text-align: right;\n",
       "    }\n",
       "</style>\n",
       "<table border=\"1\" class=\"dataframe\">\n",
       "  <thead>\n",
       "    <tr style=\"text-align: right;\">\n",
       "      <th></th>\n",
       "      <th>start_date_delict</th>\n",
       "      <th>start_time_delict</th>\n",
       "      <th>end_date_delict</th>\n",
       "      <th>end_time_delict</th>\n",
       "      <th>LOR</th>\n",
       "      <th>damage_amount</th>\n",
       "      <th>intent_delict</th>\n",
       "      <th>bike_type</th>\n",
       "      <th>delict</th>\n",
       "      <th>description</th>\n",
       "      <th>crime_duration_days</th>\n",
       "      <th>crime_duration_hours</th>\n",
       "      <th>year</th>\n",
       "      <th>month</th>\n",
       "    </tr>\n",
       "    <tr>\n",
       "      <th>ANGELEGT_AM</th>\n",
       "      <th></th>\n",
       "      <th></th>\n",
       "      <th></th>\n",
       "      <th></th>\n",
       "      <th></th>\n",
       "      <th></th>\n",
       "      <th></th>\n",
       "      <th></th>\n",
       "      <th></th>\n",
       "      <th></th>\n",
       "      <th></th>\n",
       "      <th></th>\n",
       "      <th></th>\n",
       "      <th></th>\n",
       "    </tr>\n",
       "  </thead>\n",
       "  <tbody>\n",
       "    <tr>\n",
       "      <th>2023-02-19</th>\n",
       "      <td>2023-02-18</td>\n",
       "      <td>18</td>\n",
       "      <td>2023-02-19</td>\n",
       "      <td>7</td>\n",
       "      <td>03701658</td>\n",
       "      <td>3472</td>\n",
       "      <td>Nein</td>\n",
       "      <td>Herrenfahrrad</td>\n",
       "      <td>Fahrraddiebstahl</td>\n",
       "      <td>Sonstiger schwerer Diebstahl von Fahrrädern</td>\n",
       "      <td>1 days</td>\n",
       "      <td>11</td>\n",
       "      <td>2023</td>\n",
       "      <td>2</td>\n",
       "    </tr>\n",
       "    <tr>\n",
       "      <th>2023-02-19</th>\n",
       "      <td>2023-02-18</td>\n",
       "      <td>20</td>\n",
       "      <td>2023-02-19</td>\n",
       "      <td>9</td>\n",
       "      <td>01100308</td>\n",
       "      <td>2277</td>\n",
       "      <td>Nein</td>\n",
       "      <td>Herrenfahrrad</td>\n",
       "      <td>Fahrraddiebstahl</td>\n",
       "      <td>Sonstiger schwerer Diebstahl von Fahrrädern</td>\n",
       "      <td>1 days</td>\n",
       "      <td>11</td>\n",
       "      <td>2023</td>\n",
       "      <td>2</td>\n",
       "    </tr>\n",
       "  </tbody>\n",
       "</table>\n",
       "</div>"
      ],
      "text/plain": [
       "            start_date_delict  start_time_delict end_date_delict  \\\n",
       "ANGELEGT_AM                                                        \n",
       "2023-02-19         2023-02-18                 18      2023-02-19   \n",
       "2023-02-19         2023-02-18                 20      2023-02-19   \n",
       "\n",
       "             end_time_delict       LOR  damage_amount intent_delict  \\\n",
       "ANGELEGT_AM                                                           \n",
       "2023-02-19                 7  03701658           3472          Nein   \n",
       "2023-02-19                 9  01100308           2277          Nein   \n",
       "\n",
       "                 bike_type            delict  \\\n",
       "ANGELEGT_AM                                    \n",
       "2023-02-19   Herrenfahrrad  Fahrraddiebstahl   \n",
       "2023-02-19   Herrenfahrrad  Fahrraddiebstahl   \n",
       "\n",
       "                                             description crime_duration_days  \\\n",
       "ANGELEGT_AM                                                                    \n",
       "2023-02-19   Sonstiger schwerer Diebstahl von Fahrrädern              1 days   \n",
       "2023-02-19   Sonstiger schwerer Diebstahl von Fahrrädern              1 days   \n",
       "\n",
       "             crime_duration_hours  year  month  \n",
       "ANGELEGT_AM                                     \n",
       "2023-02-19                     11  2023      2  \n",
       "2023-02-19                     11  2023      2  "
      ]
     },
     "execution_count": 86,
     "metadata": {},
     "output_type": "execute_result"
    }
   ],
   "source": [
    "df_transformed = bike_thefts.fill_ints(df)\n",
    "df_transformed.head(2)"
   ]
  },
  {
   "cell_type": "code",
   "execution_count": 87,
   "metadata": {},
   "outputs": [],
   "source": [
    "bike_thefts.save_intermediate_data(df_transformed, 'bike_thefts_transformed')"
   ]
  },
  {
   "attachments": {},
   "cell_type": "markdown",
   "metadata": {},
   "source": [
    "## Create sub DataFrame with `LOR` and `bike_theft_count`"
   ]
  },
  {
   "cell_type": "code",
   "execution_count": 88,
   "metadata": {},
   "outputs": [
    {
     "data": {
      "text/html": [
       "<div>\n",
       "<style scoped>\n",
       "    .dataframe tbody tr th:only-of-type {\n",
       "        vertical-align: middle;\n",
       "    }\n",
       "\n",
       "    .dataframe tbody tr th {\n",
       "        vertical-align: top;\n",
       "    }\n",
       "\n",
       "    .dataframe thead th {\n",
       "        text-align: right;\n",
       "    }\n",
       "</style>\n",
       "<table border=\"1\" class=\"dataframe\">\n",
       "  <thead>\n",
       "    <tr style=\"text-align: right;\">\n",
       "      <th></th>\n",
       "      <th>LOR</th>\n",
       "      <th>bike_thefts</th>\n",
       "    </tr>\n",
       "  </thead>\n",
       "  <tbody>\n",
       "    <tr>\n",
       "      <th>0</th>\n",
       "      <td>01100101</td>\n",
       "      <td>28</td>\n",
       "    </tr>\n",
       "    <tr>\n",
       "      <th>1</th>\n",
       "      <td>01100102</td>\n",
       "      <td>127</td>\n",
       "    </tr>\n",
       "  </tbody>\n",
       "</table>\n",
       "</div>"
      ],
      "text/plain": [
       "        LOR  bike_thefts\n",
       "0  01100101           28\n",
       "1  01100102          127"
      ]
     },
     "execution_count": 88,
     "metadata": {},
     "output_type": "execute_result"
    }
   ],
   "source": [
    "df_count_bike_thefts = bike_thefts.fill_ints_grouped(df_transformed)\n",
    "df_count_bike_thefts.head(2)\n",
    "#len(df_count_bike_thefts)"
   ]
  },
  {
   "cell_type": "code",
   "execution_count": 89,
   "metadata": {},
   "outputs": [
    {
     "data": {
      "text/plain": [
       "24610"
      ]
     },
     "execution_count": 89,
     "metadata": {},
     "output_type": "execute_result"
    }
   ],
   "source": [
    "len(df_transformed)"
   ]
  },
  {
   "cell_type": "code",
   "execution_count": 90,
   "metadata": {},
   "outputs": [],
   "source": [
    "bike_thefts.save_LOR_bike_thefts(df_count_bike_thefts, 'LOR', 'bike_thefts_count', 'bike_thefts_LOR' )"
   ]
  },
  {
   "cell_type": "code",
   "execution_count": null,
   "metadata": {},
   "outputs": [],
   "source": []
  },
  {
   "attachments": {},
   "cell_type": "markdown",
   "metadata": {},
   "source": [
    "## Extract dataframes for individual years"
   ]
  },
  {
   "cell_type": "code",
   "execution_count": 91,
   "metadata": {},
   "outputs": [
    {
     "data": {
      "text/html": [
       "<div>\n",
       "<style scoped>\n",
       "    .dataframe tbody tr th:only-of-type {\n",
       "        vertical-align: middle;\n",
       "    }\n",
       "\n",
       "    .dataframe tbody tr th {\n",
       "        vertical-align: top;\n",
       "    }\n",
       "\n",
       "    .dataframe thead th {\n",
       "        text-align: right;\n",
       "    }\n",
       "</style>\n",
       "<table border=\"1\" class=\"dataframe\">\n",
       "  <thead>\n",
       "    <tr style=\"text-align: right;\">\n",
       "      <th></th>\n",
       "      <th>start_date_delict</th>\n",
       "      <th>start_time_delict</th>\n",
       "      <th>end_date_delict</th>\n",
       "      <th>end_time_delict</th>\n",
       "      <th>LOR</th>\n",
       "      <th>damage_amount</th>\n",
       "      <th>intent_delict</th>\n",
       "      <th>bike_type</th>\n",
       "      <th>delict</th>\n",
       "      <th>description</th>\n",
       "      <th>crime_duration_days</th>\n",
       "      <th>crime_duration_hours</th>\n",
       "      <th>year</th>\n",
       "      <th>month</th>\n",
       "    </tr>\n",
       "    <tr>\n",
       "      <th>ANGELEGT_AM</th>\n",
       "      <th></th>\n",
       "      <th></th>\n",
       "      <th></th>\n",
       "      <th></th>\n",
       "      <th></th>\n",
       "      <th></th>\n",
       "      <th></th>\n",
       "      <th></th>\n",
       "      <th></th>\n",
       "      <th></th>\n",
       "      <th></th>\n",
       "      <th></th>\n",
       "      <th></th>\n",
       "      <th></th>\n",
       "    </tr>\n",
       "  </thead>\n",
       "  <tbody>\n",
       "    <tr>\n",
       "      <th>2022-12-31</th>\n",
       "      <td>2022-12-26</td>\n",
       "      <td>20</td>\n",
       "      <td>2022-12-27</td>\n",
       "      <td>9</td>\n",
       "      <td>03400724</td>\n",
       "      <td>270</td>\n",
       "      <td>Nein</td>\n",
       "      <td>Damenfahrrad</td>\n",
       "      <td>Fahrraddiebstahl</td>\n",
       "      <td>Sonstiger schwerer Diebstahl von Fahrrädern</td>\n",
       "      <td>1 days</td>\n",
       "      <td>11</td>\n",
       "      <td>2022</td>\n",
       "      <td>12</td>\n",
       "    </tr>\n",
       "    <tr>\n",
       "      <th>2022-12-31</th>\n",
       "      <td>2022-12-30</td>\n",
       "      <td>14</td>\n",
       "      <td>2022-12-31</td>\n",
       "      <td>9</td>\n",
       "      <td>01401048</td>\n",
       "      <td>690</td>\n",
       "      <td>Nein</td>\n",
       "      <td>Fahrrad</td>\n",
       "      <td>Fahrraddiebstahl</td>\n",
       "      <td>Sonstiger schwerer Diebstahl von Fahrrädern</td>\n",
       "      <td>1 days</td>\n",
       "      <td>5</td>\n",
       "      <td>2022</td>\n",
       "      <td>12</td>\n",
       "    </tr>\n",
       "  </tbody>\n",
       "</table>\n",
       "</div>"
      ],
      "text/plain": [
       "            start_date_delict  start_time_delict end_date_delict  \\\n",
       "ANGELEGT_AM                                                        \n",
       "2022-12-31         2022-12-26                 20      2022-12-27   \n",
       "2022-12-31         2022-12-30                 14      2022-12-31   \n",
       "\n",
       "             end_time_delict       LOR  damage_amount intent_delict  \\\n",
       "ANGELEGT_AM                                                           \n",
       "2022-12-31                 9  03400724            270          Nein   \n",
       "2022-12-31                 9  01401048            690          Nein   \n",
       "\n",
       "                bike_type            delict  \\\n",
       "ANGELEGT_AM                                   \n",
       "2022-12-31   Damenfahrrad  Fahrraddiebstahl   \n",
       "2022-12-31        Fahrrad  Fahrraddiebstahl   \n",
       "\n",
       "                                             description crime_duration_days  \\\n",
       "ANGELEGT_AM                                                                    \n",
       "2022-12-31   Sonstiger schwerer Diebstahl von Fahrrädern              1 days   \n",
       "2022-12-31   Sonstiger schwerer Diebstahl von Fahrrädern              1 days   \n",
       "\n",
       "             crime_duration_hours  year  month  \n",
       "ANGELEGT_AM                                     \n",
       "2022-12-31                     11  2022     12  \n",
       "2022-12-31                      5  2022     12  "
      ]
     },
     "execution_count": 91,
     "metadata": {},
     "output_type": "execute_result"
    }
   ],
   "source": [
    "extract_2022 = df_transformed.loc['2022-01-01':'2022-12-31']\n",
    "extract_2022.head(2)"
   ]
  },
  {
   "cell_type": "code",
   "execution_count": 92,
   "metadata": {},
   "outputs": [
    {
     "data": {
      "text/html": [
       "<div>\n",
       "<style scoped>\n",
       "    .dataframe tbody tr th:only-of-type {\n",
       "        vertical-align: middle;\n",
       "    }\n",
       "\n",
       "    .dataframe tbody tr th {\n",
       "        vertical-align: top;\n",
       "    }\n",
       "\n",
       "    .dataframe thead th {\n",
       "        text-align: right;\n",
       "    }\n",
       "</style>\n",
       "<table border=\"1\" class=\"dataframe\">\n",
       "  <thead>\n",
       "    <tr style=\"text-align: right;\">\n",
       "      <th></th>\n",
       "      <th>start_date_delict</th>\n",
       "      <th>start_time_delict</th>\n",
       "      <th>end_date_delict</th>\n",
       "      <th>end_time_delict</th>\n",
       "      <th>LOR</th>\n",
       "      <th>damage_amount</th>\n",
       "      <th>intent_delict</th>\n",
       "      <th>bike_type</th>\n",
       "      <th>delict</th>\n",
       "      <th>description</th>\n",
       "      <th>crime_duration_days</th>\n",
       "      <th>crime_duration_hours</th>\n",
       "      <th>year</th>\n",
       "      <th>month</th>\n",
       "    </tr>\n",
       "    <tr>\n",
       "      <th>ANGELEGT_AM</th>\n",
       "      <th></th>\n",
       "      <th></th>\n",
       "      <th></th>\n",
       "      <th></th>\n",
       "      <th></th>\n",
       "      <th></th>\n",
       "      <th></th>\n",
       "      <th></th>\n",
       "      <th></th>\n",
       "      <th></th>\n",
       "      <th></th>\n",
       "      <th></th>\n",
       "      <th></th>\n",
       "      <th></th>\n",
       "    </tr>\n",
       "  </thead>\n",
       "  <tbody>\n",
       "    <tr>\n",
       "      <th>2023-02-19</th>\n",
       "      <td>2023-02-18</td>\n",
       "      <td>18</td>\n",
       "      <td>2023-02-19</td>\n",
       "      <td>7</td>\n",
       "      <td>03701658</td>\n",
       "      <td>3472</td>\n",
       "      <td>Nein</td>\n",
       "      <td>Herrenfahrrad</td>\n",
       "      <td>Fahrraddiebstahl</td>\n",
       "      <td>Sonstiger schwerer Diebstahl von Fahrrädern</td>\n",
       "      <td>1 days</td>\n",
       "      <td>11</td>\n",
       "      <td>2023</td>\n",
       "      <td>2</td>\n",
       "    </tr>\n",
       "    <tr>\n",
       "      <th>2023-02-19</th>\n",
       "      <td>2023-02-18</td>\n",
       "      <td>20</td>\n",
       "      <td>2023-02-19</td>\n",
       "      <td>9</td>\n",
       "      <td>01100308</td>\n",
       "      <td>2277</td>\n",
       "      <td>Nein</td>\n",
       "      <td>Herrenfahrrad</td>\n",
       "      <td>Fahrraddiebstahl</td>\n",
       "      <td>Sonstiger schwerer Diebstahl von Fahrrädern</td>\n",
       "      <td>1 days</td>\n",
       "      <td>11</td>\n",
       "      <td>2023</td>\n",
       "      <td>2</td>\n",
       "    </tr>\n",
       "  </tbody>\n",
       "</table>\n",
       "</div>"
      ],
      "text/plain": [
       "            start_date_delict  start_time_delict end_date_delict  \\\n",
       "ANGELEGT_AM                                                        \n",
       "2023-02-19         2023-02-18                 18      2023-02-19   \n",
       "2023-02-19         2023-02-18                 20      2023-02-19   \n",
       "\n",
       "             end_time_delict       LOR  damage_amount intent_delict  \\\n",
       "ANGELEGT_AM                                                           \n",
       "2023-02-19                 7  03701658           3472          Nein   \n",
       "2023-02-19                 9  01100308           2277          Nein   \n",
       "\n",
       "                 bike_type            delict  \\\n",
       "ANGELEGT_AM                                    \n",
       "2023-02-19   Herrenfahrrad  Fahrraddiebstahl   \n",
       "2023-02-19   Herrenfahrrad  Fahrraddiebstahl   \n",
       "\n",
       "                                             description crime_duration_days  \\\n",
       "ANGELEGT_AM                                                                    \n",
       "2023-02-19   Sonstiger schwerer Diebstahl von Fahrrädern              1 days   \n",
       "2023-02-19   Sonstiger schwerer Diebstahl von Fahrrädern              1 days   \n",
       "\n",
       "             crime_duration_hours  year  month  \n",
       "ANGELEGT_AM                                     \n",
       "2023-02-19                     11  2023      2  \n",
       "2023-02-19                     11  2023      2  "
      ]
     },
     "execution_count": 92,
     "metadata": {},
     "output_type": "execute_result"
    }
   ],
   "source": [
    "extract_2023 = df_transformed.loc['2023-01-01':'2023-02-19']\n",
    "extract_2023.head(2)"
   ]
  },
  {
   "cell_type": "code",
   "execution_count": 93,
   "metadata": {},
   "outputs": [],
   "source": [
    "#save LOR and bike_theft_count "
   ]
  },
  {
   "attachments": {},
   "cell_type": "markdown",
   "metadata": {},
   "source": [
    "## Extract series for individual years and plot numeric data: thefts"
   ]
  },
  {
   "cell_type": "code",
   "execution_count": 94,
   "metadata": {},
   "outputs": [
    {
     "data": {
      "text/html": [
       "<div>\n",
       "<style scoped>\n",
       "    .dataframe tbody tr th:only-of-type {\n",
       "        vertical-align: middle;\n",
       "    }\n",
       "\n",
       "    .dataframe tbody tr th {\n",
       "        vertical-align: top;\n",
       "    }\n",
       "\n",
       "    .dataframe thead th {\n",
       "        text-align: right;\n",
       "    }\n",
       "</style>\n",
       "<table border=\"1\" class=\"dataframe\">\n",
       "  <thead>\n",
       "    <tr style=\"text-align: right;\">\n",
       "      <th></th>\n",
       "      <th>ANGELEGT_AM</th>\n",
       "      <th>start_date_delict</th>\n",
       "      <th>start_time_delict</th>\n",
       "      <th>end_date_delict</th>\n",
       "      <th>end_time_delict</th>\n",
       "      <th>LOR</th>\n",
       "      <th>damage_amount</th>\n",
       "      <th>intent_delict</th>\n",
       "      <th>bike_type</th>\n",
       "      <th>delict</th>\n",
       "      <th>description</th>\n",
       "      <th>crime_duration_days</th>\n",
       "      <th>crime_duration_hours</th>\n",
       "      <th>year</th>\n",
       "      <th>month</th>\n",
       "    </tr>\n",
       "  </thead>\n",
       "  <tbody>\n",
       "    <tr>\n",
       "      <th>0</th>\n",
       "      <td>2022-12-31</td>\n",
       "      <td>2022-12-26</td>\n",
       "      <td>20</td>\n",
       "      <td>2022-12-27</td>\n",
       "      <td>9</td>\n",
       "      <td>03400724</td>\n",
       "      <td>270</td>\n",
       "      <td>Nein</td>\n",
       "      <td>Damenfahrrad</td>\n",
       "      <td>Fahrraddiebstahl</td>\n",
       "      <td>Sonstiger schwerer Diebstahl von Fahrrädern</td>\n",
       "      <td>1 days</td>\n",
       "      <td>11</td>\n",
       "      <td>2022</td>\n",
       "      <td>12</td>\n",
       "    </tr>\n",
       "    <tr>\n",
       "      <th>1</th>\n",
       "      <td>2022-12-31</td>\n",
       "      <td>2022-12-30</td>\n",
       "      <td>14</td>\n",
       "      <td>2022-12-31</td>\n",
       "      <td>9</td>\n",
       "      <td>01401048</td>\n",
       "      <td>690</td>\n",
       "      <td>Nein</td>\n",
       "      <td>Fahrrad</td>\n",
       "      <td>Fahrraddiebstahl</td>\n",
       "      <td>Sonstiger schwerer Diebstahl von Fahrrädern</td>\n",
       "      <td>1 days</td>\n",
       "      <td>5</td>\n",
       "      <td>2022</td>\n",
       "      <td>12</td>\n",
       "    </tr>\n",
       "  </tbody>\n",
       "</table>\n",
       "</div>"
      ],
      "text/plain": [
       "  ANGELEGT_AM start_date_delict  start_time_delict end_date_delict  \\\n",
       "0  2022-12-31        2022-12-26                 20      2022-12-27   \n",
       "1  2022-12-31        2022-12-30                 14      2022-12-31   \n",
       "\n",
       "   end_time_delict       LOR  damage_amount intent_delict     bike_type  \\\n",
       "0                9  03400724            270          Nein  Damenfahrrad   \n",
       "1                9  01401048            690          Nein       Fahrrad   \n",
       "\n",
       "             delict                                  description  \\\n",
       "0  Fahrraddiebstahl  Sonstiger schwerer Diebstahl von Fahrrädern   \n",
       "1  Fahrraddiebstahl  Sonstiger schwerer Diebstahl von Fahrrädern   \n",
       "\n",
       "  crime_duration_days  crime_duration_hours  year  month  \n",
       "0              1 days                    11  2022     12  \n",
       "1              1 days                     5  2022     12  "
      ]
     },
     "execution_count": 94,
     "metadata": {},
     "output_type": "execute_result"
    }
   ],
   "source": [
    "extract_2022.reset_index(inplace=True)\n",
    "extract_2022.head(2)"
   ]
  },
  {
   "cell_type": "code",
   "execution_count": 95,
   "metadata": {},
   "outputs": [
    {
     "data": {
      "image/png": "[encoded data removed]",
      "text/plain": [
       "<Figure size 432x288 with 1 Axes>"
      ]
     },
     "metadata": {
      "needs_background": "light"
     },
     "output_type": "display_data"
    }
   ],
   "source": [
    "bike_thefts_series_22 = pd.DataFrame(extract_2022.groupby(['LOR', 'ANGELEGT_AM']).size(),\n",
    "                       columns = ['bike_theft_count']).reset_index()\n",
    "bike_thefts_series_22 = bike_thefts_series_22.set_index(bike_thefts_series_22['ANGELEGT_AM'])\n",
    "bike_thefts_series_22 = bike_thefts_series_22['bike_theft_count']\n",
    "bike_thefts_series_22.hist();"
   ]
  },
  {
   "cell_type": "code",
   "execution_count": 96,
   "metadata": {},
   "outputs": [
    {
     "data": {
      "image/png": "[encoded data removed]",
      "text/plain": [
       "<Figure size 432x288 with 1 Axes>"
      ]
     },
     "metadata": {
      "needs_background": "light"
     },
     "output_type": "display_data"
    }
   ],
   "source": [
    "(bike_thefts_series_22\n",
    ".resample('W')  #change frequency\n",
    ".mean()\n",
    ".plot.line()\n",
    ");"
   ]
  },
  {
   "cell_type": "code",
   "execution_count": 97,
   "metadata": {},
   "outputs": [
    {
     "data": {
      "text/plain": [
       "0"
      ]
     },
     "execution_count": 97,
     "metadata": {},
     "output_type": "execute_result"
    }
   ],
   "source": [
    "bike_thefts_series_22.isna().sum().sum()"
   ]
  },
  {
   "cell_type": "code",
   "execution_count": 98,
   "metadata": {},
   "outputs": [
    {
     "data": {
      "image/png": "[encoded data removed]",
      "text/plain": [
       "<Figure size 432x288 with 1 Axes>"
      ]
     },
     "metadata": {
      "needs_background": "light"
     },
     "output_type": "display_data"
    }
   ],
   "source": [
    "(bike_thefts_series_22\n",
    " .resample('M')\n",
    " .sum()\n",
    " .div(bike_thefts_series_22.sum())\n",
    " .mul(100)\n",
    " .rename(lambda idx: idx.month_name())\n",
    " .plot.barh(title = '2022 Monthly Percent Bike Thefts')\n",
    " );"
   ]
  },
  {
   "cell_type": "code",
   "execution_count": 99,
   "metadata": {},
   "outputs": [],
   "source": [
    "bike_thefts.save_intermediate_data(bike_thefts_series_22, 'bike_thefts_series_2022')"
   ]
  },
  {
   "cell_type": "code",
   "execution_count": 100,
   "metadata": {},
   "outputs": [
    {
     "data": {
      "text/html": [
       "<div>\n",
       "<style scoped>\n",
       "    .dataframe tbody tr th:only-of-type {\n",
       "        vertical-align: middle;\n",
       "    }\n",
       "\n",
       "    .dataframe tbody tr th {\n",
       "        vertical-align: top;\n",
       "    }\n",
       "\n",
       "    .dataframe thead th {\n",
       "        text-align: right;\n",
       "    }\n",
       "</style>\n",
       "<table border=\"1\" class=\"dataframe\">\n",
       "  <thead>\n",
       "    <tr style=\"text-align: right;\">\n",
       "      <th></th>\n",
       "      <th>ANGELEGT_AM</th>\n",
       "      <th>start_date_delict</th>\n",
       "      <th>start_time_delict</th>\n",
       "      <th>end_date_delict</th>\n",
       "      <th>end_time_delict</th>\n",
       "      <th>LOR</th>\n",
       "      <th>damage_amount</th>\n",
       "      <th>intent_delict</th>\n",
       "      <th>bike_type</th>\n",
       "      <th>delict</th>\n",
       "      <th>description</th>\n",
       "      <th>crime_duration_days</th>\n",
       "      <th>crime_duration_hours</th>\n",
       "      <th>year</th>\n",
       "      <th>month</th>\n",
       "    </tr>\n",
       "  </thead>\n",
       "  <tbody>\n",
       "    <tr>\n",
       "      <th>0</th>\n",
       "      <td>2023-02-19</td>\n",
       "      <td>2023-02-18</td>\n",
       "      <td>18</td>\n",
       "      <td>2023-02-19</td>\n",
       "      <td>7</td>\n",
       "      <td>03701658</td>\n",
       "      <td>3472</td>\n",
       "      <td>Nein</td>\n",
       "      <td>Herrenfahrrad</td>\n",
       "      <td>Fahrraddiebstahl</td>\n",
       "      <td>Sonstiger schwerer Diebstahl von Fahrrädern</td>\n",
       "      <td>1 days</td>\n",
       "      <td>11</td>\n",
       "      <td>2023</td>\n",
       "      <td>2</td>\n",
       "    </tr>\n",
       "    <tr>\n",
       "      <th>1</th>\n",
       "      <td>2023-02-19</td>\n",
       "      <td>2023-02-18</td>\n",
       "      <td>20</td>\n",
       "      <td>2023-02-19</td>\n",
       "      <td>9</td>\n",
       "      <td>01100308</td>\n",
       "      <td>2277</td>\n",
       "      <td>Nein</td>\n",
       "      <td>Herrenfahrrad</td>\n",
       "      <td>Fahrraddiebstahl</td>\n",
       "      <td>Sonstiger schwerer Diebstahl von Fahrrädern</td>\n",
       "      <td>1 days</td>\n",
       "      <td>11</td>\n",
       "      <td>2023</td>\n",
       "      <td>2</td>\n",
       "    </tr>\n",
       "  </tbody>\n",
       "</table>\n",
       "</div>"
      ],
      "text/plain": [
       "  ANGELEGT_AM start_date_delict  start_time_delict end_date_delict  \\\n",
       "0  2023-02-19        2023-02-18                 18      2023-02-19   \n",
       "1  2023-02-19        2023-02-18                 20      2023-02-19   \n",
       "\n",
       "   end_time_delict       LOR  damage_amount intent_delict      bike_type  \\\n",
       "0                7  03701658           3472          Nein  Herrenfahrrad   \n",
       "1                9  01100308           2277          Nein  Herrenfahrrad   \n",
       "\n",
       "             delict                                  description  \\\n",
       "0  Fahrraddiebstahl  Sonstiger schwerer Diebstahl von Fahrrädern   \n",
       "1  Fahrraddiebstahl  Sonstiger schwerer Diebstahl von Fahrrädern   \n",
       "\n",
       "  crime_duration_days  crime_duration_hours  year  month  \n",
       "0              1 days                    11  2023      2  \n",
       "1              1 days                    11  2023      2  "
      ]
     },
     "execution_count": 100,
     "metadata": {},
     "output_type": "execute_result"
    }
   ],
   "source": [
    "extract_2023.reset_index(inplace=True)\n",
    "extract_2023.head(2)"
   ]
  },
  {
   "cell_type": "code",
   "execution_count": 101,
   "metadata": {},
   "outputs": [
    {
     "data": {
      "image/png": "[encoded data removed]",
      "text/plain": [
       "<Figure size 432x288 with 1 Axes>"
      ]
     },
     "metadata": {
      "needs_background": "light"
     },
     "output_type": "display_data"
    }
   ],
   "source": [
    "bike_thefts_series_23 = pd.DataFrame(extract_2023.groupby(['LOR', 'ANGELEGT_AM']).size(),\n",
    "                       columns = ['bike_theft_count']).reset_index()\n",
    "bike_thefts_series_23 = bike_thefts_series_23.set_index(bike_thefts_series_23['ANGELEGT_AM'])\n",
    "bike_thefts_series_23 = bike_thefts_series_23['bike_theft_count']\n",
    "bike_thefts_series_23.hist();"
   ]
  },
  {
   "cell_type": "code",
   "execution_count": 102,
   "metadata": {},
   "outputs": [
    {
     "data": {
      "image/png": "[encoded data removed]",
      "text/plain": [
       "<Figure size 432x288 with 1 Axes>"
      ]
     },
     "metadata": {
      "needs_background": "light"
     },
     "output_type": "display_data"
    }
   ],
   "source": [
    "(bike_thefts_series_23\n",
    ".resample('W')\n",
    ".mean()\n",
    ".plot.barh()\n",
    ");"
   ]
  },
  {
   "cell_type": "code",
   "execution_count": 103,
   "metadata": {},
   "outputs": [
    {
     "data": {
      "image/png": "[encoded data removed]",
      "text/plain": [
       "<Figure size 432x288 with 1 Axes>"
      ]
     },
     "metadata": {
      "needs_background": "light"
     },
     "output_type": "display_data"
    }
   ],
   "source": [
    "(bike_thefts_series_23\n",
    " .resample('M')\n",
    " .sum()\n",
    " .div(bike_thefts_series_23.sum())\n",
    " .mul(100)\n",
    " .rename(lambda idx: idx.month_name())\n",
    " .plot.barh(title = '2023 Monthly Percent Bike Thefts')\n",
    " );"
   ]
  },
  {
   "cell_type": "code",
   "execution_count": 104,
   "metadata": {},
   "outputs": [],
   "source": [
    "bike_thefts.save_intermediate_data(bike_thefts_series_23, 'bike_thefts_series_2023')"
   ]
  },
  {
   "cell_type": "code",
   "execution_count": 105,
   "metadata": {},
   "outputs": [
    {
     "data": {
      "text/html": [
       "<div>\n",
       "<style scoped>\n",
       "    .dataframe tbody tr th:only-of-type {\n",
       "        vertical-align: middle;\n",
       "    }\n",
       "\n",
       "    .dataframe tbody tr th {\n",
       "        vertical-align: top;\n",
       "    }\n",
       "\n",
       "    .dataframe thead th {\n",
       "        text-align: right;\n",
       "    }\n",
       "</style>\n",
       "<table border=\"1\" class=\"dataframe\">\n",
       "  <thead>\n",
       "    <tr style=\"text-align: right;\">\n",
       "      <th></th>\n",
       "      <th>LOR</th>\n",
       "      <th>damage_amount</th>\n",
       "      <th>intent_delict</th>\n",
       "      <th>bike_type</th>\n",
       "      <th>delict</th>\n",
       "      <th>description</th>\n",
       "      <th>crime_duration_days</th>\n",
       "      <th>crime_duration_hours</th>\n",
       "      <th>year</th>\n",
       "      <th>month</th>\n",
       "    </tr>\n",
       "    <tr>\n",
       "      <th>ANGELEGT_AM</th>\n",
       "      <th></th>\n",
       "      <th></th>\n",
       "      <th></th>\n",
       "      <th></th>\n",
       "      <th></th>\n",
       "      <th></th>\n",
       "      <th></th>\n",
       "      <th></th>\n",
       "      <th></th>\n",
       "      <th></th>\n",
       "    </tr>\n",
       "  </thead>\n",
       "  <tbody>\n",
       "    <tr>\n",
       "      <th>2023-02-19</th>\n",
       "      <td>03701658</td>\n",
       "      <td>3472</td>\n",
       "      <td>Nein</td>\n",
       "      <td>Herrenfahrrad</td>\n",
       "      <td>Fahrraddiebstahl</td>\n",
       "      <td>Sonstiger schwerer Diebstahl von Fahrrädern</td>\n",
       "      <td>1 days</td>\n",
       "      <td>11</td>\n",
       "      <td>2023</td>\n",
       "      <td>2</td>\n",
       "    </tr>\n",
       "    <tr>\n",
       "      <th>2023-02-19</th>\n",
       "      <td>01100308</td>\n",
       "      <td>2277</td>\n",
       "      <td>Nein</td>\n",
       "      <td>Herrenfahrrad</td>\n",
       "      <td>Fahrraddiebstahl</td>\n",
       "      <td>Sonstiger schwerer Diebstahl von Fahrrädern</td>\n",
       "      <td>1 days</td>\n",
       "      <td>11</td>\n",
       "      <td>2023</td>\n",
       "      <td>2</td>\n",
       "    </tr>\n",
       "  </tbody>\n",
       "</table>\n",
       "</div>"
      ],
      "text/plain": [
       "                  LOR  damage_amount intent_delict      bike_type  \\\n",
       "ANGELEGT_AM                                                         \n",
       "2023-02-19   03701658           3472          Nein  Herrenfahrrad   \n",
       "2023-02-19   01100308           2277          Nein  Herrenfahrrad   \n",
       "\n",
       "                       delict                                  description  \\\n",
       "ANGELEGT_AM                                                                  \n",
       "2023-02-19   Fahrraddiebstahl  Sonstiger schwerer Diebstahl von Fahrrädern   \n",
       "2023-02-19   Fahrraddiebstahl  Sonstiger schwerer Diebstahl von Fahrrädern   \n",
       "\n",
       "            crime_duration_days  crime_duration_hours  year  month  \n",
       "ANGELEGT_AM                                                         \n",
       "2023-02-19               1 days                    11  2023      2  \n",
       "2023-02-19               1 days                    11  2023      2  "
      ]
     },
     "execution_count": 105,
     "metadata": {},
     "output_type": "execute_result"
    }
   ],
   "source": [
    "df_transformed.drop(df_transformed.iloc[:, 0:4], axis=1, inplace=True)\n",
    "df_transformed.head(2) #check"
   ]
  },
  {
   "cell_type": "code",
   "execution_count": 106,
   "metadata": {},
   "outputs": [
    {
     "data": {
      "text/plain": [
       "array([11, 16, 17,  0, 10, 22,  4,  1,  9,  2,  7,  5,  3,  6, 23,  8, 20,\n",
       "       14, 12, 13, 15, 19, 18, 21])"
      ]
     },
     "execution_count": 106,
     "metadata": {},
     "output_type": "execute_result"
    }
   ],
   "source": [
    "bike_thefts.check_unique(df_transformed['crime_duration_hours'])  # check: can this be so long?"
   ]
  },
  {
   "cell_type": "code",
   "execution_count": 107,
   "metadata": {},
   "outputs": [
    {
     "data": {
      "text/html": [
       "<div>\n",
       "<style scoped>\n",
       "    .dataframe tbody tr th:only-of-type {\n",
       "        vertical-align: middle;\n",
       "    }\n",
       "\n",
       "    .dataframe tbody tr th {\n",
       "        vertical-align: top;\n",
       "    }\n",
       "\n",
       "    .dataframe thead th {\n",
       "        text-align: right;\n",
       "    }\n",
       "</style>\n",
       "<table border=\"1\" class=\"dataframe\">\n",
       "  <thead>\n",
       "    <tr style=\"text-align: right;\">\n",
       "      <th></th>\n",
       "      <th>ANGELEGT_AM</th>\n",
       "      <th>LOR</th>\n",
       "      <th>damage_amount</th>\n",
       "      <th>intent_delict</th>\n",
       "      <th>bike_type</th>\n",
       "      <th>delict</th>\n",
       "      <th>description</th>\n",
       "      <th>crime_duration_days</th>\n",
       "      <th>crime_duration_hours</th>\n",
       "      <th>year</th>\n",
       "      <th>month</th>\n",
       "    </tr>\n",
       "  </thead>\n",
       "  <tbody>\n",
       "    <tr>\n",
       "      <th>0</th>\n",
       "      <td>2023-02-19</td>\n",
       "      <td>03701658</td>\n",
       "      <td>3472</td>\n",
       "      <td>Nein</td>\n",
       "      <td>Herrenfahrrad</td>\n",
       "      <td>Fahrraddiebstahl</td>\n",
       "      <td>Sonstiger schwerer Diebstahl von Fahrrädern</td>\n",
       "      <td>1 days</td>\n",
       "      <td>11</td>\n",
       "      <td>2023</td>\n",
       "      <td>2</td>\n",
       "    </tr>\n",
       "    <tr>\n",
       "      <th>1</th>\n",
       "      <td>2023-02-19</td>\n",
       "      <td>01100308</td>\n",
       "      <td>2277</td>\n",
       "      <td>Nein</td>\n",
       "      <td>Herrenfahrrad</td>\n",
       "      <td>Fahrraddiebstahl</td>\n",
       "      <td>Sonstiger schwerer Diebstahl von Fahrrädern</td>\n",
       "      <td>1 days</td>\n",
       "      <td>11</td>\n",
       "      <td>2023</td>\n",
       "      <td>2</td>\n",
       "    </tr>\n",
       "  </tbody>\n",
       "</table>\n",
       "</div>"
      ],
      "text/plain": [
       "  ANGELEGT_AM       LOR  damage_amount intent_delict      bike_type  \\\n",
       "0  2023-02-19  03701658           3472          Nein  Herrenfahrrad   \n",
       "1  2023-02-19  01100308           2277          Nein  Herrenfahrrad   \n",
       "\n",
       "             delict                                  description  \\\n",
       "0  Fahrraddiebstahl  Sonstiger schwerer Diebstahl von Fahrrädern   \n",
       "1  Fahrraddiebstahl  Sonstiger schwerer Diebstahl von Fahrrädern   \n",
       "\n",
       "  crime_duration_days  crime_duration_hours  year  month  \n",
       "0              1 days                    11  2023      2  \n",
       "1              1 days                    11  2023      2  "
      ]
     },
     "execution_count": 107,
     "metadata": {},
     "output_type": "execute_result"
    }
   ],
   "source": [
    "df_transformed.reset_index(inplace=True)\n",
    "df_transformed.head(2)"
   ]
  },
  {
   "cell_type": "code",
   "execution_count": 108,
   "metadata": {},
   "outputs": [
    {
     "data": {
      "text/html": [
       "<div>\n",
       "<style scoped>\n",
       "    .dataframe tbody tr th:only-of-type {\n",
       "        vertical-align: middle;\n",
       "    }\n",
       "\n",
       "    .dataframe tbody tr th {\n",
       "        vertical-align: top;\n",
       "    }\n",
       "\n",
       "    .dataframe thead th {\n",
       "        text-align: right;\n",
       "    }\n",
       "</style>\n",
       "<table border=\"1\" class=\"dataframe\">\n",
       "  <thead>\n",
       "    <tr style=\"text-align: right;\">\n",
       "      <th></th>\n",
       "      <th>year</th>\n",
       "      <th>LOR</th>\n",
       "      <th>bike_theft_count</th>\n",
       "    </tr>\n",
       "  </thead>\n",
       "  <tbody>\n",
       "    <tr>\n",
       "      <th>0</th>\n",
       "      <td>2022</td>\n",
       "      <td>01100101</td>\n",
       "      <td>26</td>\n",
       "    </tr>\n",
       "    <tr>\n",
       "      <th>1</th>\n",
       "      <td>2023</td>\n",
       "      <td>01100101</td>\n",
       "      <td>2</td>\n",
       "    </tr>\n",
       "  </tbody>\n",
       "</table>\n",
       "</div>"
      ],
      "text/plain": [
       "   year       LOR  bike_theft_count\n",
       "0  2022  01100101                26\n",
       "1  2023  01100101                 2"
      ]
     },
     "execution_count": 108,
     "metadata": {},
     "output_type": "execute_result"
    }
   ],
   "source": [
    "bike_thefts_LOR_year = pd.DataFrame(df_transformed.groupby(['LOR', 'year']).size(),\n",
    "                       columns = ['bike_theft_count'])\n",
    "bike_thefts_LOR_year = bike_thefts_LOR_year.reset_index()\n",
    "bike_thefts_LOR_year = bike_thefts_LOR_year.set_index('year').reset_index()\n",
    "bike_thefts_LOR_year.head(2)"
   ]
  },
  {
   "cell_type": "code",
   "execution_count": 110,
   "metadata": {},
   "outputs": [],
   "source": [
    "bike_thefts.save_LOR_bike_thefts(\n",
    "    df = bike_thefts_LOR_year, \n",
    "    group_by =['LOR', 'year'],\n",
    "    col_names='bike_theft_count',\n",
    "    file = 'bike_thefts_year_LOR_count'\n",
    "    ) #check"
   ]
  },
  {
   "attachments": {},
   "cell_type": "markdown",
   "metadata": {},
   "source": [
    "## Extract series for individual years and plot numeric data: \"Schadenshöhe\""
   ]
  },
  {
   "cell_type": "code",
   "execution_count": null,
   "metadata": {},
   "outputs": [],
   "source": []
  },
  {
   "cell_type": "code",
   "execution_count": null,
   "metadata": {},
   "outputs": [],
   "source": []
  },
  {
   "attachments": {},
   "cell_type": "markdown",
   "metadata": {},
   "source": [
    "## Plot categoricals"
   ]
  },
  {
   "cell_type": "code",
   "execution_count": 113,
   "metadata": {},
   "outputs": [],
   "source": [
    "plot_cats = PlotBikeThefts()"
   ]
  },
  {
   "cell_type": "code",
   "execution_count": 118,
   "metadata": {},
   "outputs": [
    {
     "data": {
      "image/png": "[encoded data removed]",
      "text/plain": [
       "<Figure size 360x360 with 1 Axes>"
      ]
     },
     "metadata": {
      "needs_background": "light"
     },
     "output_type": "display_data"
    }
   ],
   "source": [
    "plot_cats.plot_categoricals(df, 'bike_type');"
   ]
  },
  {
   "cell_type": "code",
   "execution_count": 115,
   "metadata": {},
   "outputs": [
    {
     "data": {
      "image/png": "[encoded data removed]",
      "text/plain": [
       "<Figure size 360x360 with 1 Axes>"
      ]
     },
     "metadata": {
      "needs_background": "light"
     },
     "output_type": "display_data"
    }
   ],
   "source": [
    "plot_cats.plot_categoricals(df, 'description');"
   ]
  },
  {
   "cell_type": "code",
   "execution_count": 116,
   "metadata": {},
   "outputs": [
    {
     "data": {
      "image/png": "[encoded data removed]",
      "text/plain": [
       "<Figure size 360x360 with 1 Axes>"
      ]
     },
     "metadata": {
      "needs_background": "light"
     },
     "output_type": "display_data"
    }
   ],
   "source": [
    "plot_cats.plot_categoricals(df, 'delict');"
   ]
  },
  {
   "cell_type": "code",
   "execution_count": 119,
   "metadata": {},
   "outputs": [
    {
     "data": {
      "image/png": "[encoded data removed]",
      "text/plain": [
       "<Figure size 360x360 with 1 Axes>"
      ]
     },
     "metadata": {
      "needs_background": "light"
     },
     "output_type": "display_data"
    }
   ],
   "source": [
    "plot_cats.plot_categoricals(df, 'intent_delict');"
   ]
  },
  {
   "cell_type": "code",
   "execution_count": 120,
   "metadata": {},
   "outputs": [
    {
     "data": {
      "image/png": "[encoded data removed]",
      "text/plain": [
       "<Figure size 576x432 with 2 Axes>"
      ]
     },
     "metadata": {
      "needs_background": "light"
     },
     "output_type": "display_data"
    }
   ],
   "source": [
    "plot_cats.plot_correlations(df);"
   ]
  },
  {
   "cell_type": "code",
   "execution_count": null,
   "metadata": {},
   "outputs": [],
   "source": []
  }
 ],
 "metadata": {
  "kernelspec": {
   "display_name": "stenv",
   "language": "python",
   "name": "python3"
  },
  "language_info": {
   "codemirror_mode": {
    "name": "ipython",
    "version": 3
   },
   "file_extension": ".py",
   "mimetype": "text/x-python",
   "name": "python",
   "nbconvert_exporter": "python",
   "pygments_lexer": "ipython3",
   "version": "3.9.11"
  },
  "vscode": {
   "interpreter": {
    "hash": "f780cc9064199338697ec1746b1b70a3a142444ce1abab5007bd12c24dddf5fd"
   }
  }
 },
 "nbformat": 4,
 "nbformat_minor": 2
}
