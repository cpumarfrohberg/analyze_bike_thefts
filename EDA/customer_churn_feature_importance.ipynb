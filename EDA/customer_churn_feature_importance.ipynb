{
 "cells": [
  {
   "cell_type": "markdown",
   "metadata": {
    "id": "wOwjPJwVhp6T"
   },
   "source": [
    "# Customer Churn - Savings Bank - All Features"
   ]
  },
  {
   "cell_type": "code",
   "execution_count": 1,
   "metadata": {
    "colab": {
     "base_uri": "https://localhost:8080/"
    },
    "id": "FhyRUr4Rhp6U",
    "outputId": "588dc42d-dc2a-4c87-eaa5-98c239831cea"
   },
   "outputs": [],
   "source": [
    "import pandas as pd\n",
    "import numpy as np\n",
    "import matplotlib.pyplot as plt\n",
    "\n",
    "from sklearn.linear_model import LogisticRegression\n",
    "from sklearn.tree import DecisionTreeClassifier\n",
    "from sklearn.ensemble import RandomForestClassifier\n",
    "from sklearn.model_selection import train_test_split, GridSearchCV\n",
    "from sklearn.preprocessing import MinMaxScaler\n",
    "from sklearn.inspection import permutation_importance\n",
    "from sklearn.metrics import plot_roc_curve, confusion_matrix, roc_auc_score, f1_score\n",
    "\n",
    "import warnings\n",
    "warnings.filterwarnings(\"ignore\")"
   ]
  },
  {
   "cell_type": "markdown",
   "metadata": {
    "id": "1UHog3Q8hp6V"
   },
   "source": [
    "### Reading in and inspecting data"
   ]
  },
  {
   "cell_type": "code",
   "execution_count": 2,
   "metadata": {
    "id": "8sXcgAu0hp6V"
   },
   "outputs": [],
   "source": [
    "df = pd.read_csv(\"../data/Tabla_01_English_Unique_postEDA.csv\", index_col=0, parse_dates=True)\n"
   ]
  },
  {
   "cell_type": "code",
   "execution_count": 3,
   "metadata": {
    "colab": {
     "base_uri": "https://localhost:8080/"
    },
    "id": "4CPkYId1hp6W",
    "outputId": "bcd49173-2dd7-457c-ae5e-bf045113f885"
   },
   "outputs": [
    {
     "data": {
      "text/plain": [
       "(4304, 24)"
      ]
     },
     "execution_count": 3,
     "metadata": {},
     "output_type": "execute_result"
    }
   ],
   "source": [
    "df.shape"
   ]
  },
  {
   "cell_type": "code",
   "execution_count": 4,
   "metadata": {},
   "outputs": [
    {
     "data": {
      "text/html": [
       "<div>\n",
       "<style scoped>\n",
       "    .dataframe tbody tr th:only-of-type {\n",
       "        vertical-align: middle;\n",
       "    }\n",
       "\n",
       "    .dataframe tbody tr th {\n",
       "        vertical-align: top;\n",
       "    }\n",
       "\n",
       "    .dataframe thead th {\n",
       "        text-align: right;\n",
       "    }\n",
       "</style>\n",
       "<table border=\"1\" class=\"dataframe\">\n",
       "  <thead>\n",
       "    <tr style=\"text-align: right;\">\n",
       "      <th></th>\n",
       "      <th>Client_ID</th>\n",
       "      <th>Resident_Capital</th>\n",
       "      <th>Client_Age_Years</th>\n",
       "      <th>Client_Sex</th>\n",
       "      <th>Client_Married</th>\n",
       "      <th>Amount_Last_Disbursement</th>\n",
       "      <th>n(Months)_Since_Last_Disbursement</th>\n",
       "      <th>n(Months)_Client_Relationship</th>\n",
       "      <th>n(Months)_LO_Active_Employee</th>\n",
       "      <th>Client_Status_Post3Months</th>\n",
       "      <th>...</th>\n",
       "      <th>n(Loans)_Outstanding_Other</th>\n",
       "      <th>n(Additional_Loans)_Post3Months</th>\n",
       "      <th>n(Additional_Loans)_Post6Months</th>\n",
       "      <th>Total_Accumulated_Interest_per_Client</th>\n",
       "      <th>LO_Active_Employee_Prior3Months</th>\n",
       "      <th>LO_Active_Employee_Prior6Months</th>\n",
       "      <th>n(Additional_Loans)_Pre3Months</th>\n",
       "      <th>n(Additional_Loans)_Pre6Months</th>\n",
       "      <th>LO_Changed</th>\n",
       "      <th>n(Months)_Change_LO</th>\n",
       "    </tr>\n",
       "    <tr>\n",
       "      <th>Fecha Cierre</th>\n",
       "      <th></th>\n",
       "      <th></th>\n",
       "      <th></th>\n",
       "      <th></th>\n",
       "      <th></th>\n",
       "      <th></th>\n",
       "      <th></th>\n",
       "      <th></th>\n",
       "      <th></th>\n",
       "      <th></th>\n",
       "      <th></th>\n",
       "      <th></th>\n",
       "      <th></th>\n",
       "      <th></th>\n",
       "      <th></th>\n",
       "      <th></th>\n",
       "      <th></th>\n",
       "      <th></th>\n",
       "      <th></th>\n",
       "      <th></th>\n",
       "      <th></th>\n",
       "    </tr>\n",
       "  </thead>\n",
       "  <tbody>\n",
       "    <tr>\n",
       "      <th>2018-01-31</th>\n",
       "      <td>1090100000183</td>\n",
       "      <td>1</td>\n",
       "      <td>67</td>\n",
       "      <td>1</td>\n",
       "      <td>0</td>\n",
       "      <td>66500.0</td>\n",
       "      <td>57</td>\n",
       "      <td>74</td>\n",
       "      <td>19</td>\n",
       "      <td>1</td>\n",
       "      <td>...</td>\n",
       "      <td>2</td>\n",
       "      <td>0</td>\n",
       "      <td>0</td>\n",
       "      <td>19</td>\n",
       "      <td>1</td>\n",
       "      <td>1</td>\n",
       "      <td>0</td>\n",
       "      <td>0</td>\n",
       "      <td>1</td>\n",
       "      <td>13</td>\n",
       "    </tr>\n",
       "    <tr>\n",
       "      <th>2018-01-31</th>\n",
       "      <td>1090100003778</td>\n",
       "      <td>1</td>\n",
       "      <td>59</td>\n",
       "      <td>1</td>\n",
       "      <td>1</td>\n",
       "      <td>22000.0</td>\n",
       "      <td>0</td>\n",
       "      <td>81</td>\n",
       "      <td>45</td>\n",
       "      <td>0</td>\n",
       "      <td>...</td>\n",
       "      <td>1</td>\n",
       "      <td>0</td>\n",
       "      <td>0</td>\n",
       "      <td>127</td>\n",
       "      <td>1</td>\n",
       "      <td>1</td>\n",
       "      <td>1</td>\n",
       "      <td>1</td>\n",
       "      <td>0</td>\n",
       "      <td>0</td>\n",
       "    </tr>\n",
       "    <tr>\n",
       "      <th>2018-01-31</th>\n",
       "      <td>1090100003930</td>\n",
       "      <td>1</td>\n",
       "      <td>65</td>\n",
       "      <td>1</td>\n",
       "      <td>0</td>\n",
       "      <td>18000.0</td>\n",
       "      <td>1</td>\n",
       "      <td>31</td>\n",
       "      <td>24</td>\n",
       "      <td>0</td>\n",
       "      <td>...</td>\n",
       "      <td>2</td>\n",
       "      <td>0</td>\n",
       "      <td>0</td>\n",
       "      <td>0</td>\n",
       "      <td>1</td>\n",
       "      <td>1</td>\n",
       "      <td>1</td>\n",
       "      <td>1</td>\n",
       "      <td>0</td>\n",
       "      <td>0</td>\n",
       "    </tr>\n",
       "  </tbody>\n",
       "</table>\n",
       "<p>3 rows × 24 columns</p>\n",
       "</div>"
      ],
      "text/plain": [
       "                  Client_ID  Resident_Capital  Client_Age_Years  Client_Sex  \\\n",
       "Fecha Cierre                                                                  \n",
       "2018-01-31    1090100000183                 1                67           1   \n",
       "2018-01-31    1090100003778                 1                59           1   \n",
       "2018-01-31    1090100003930                 1                65           1   \n",
       "\n",
       "              Client_Married  Amount_Last_Disbursement  \\\n",
       "Fecha Cierre                                             \n",
       "2018-01-31                 0                   66500.0   \n",
       "2018-01-31                 1                   22000.0   \n",
       "2018-01-31                 0                   18000.0   \n",
       "\n",
       "              n(Months)_Since_Last_Disbursement  \\\n",
       "Fecha Cierre                                      \n",
       "2018-01-31                                   57   \n",
       "2018-01-31                                    0   \n",
       "2018-01-31                                    1   \n",
       "\n",
       "              n(Months)_Client_Relationship  n(Months)_LO_Active_Employee  \\\n",
       "Fecha Cierre                                                                \n",
       "2018-01-31                               74                            19   \n",
       "2018-01-31                               81                            45   \n",
       "2018-01-31                               31                            24   \n",
       "\n",
       "              Client_Status_Post3Months  ...  n(Loans)_Outstanding_Other  \\\n",
       "Fecha Cierre                             ...                               \n",
       "2018-01-31                            1  ...                           2   \n",
       "2018-01-31                            0  ...                           1   \n",
       "2018-01-31                            0  ...                           2   \n",
       "\n",
       "              n(Additional_Loans)_Post3Months  \\\n",
       "Fecha Cierre                                    \n",
       "2018-01-31                                  0   \n",
       "2018-01-31                                  0   \n",
       "2018-01-31                                  0   \n",
       "\n",
       "              n(Additional_Loans)_Post6Months  \\\n",
       "Fecha Cierre                                    \n",
       "2018-01-31                                  0   \n",
       "2018-01-31                                  0   \n",
       "2018-01-31                                  0   \n",
       "\n",
       "              Total_Accumulated_Interest_per_Client  \\\n",
       "Fecha Cierre                                          \n",
       "2018-01-31                                       19   \n",
       "2018-01-31                                      127   \n",
       "2018-01-31                                        0   \n",
       "\n",
       "              LO_Active_Employee_Prior3Months  \\\n",
       "Fecha Cierre                                    \n",
       "2018-01-31                                  1   \n",
       "2018-01-31                                  1   \n",
       "2018-01-31                                  1   \n",
       "\n",
       "              LO_Active_Employee_Prior6Months  n(Additional_Loans)_Pre3Months  \\\n",
       "Fecha Cierre                                                                    \n",
       "2018-01-31                                  1                               0   \n",
       "2018-01-31                                  1                               1   \n",
       "2018-01-31                                  1                               1   \n",
       "\n",
       "              n(Additional_Loans)_Pre6Months  LO_Changed  n(Months)_Change_LO  \n",
       "Fecha Cierre                                                                   \n",
       "2018-01-31                                 0           1                   13  \n",
       "2018-01-31                                 1           0                    0  \n",
       "2018-01-31                                 1           0                    0  \n",
       "\n",
       "[3 rows x 24 columns]"
      ]
     },
     "execution_count": 4,
     "metadata": {},
     "output_type": "execute_result"
    }
   ],
   "source": [
    "df.head(3)"
   ]
  },
  {
   "cell_type": "code",
   "execution_count": 5,
   "metadata": {
    "colab": {
     "base_uri": "https://localhost:8080/"
    },
    "id": "Kv-ZTi9jhp6X",
    "outputId": "24ce08e3-0aa4-4aa9-a530-65b18e377c71"
   },
   "outputs": [
    {
     "name": "stdout",
     "output_type": "stream",
     "text": [
      "<class 'pandas.core.frame.DataFrame'>\n",
      "DatetimeIndex: 4304 entries, 2018-01-31 to 2021-05-31\n",
      "Data columns (total 24 columns):\n",
      " #   Column                                 Non-Null Count  Dtype  \n",
      "---  ------                                 --------------  -----  \n",
      " 0   Client_ID                              4304 non-null   int64  \n",
      " 1   Resident_Capital                       4304 non-null   int64  \n",
      " 2   Client_Age_Years                       4304 non-null   int64  \n",
      " 3   Client_Sex                             4304 non-null   int64  \n",
      " 4   Client_Married                         4304 non-null   int64  \n",
      " 5   Amount_Last_Disbursement               4304 non-null   float64\n",
      " 6   n(Months)_Since_Last_Disbursement      4304 non-null   int64  \n",
      " 7   n(Months)_Client_Relationship          4304 non-null   int64  \n",
      " 8   n(Months)_LO_Active_Employee           4304 non-null   int64  \n",
      " 9   Client_Status_Post3Months              4304 non-null   int64  \n",
      " 10  Client_Status_Post6Months              4304 non-null   int64  \n",
      " 11  LO_Active_Employee_Post3Months         4304 non-null   int64  \n",
      " 12  LO_Active_Employee_Post6Months         4304 non-null   int64  \n",
      " 13  n(Loans)_Outstanding_Maynas            4304 non-null   int64  \n",
      " 14  n(Loans)_Outstanding_Other             4304 non-null   int64  \n",
      " 15  n(Additional_Loans)_Post3Months        4304 non-null   int64  \n",
      " 16  n(Additional_Loans)_Post6Months        4304 non-null   int64  \n",
      " 17  Total_Accumulated_Interest_per_Client  4304 non-null   int64  \n",
      " 18  LO_Active_Employee_Prior3Months        4304 non-null   int64  \n",
      " 19  LO_Active_Employee_Prior6Months        4304 non-null   int64  \n",
      " 20  n(Additional_Loans)_Pre3Months         4304 non-null   int64  \n",
      " 21  n(Additional_Loans)_Pre6Months         4304 non-null   int64  \n",
      " 22  LO_Changed                             4304 non-null   int64  \n",
      " 23  n(Months)_Change_LO                    4304 non-null   int64  \n",
      "dtypes: float64(1), int64(23)\n",
      "memory usage: 840.6 KB\n"
     ]
    }
   ],
   "source": [
    "df.info()"
   ]
  },
  {
   "cell_type": "code",
   "execution_count": 6,
   "metadata": {},
   "outputs": [
    {
     "data": {
      "text/plain": [
       "Index(['Client_ID', 'Resident_Capital', 'Client_Age_Years', 'Client_Sex',\n",
       "       'Client_Married', 'Amount_Last_Disbursement',\n",
       "       'n(Months)_Since_Last_Disbursement', 'n(Months)_Client_Relationship',\n",
       "       'n(Months)_LO_Active_Employee', 'Client_Status_Post3Months',\n",
       "       'Client_Status_Post6Months', 'LO_Active_Employee_Post3Months',\n",
       "       'LO_Active_Employee_Post6Months', 'n(Loans)_Outstanding_Maynas',\n",
       "       'n(Loans)_Outstanding_Other', 'n(Additional_Loans)_Post3Months',\n",
       "       'n(Additional_Loans)_Post6Months',\n",
       "       'Total_Accumulated_Interest_per_Client',\n",
       "       'LO_Active_Employee_Prior3Months', 'LO_Active_Employee_Prior6Months',\n",
       "       'n(Additional_Loans)_Pre3Months', 'n(Additional_Loans)_Pre6Months',\n",
       "       'LO_Changed', 'n(Months)_Change_LO'],\n",
       "      dtype='object')"
      ]
     },
     "execution_count": 6,
     "metadata": {},
     "output_type": "execute_result"
    }
   ],
   "source": [
    "df.columns"
   ]
  },
  {
   "cell_type": "markdown",
   "metadata": {
    "id": "b2yjmgeihp6Z"
   },
   "source": [
    "## Define X, y and split data (using complete dataset, i.e. years 2018 - may 2021 for fitting and evaluating models)."
   ]
  },
  {
   "cell_type": "markdown",
   "metadata": {},
   "source": [
    "Note:\n",
    "- dataset is not very imbalanced, which does not coincide with historic data. Given time restrictions, this (untidy) data set was still used for next analysis\n",
    "- splitting of data includes only separation into two sets: X_train and X_val; X_test has been provided by SB separately and includes data for months June - August 2021."
   ]
  },
  {
   "cell_type": "code",
   "execution_count": 7,
   "metadata": {
    "colab": {
     "base_uri": "https://localhost:8080/"
    },
    "id": "nJli4qn2hp6Z",
    "outputId": "887402d9-0b43-48b6-dbec-7785c2e86fec"
   },
   "outputs": [
    {
     "data": {
      "text/plain": [
       "((4304, 22), (4304,))"
      ]
     },
     "execution_count": 7,
     "metadata": {},
     "output_type": "execute_result"
    }
   ],
   "source": [
    "X = df.drop([\"Client_Status_Post3Months\", \"Client_Status_Post6Months\"], axis=1) # excluding target variables\n",
    "y = df[\"Client_Status_Post3Months\"]  \n",
    "X.shape, y.shape"
   ]
  },
  {
   "cell_type": "code",
   "execution_count": 8,
   "metadata": {
    "id": "Fwl9wH-Thp6Z"
   },
   "outputs": [],
   "source": [
    "X_train, X_val, y_train, y_val = train_test_split(X, y, test_size=0.2, random_state=42) # no need to stratify (default includes it)"
   ]
  },
  {
   "cell_type": "code",
   "execution_count": 9,
   "metadata": {
    "colab": {
     "base_uri": "https://localhost:8080/"
    },
    "id": "JQJY73a2hp6Z",
    "outputId": "44175f01-6063-411e-9789-292d391a2aa3"
   },
   "outputs": [
    {
     "data": {
      "text/plain": [
       "((3443, 22), (3443,), (861, 22), (861,))"
      ]
     },
     "execution_count": 9,
     "metadata": {},
     "output_type": "execute_result"
    }
   ],
   "source": [
    "X_train.shape, y_train.shape, X_val.shape, y_val.shape"
   ]
  },
  {
   "cell_type": "markdown",
   "metadata": {
    "id": "odY9IBeshp6Z"
   },
   "source": [
    "### Grid Search for hyperparameter tuning: Random Forest Classifier"
   ]
  },
  {
   "cell_type": "code",
   "execution_count": 10,
   "metadata": {},
   "outputs": [],
   "source": [
    "model_RF = RandomForestClassifier()"
   ]
  },
  {
   "cell_type": "code",
   "execution_count": 11,
   "metadata": {},
   "outputs": [],
   "source": [
    "param_grid = {'n_estimators': [5, 10, 25, 50, 100],\n",
    "              'max_depth': [3, 20],\n",
    "              'min_samples_split': [2, 3, 5, 10]} "
   ]
  },
  {
   "cell_type": "code",
   "execution_count": 12,
   "metadata": {},
   "outputs": [],
   "source": [
    "grid_search = GridSearchCV(model_RF, param_grid, verbose=True, cv=5)"
   ]
  },
  {
   "cell_type": "code",
   "execution_count": 13,
   "metadata": {},
   "outputs": [
    {
     "name": "stdout",
     "output_type": "stream",
     "text": [
      "Fitting 5 folds for each of 40 candidates, totalling 200 fits\n"
     ]
    },
    {
     "data": {
      "text/plain": [
       "GridSearchCV(cv=5, estimator=RandomForestClassifier(),\n",
       "             param_grid={'max_depth': [3, 20],\n",
       "                         'min_samples_split': [2, 3, 5, 10],\n",
       "                         'n_estimators': [5, 10, 25, 50, 100]},\n",
       "             verbose=True)"
      ]
     },
     "execution_count": 13,
     "metadata": {},
     "output_type": "execute_result"
    }
   ],
   "source": [
    "grid_search.fit(X_train, y_train)"
   ]
  },
  {
   "cell_type": "markdown",
   "metadata": {},
   "source": [
    "#### Inspect params"
   ]
  },
  {
   "cell_type": "code",
   "execution_count": 14,
   "metadata": {},
   "outputs": [
    {
     "data": {
      "text/plain": [
       "{'max_depth': 20, 'min_samples_split': 3, 'n_estimators': 50}"
      ]
     },
     "execution_count": 14,
     "metadata": {},
     "output_type": "execute_result"
    }
   ],
   "source": [
    "grid_search.best_params_"
   ]
  },
  {
   "cell_type": "markdown",
   "metadata": {},
   "source": [
    "#### Check if RF model overfits."
   ]
  },
  {
   "cell_type": "code",
   "execution_count": 15,
   "metadata": {},
   "outputs": [],
   "source": [
    "rf_best = grid_search.best_estimator_"
   ]
  },
  {
   "cell_type": "code",
   "execution_count": 16,
   "metadata": {},
   "outputs": [
    {
     "data": {
      "text/plain": [
       "array([0, 1, 0, 0, 1, 0, 0, 0, 0, 0, 1, 1, 0, 0, 0, 1, 0, 1, 0, 0, 1, 1,\n",
       "       1, 1, 1, 0, 0, 1, 0, 0, 0, 0, 1, 0, 0, 0, 1, 0, 0, 1, 0, 1, 1, 0,\n",
       "       0, 1, 1, 0, 0, 0, 0, 1, 0, 0, 0, 0, 0, 0, 0, 1, 1, 0, 0, 1, 0, 1,\n",
       "       0, 1, 0, 0, 1, 0, 1, 1, 1, 0, 1, 0, 0, 0, 0, 0, 1, 0, 0, 0, 1, 0,\n",
       "       1, 0, 0, 0, 0, 0, 0, 1, 0, 0, 0, 0, 1, 0, 0, 1, 0, 1, 0, 0, 1, 1,\n",
       "       1, 0, 1, 0, 1, 1, 1, 0, 0, 1, 0, 1, 1, 0, 0, 1, 0, 1, 1, 0, 0, 0,\n",
       "       1, 1, 1, 0, 0, 0, 0, 1, 0, 0, 0, 0, 1, 1, 1, 1, 0, 1, 0, 1, 0, 1,\n",
       "       1, 1, 0, 0, 0, 0, 0, 0, 0, 0, 0, 1, 1, 1, 0, 0, 0, 0, 1, 0, 0, 1,\n",
       "       0, 0, 0, 1, 0, 0, 0, 0, 1, 1, 0, 1, 0, 0, 0, 1, 0, 0, 0, 0, 0, 1,\n",
       "       1, 0, 0, 0, 1, 0, 1, 0, 1, 0, 1, 0, 1, 1, 0, 0, 0, 1, 0, 0, 0, 0,\n",
       "       0, 0, 0, 0, 0, 0, 1, 0, 0, 0, 0, 1, 0, 0, 0, 1, 0, 1, 0, 1, 0, 1,\n",
       "       0, 1, 0, 1, 0, 1, 0, 0, 1, 1, 0, 0, 0, 1, 0, 0, 0, 1, 0, 1, 0, 1,\n",
       "       0, 1, 0, 1, 1, 0, 0, 0, 1, 0, 1, 0, 0, 1, 1, 0, 0, 1, 1, 0, 1, 0,\n",
       "       1, 0, 1, 1, 0, 0, 1, 0, 0, 0, 0, 0, 0, 0, 0, 0, 1, 1, 0, 1, 0, 0,\n",
       "       0, 0, 0, 0, 1, 1, 1, 1, 0, 1, 1, 0, 0, 1, 1, 1, 0, 1, 1, 0, 1, 0,\n",
       "       1, 1, 0, 0, 0, 1, 1, 1, 0, 0, 1, 1, 0, 0, 0, 1, 0, 0, 0, 0, 0, 1,\n",
       "       1, 0, 0, 0, 1, 1, 0, 1, 0, 1, 1, 0, 1, 0, 0, 1, 1, 0, 0, 0, 1, 0,\n",
       "       0, 0, 0, 0, 0, 0, 0, 0, 1, 0, 0, 1, 1, 0, 0, 1, 1, 0, 0, 0, 1, 0,\n",
       "       0, 0, 1, 1, 0, 0, 1, 0, 0, 0, 1, 0, 1, 0, 1, 1, 1, 0, 1, 0, 1, 0,\n",
       "       1, 1, 0, 1, 0, 0, 0, 0, 0, 1, 0, 1, 1, 0, 0, 0, 0, 1, 1, 0, 1, 0,\n",
       "       0, 1, 1, 0, 1, 1, 1, 1, 0, 1, 0, 0, 0, 1, 1, 0, 0, 1, 0, 0, 0, 1,\n",
       "       0, 0, 1, 1, 0, 0, 0, 1, 0, 0, 0, 0, 0, 0, 0, 0, 1, 0, 0, 1, 0, 1,\n",
       "       0, 0, 0, 1, 0, 0, 0, 1, 0, 0, 0, 0, 1, 0, 1, 0, 0, 0, 1, 1, 0, 0,\n",
       "       1, 1, 0, 0, 1, 0, 0, 0, 1, 1, 0, 0, 1, 0, 0, 0, 0, 0, 0, 0, 0, 1,\n",
       "       0, 0, 0, 0, 0, 0, 1, 0, 0, 0, 0, 0, 0, 1, 1, 0, 1, 0, 0, 0, 0, 0,\n",
       "       1, 1, 0, 1, 0, 0, 1, 0, 0, 0, 0, 0, 1, 0, 1, 0, 0, 1, 1, 0, 1, 1,\n",
       "       1, 0, 1, 0, 0, 0, 0, 0, 0, 1, 1, 0, 1, 1, 1, 0, 1, 1, 0, 0, 1, 1,\n",
       "       0, 0, 0, 0, 0, 0, 0, 0, 0, 0, 1, 1, 0, 1, 0, 1, 0, 0, 0, 1, 0, 1,\n",
       "       1, 0, 1, 0, 1, 0, 0, 0, 1, 1, 1, 1, 1, 0, 0, 1, 1, 0, 1, 0, 0, 0,\n",
       "       1, 1, 0, 0, 0, 0, 1, 1, 0, 0, 1, 0, 0, 1, 0, 0, 1, 0, 0, 0, 0, 0,\n",
       "       1, 0, 1, 0, 0, 1, 1, 1, 0, 0, 0, 0, 1, 0, 0, 0, 0, 0, 0, 0, 0, 1,\n",
       "       1, 1, 0, 1, 1, 0, 0, 0, 1, 0, 0, 1, 0, 0, 1, 0, 0, 0, 1, 0, 0, 0,\n",
       "       0, 0, 0, 1, 0, 0, 0, 0, 1, 0, 0, 0, 0, 0, 0, 0, 1, 1, 0, 1, 0, 0,\n",
       "       1, 0, 1, 1, 0, 0, 0, 0, 0, 1, 1, 0, 0, 0, 0, 0, 1, 0, 0, 1, 0, 1,\n",
       "       1, 0, 0, 0, 0, 0, 1, 1, 0, 0, 0, 0, 0, 0, 1, 1, 0, 0, 0, 1, 0, 0,\n",
       "       1, 0, 0, 0, 0, 0, 0, 1, 0, 0, 1, 0, 0, 0, 0, 0, 0, 0, 1, 1, 0, 1,\n",
       "       0, 1, 1, 0, 0, 0, 0, 1, 0, 0, 0, 1, 1, 1, 0, 1, 0, 1, 0, 0, 0, 1,\n",
       "       0, 0, 1, 0, 0, 1, 0, 0, 0, 0, 1, 0, 0, 0, 1, 0, 1, 1, 0, 1, 0, 0,\n",
       "       1, 0, 1, 1, 0, 0, 1, 0, 0, 0, 0, 0, 0, 1, 0, 0, 1, 1, 0, 0, 0, 0,\n",
       "       0, 1, 1])"
      ]
     },
     "execution_count": 16,
     "metadata": {},
     "output_type": "execute_result"
    }
   ],
   "source": [
    "rf_best.predict(X_val)"
   ]
  },
  {
   "cell_type": "code",
   "execution_count": 17,
   "metadata": {},
   "outputs": [
    {
     "data": {
      "text/plain": [
       "1.0"
      ]
     },
     "execution_count": 17,
     "metadata": {},
     "output_type": "execute_result"
    }
   ],
   "source": [
    "rf_best.score(X_train, y_train).round(2)"
   ]
  },
  {
   "cell_type": "code",
   "execution_count": 18,
   "metadata": {},
   "outputs": [
    {
     "data": {
      "text/plain": [
       "0.93"
      ]
     },
     "execution_count": 18,
     "metadata": {},
     "output_type": "execute_result"
    }
   ],
   "source": [
    "rf_best.score(X_val, y_val).round(2)"
   ]
  },
  {
   "cell_type": "markdown",
   "metadata": {},
   "source": [
    "#### Model overfits with these parameters => further manual tuning till optimal params are found. See below on training the Random Forest model."
   ]
  },
  {
   "cell_type": "markdown",
   "metadata": {},
   "source": [
    "### Feature Engineering: scaling - training data"
   ]
  },
  {
   "cell_type": "code",
   "execution_count": 19,
   "metadata": {},
   "outputs": [],
   "source": [
    "scaler = MinMaxScaler()"
   ]
  },
  {
   "cell_type": "code",
   "execution_count": 20,
   "metadata": {},
   "outputs": [],
   "source": [
    "Xtrain_scaled = scaler.fit_transform(X_train)"
   ]
  },
  {
   "cell_type": "markdown",
   "metadata": {
    "id": "odY9IBeshp6Z"
   },
   "source": [
    "### Feature Engineering: include timestamps - training data"
   ]
  },
  {
   "cell_type": "code",
   "execution_count": 21,
   "metadata": {
    "colab": {
     "base_uri": "https://localhost:8080/"
    },
    "id": "w_ZC3yDEhp6Z",
    "outputId": "a1e7d4b8-9c3a-4b32-b4f7-245553904956"
   },
   "outputs": [],
   "source": [
    "X_train[\"Year\"] = X_train.index.year"
   ]
  },
  {
   "cell_type": "code",
   "execution_count": 22,
   "metadata": {
    "colab": {
     "base_uri": "https://localhost:8080/"
    },
    "id": "EqsqoO-Php6a",
    "outputId": "4083eaf5-4927-441c-c5f2-eee60a80985e"
   },
   "outputs": [],
   "source": [
    "X_train[\"Month\"] = X_train.index.month"
   ]
  },
  {
   "cell_type": "code",
   "execution_count": 23,
   "metadata": {
    "colab": {
     "base_uri": "https://localhost:8080/"
    },
    "id": "35KgZvTuJmqC",
    "outputId": "24cd58f7-5aaa-4c81-92f7-804b193abd45"
   },
   "outputs": [
    {
     "data": {
      "text/plain": [
       "Index(['Client_ID', 'Resident_Capital', 'Client_Age_Years', 'Client_Sex',\n",
       "       'Client_Married', 'Amount_Last_Disbursement',\n",
       "       'n(Months)_Since_Last_Disbursement', 'n(Months)_Client_Relationship',\n",
       "       'n(Months)_LO_Active_Employee', 'LO_Active_Employee_Post3Months',\n",
       "       'LO_Active_Employee_Post6Months', 'n(Loans)_Outstanding_Maynas',\n",
       "       'n(Loans)_Outstanding_Other', 'n(Additional_Loans)_Post3Months',\n",
       "       'n(Additional_Loans)_Post6Months',\n",
       "       'Total_Accumulated_Interest_per_Client',\n",
       "       'LO_Active_Employee_Prior3Months', 'LO_Active_Employee_Prior6Months',\n",
       "       'n(Additional_Loans)_Pre3Months', 'n(Additional_Loans)_Pre6Months',\n",
       "       'LO_Changed', 'n(Months)_Change_LO', 'Year', 'Month'],\n",
       "      dtype='object')"
      ]
     },
     "execution_count": 23,
     "metadata": {},
     "output_type": "execute_result"
    }
   ],
   "source": [
    "X_train.columns"
   ]
  },
  {
   "cell_type": "code",
   "execution_count": 24,
   "metadata": {
    "colab": {
     "base_uri": "https://localhost:8080/"
    },
    "id": "iokTrcKlhp6a",
    "outputId": "6d85a038-0ba0-4348-ca8f-1877f82a17b7"
   },
   "outputs": [
    {
     "data": {
      "text/plain": [
       "(3443, 24)"
      ]
     },
     "execution_count": 24,
     "metadata": {},
     "output_type": "execute_result"
    }
   ],
   "source": [
    "X_train.shape"
   ]
  },
  {
   "cell_type": "markdown",
   "metadata": {},
   "source": [
    "### Feature Engineering: scaling - validation data"
   ]
  },
  {
   "cell_type": "code",
   "execution_count": 25,
   "metadata": {},
   "outputs": [],
   "source": [
    "X_val_scaled = scaler.transform(X_val)"
   ]
  },
  {
   "cell_type": "markdown",
   "metadata": {
    "id": "kFahELDvhp6b"
   },
   "source": [
    "### Feature Engineering: include timestamps - validation data"
   ]
  },
  {
   "cell_type": "code",
   "execution_count": 26,
   "metadata": {
    "colab": {
     "base_uri": "https://localhost:8080/"
    },
    "id": "OL1OnDy1hp6b",
    "outputId": "e0920a15-f54e-45e4-98a3-52c7e981a6ae"
   },
   "outputs": [],
   "source": [
    "X_val[\"Year\"] = X_val.index.year"
   ]
  },
  {
   "cell_type": "code",
   "execution_count": 27,
   "metadata": {
    "colab": {
     "base_uri": "https://localhost:8080/"
    },
    "id": "1og2MaR_hp6b",
    "outputId": "f0929288-543f-4c8e-bb78-477b9e96d202"
   },
   "outputs": [],
   "source": [
    "X_val[\"Month\"] = X_val.index.month"
   ]
  },
  {
   "cell_type": "code",
   "execution_count": 28,
   "metadata": {
    "colab": {
     "base_uri": "https://localhost:8080/"
    },
    "id": "uUTDFPEuJxvI",
    "outputId": "665ccfc1-0297-4013-fabd-375b2605444b"
   },
   "outputs": [
    {
     "data": {
      "text/plain": [
       "Index(['Client_ID', 'Resident_Capital', 'Client_Age_Years', 'Client_Sex',\n",
       "       'Client_Married', 'Amount_Last_Disbursement',\n",
       "       'n(Months)_Since_Last_Disbursement', 'n(Months)_Client_Relationship',\n",
       "       'n(Months)_LO_Active_Employee', 'LO_Active_Employee_Post3Months',\n",
       "       'LO_Active_Employee_Post6Months', 'n(Loans)_Outstanding_Maynas',\n",
       "       'n(Loans)_Outstanding_Other', 'n(Additional_Loans)_Post3Months',\n",
       "       'n(Additional_Loans)_Post6Months',\n",
       "       'Total_Accumulated_Interest_per_Client',\n",
       "       'LO_Active_Employee_Prior3Months', 'LO_Active_Employee_Prior6Months',\n",
       "       'n(Additional_Loans)_Pre3Months', 'n(Additional_Loans)_Pre6Months',\n",
       "       'LO_Changed', 'n(Months)_Change_LO', 'Year', 'Month'],\n",
       "      dtype='object')"
      ]
     },
     "execution_count": 28,
     "metadata": {},
     "output_type": "execute_result"
    }
   ],
   "source": [
    "X_val.columns"
   ]
  },
  {
   "cell_type": "code",
   "execution_count": 29,
   "metadata": {
    "colab": {
     "base_uri": "https://localhost:8080/"
    },
    "id": "b6GKvDzdhp6b",
    "outputId": "3789c2ef-932f-4e5d-a64b-c9b8a6cb5ea6"
   },
   "outputs": [
    {
     "data": {
      "text/plain": [
       "(861, 24)"
      ]
     },
     "execution_count": 29,
     "metadata": {},
     "output_type": "execute_result"
    }
   ],
   "source": [
    "X_val.shape"
   ]
  },
  {
   "cell_type": "markdown",
   "metadata": {},
   "source": [
    "## Fit and evaluate models "
   ]
  },
  {
   "cell_type": "markdown",
   "metadata": {
    "id": "-vAwtO0Khp6a"
   },
   "source": [
    "### Fit a Logistic Regression model"
   ]
  },
  {
   "cell_type": "code",
   "execution_count": 30,
   "metadata": {},
   "outputs": [],
   "source": [
    "# Define weights for cost-sensitive learning.\n",
    "weights = {0:0.41, 1:0.59}     # rationale: taking inverse distribution of labels (see EDA on distribution of minority/majority groups).\n"
   ]
  },
  {
   "cell_type": "code",
   "execution_count": 31,
   "metadata": {},
   "outputs": [
    {
     "data": {
      "text/plain": [
       "LogisticRegression(class_weight={0: 0.41, 1: 0.59}, random_state=42)"
      ]
     },
     "execution_count": 31,
     "metadata": {},
     "output_type": "execute_result"
    }
   ],
   "source": [
    "model_LR = LogisticRegression(class_weight = weights, random_state=42) \n",
    "model_LR.fit(X_train, y_train)"
   ]
  },
  {
   "cell_type": "markdown",
   "metadata": {},
   "source": [
    "### Make predictions."
   ]
  },
  {
   "cell_type": "code",
   "execution_count": 32,
   "metadata": {},
   "outputs": [],
   "source": [
    "ypred_LR = model_LR.predict(X_val)"
   ]
  },
  {
   "cell_type": "code",
   "execution_count": 33,
   "metadata": {},
   "outputs": [
    {
     "data": {
      "text/plain": [
       "array([[0.49769298, 0.50230702],\n",
       "       [0.49769277, 0.50230723],\n",
       "       [0.49769277, 0.50230723],\n",
       "       ...,\n",
       "       [0.49769235, 0.50230765],\n",
       "       [0.49769298, 0.50230702],\n",
       "       [0.49769298, 0.50230702]])"
      ]
     },
     "execution_count": 33,
     "metadata": {},
     "output_type": "execute_result"
    }
   ],
   "source": [
    "probs_LR = model_LR.predict_proba(X_val)\n",
    "probs_LR"
   ]
  },
  {
   "cell_type": "markdown",
   "metadata": {
    "id": "BdvNduoBhp6b"
   },
   "source": [
    "### Evaluate LogReg: ROC curve "
   ]
  },
  {
   "cell_type": "code",
   "execution_count": 34,
   "metadata": {
    "colab": {
     "base_uri": "https://localhost:8080/",
     "height": 279
    },
    "id": "sBjNr6nbhp6b",
    "outputId": "8f39dfeb-452b-45a9-afc1-b4413d2422da"
   },
   "outputs": [
    {
     "data": {
      "image/png": "[encoded data removed]",
      "text/plain": [
       "<Figure size 432x288 with 1 Axes>"
      ]
     },
     "metadata": {
      "needs_background": "light"
     },
     "output_type": "display_data"
    }
   ],
   "source": [
    "model_LR_disp = plot_roc_curve(model_LR, X_val, y_val)\n",
    "plt.show()"
   ]
  },
  {
   "cell_type": "markdown",
   "metadata": {},
   "source": [
    "### Evaluate LogReg: confusion matrix and AUC"
   ]
  },
  {
   "cell_type": "code",
   "execution_count": 35,
   "metadata": {},
   "outputs": [
    {
     "name": "stdout",
     "output_type": "stream",
     "text": [
      "Confusion Matrix: \n",
      "[[  0 529]\n",
      " [  0 332]]\n",
      "Area Under Curve: 0.5\n",
      "f1 - score: 0.56\n"
     ]
    }
   ],
   "source": [
    "print(f\"Confusion Matrix: \\n{confusion_matrix(y_val, ypred_LR)}\")\n",
    "print(f\"Area Under Curve: {roc_auc_score(y_val, ypred_LR).round(2)}\")\n",
    "print(f\"f1 - score: {f1_score(y_val, ypred_LR).round(2)}\")"
   ]
  },
  {
   "cell_type": "markdown",
   "metadata": {},
   "source": [
    "Interpretation:\n",
    "- TP = 0, i.e. model does not make any predictions re positive class. First indication that model underperforms."
   ]
  },
  {
   "cell_type": "code",
   "execution_count": 36,
   "metadata": {},
   "outputs": [],
   "source": [
    "auc_LR = roc_auc_score(y_val, ypred_LR)\n",
    "f1_LR = f1_score(y_val, ypred_LR)"
   ]
  },
  {
   "cell_type": "markdown",
   "metadata": {},
   "source": [
    "Interpretation:\n",
    "- AUC = 0.50, i.e. we don't need to build any model => we could \"toss a coin\" instead\n",
    "- Model underperforms, which COULD have to do with outliers...LogReg is sensitive to outliers => model would have to be run again in future, but excluding outliers."
   ]
  },
  {
   "cell_type": "markdown",
   "metadata": {
    "id": "qZEX9mVyhp6b"
   },
   "source": [
    "### Fit a Random Forest model"
   ]
  },
  {
   "cell_type": "code",
   "execution_count": 37,
   "metadata": {
    "id": "Lm8_zyVahp6b"
   },
   "outputs": [],
   "source": [
    "model_RF = RandomForestClassifier(max_depth=10, min_samples_split=3, n_estimators=63, random_state=42) # params from manual tuning"
   ]
  },
  {
   "cell_type": "code",
   "execution_count": 38,
   "metadata": {
    "colab": {
     "base_uri": "https://localhost:8080/"
    },
    "id": "DcjXZvzFKM_1",
    "outputId": "1b6da5eb-f6dc-4019-d3bf-c809e9c915b7"
   },
   "outputs": [
    {
     "data": {
      "text/plain": [
       "Fecha Cierre\n",
       "2018-07-31    0\n",
       "2018-06-30    0\n",
       "2018-07-31    0\n",
       "2021-04-30    1\n",
       "2019-01-31    1\n",
       "             ..\n",
       "2020-09-30    1\n",
       "2018-02-28    1\n",
       "2020-04-30    1\n",
       "2021-02-28    1\n",
       "2018-04-30    1\n",
       "Name: Client_Status_Post3Months, Length: 3443, dtype: int64"
      ]
     },
     "execution_count": 38,
     "metadata": {},
     "output_type": "execute_result"
    }
   ],
   "source": [
    "X_train.copy()\n",
    "y_train.copy()"
   ]
  },
  {
   "cell_type": "code",
   "execution_count": 39,
   "metadata": {
    "colab": {
     "base_uri": "https://localhost:8080/"
    },
    "id": "FdIsbfG4kh21",
    "outputId": "d282ddef-8e9e-44f8-8e16-0504e0be221e"
   },
   "outputs": [
    {
     "data": {
      "text/plain": [
       "RandomForestClassifier(max_depth=10, min_samples_split=3, n_estimators=63,\n",
       "                       random_state=42)"
      ]
     },
     "execution_count": 39,
     "metadata": {},
     "output_type": "execute_result"
    }
   ],
   "source": [
    "model_RF.fit(X_train, y_train)"
   ]
  },
  {
   "cell_type": "markdown",
   "metadata": {},
   "source": [
    "### Make predictions."
   ]
  },
  {
   "cell_type": "code",
   "execution_count": 40,
   "metadata": {
    "colab": {
     "base_uri": "https://localhost:8080/"
    },
    "id": "8GBqDksyKlvS",
    "outputId": "e824b652-7ada-49ba-8598-738bb544e04e"
   },
   "outputs": [],
   "source": [
    "ypred_RF = model_RF.predict(X_val)\n"
   ]
  },
  {
   "cell_type": "code",
   "execution_count": 41,
   "metadata": {},
   "outputs": [
    {
     "data": {
      "text/plain": [
       "array([[0.95030608, 0.04969392],\n",
       "       [0.03777318, 0.96222682],\n",
       "       [0.96217083, 0.03782917],\n",
       "       ...,\n",
       "       [0.92207349, 0.07792651],\n",
       "       [0.01819017, 0.98180983],\n",
       "       [0.02745106, 0.97254894]])"
      ]
     },
     "execution_count": 41,
     "metadata": {},
     "output_type": "execute_result"
    }
   ],
   "source": [
    "probs_RF = model_RF.predict_proba(X_val) \n",
    "probs_RF"
   ]
  },
  {
   "cell_type": "markdown",
   "metadata": {
    "id": "Pv94Ffz_hp6b"
   },
   "source": [
    "### Evaluate Random Forest: ROC curve "
   ]
  },
  {
   "cell_type": "code",
   "execution_count": 42,
   "metadata": {
    "colab": {
     "base_uri": "https://localhost:8080/",
     "height": 279
    },
    "id": "7uP9sPkHhp6b",
    "outputId": "2bc58626-c387-40dc-e885-e43aa3296f08"
   },
   "outputs": [
    {
     "data": {
      "image/png": "[encoded data removed]",
      "text/plain": [
       "<Figure size 432x288 with 1 Axes>"
      ]
     },
     "metadata": {
      "needs_background": "light"
     },
     "output_type": "display_data"
    }
   ],
   "source": [
    "ax = plt.gca()\n",
    "\n",
    "model_RF_disp = plot_roc_curve(model_RF, X_val, y_val, ax=ax, alpha=0.8)\n",
    "model_LR_disp.plot(ax=ax, alpha=0.8)\n",
    "\n",
    "plt.show() "
   ]
  },
  {
   "cell_type": "markdown",
   "metadata": {},
   "source": [
    "### Evaluate Random Forest: confusion matrix and AUC"
   ]
  },
  {
   "cell_type": "code",
   "execution_count": 43,
   "metadata": {},
   "outputs": [
    {
     "name": "stdout",
     "output_type": "stream",
     "text": [
      "Confusion Matrix: \n",
      "[[516  13]\n",
      " [ 36 296]]\n",
      "Area Under Curve: 0.93\n",
      "f1 - score: 0.92\n"
     ]
    }
   ],
   "source": [
    "print(f\"Confusion Matrix: \\n{confusion_matrix(y_val, ypred_RF)}\")\n",
    "print(f\"Area Under Curve: {roc_auc_score(y_val, ypred_RF).round(2)}\")\n",
    "print(f\"f1 - score: {f1_score(y_val, ypred_RF).round(2)}\")"
   ]
  },
  {
   "cell_type": "code",
   "execution_count": 44,
   "metadata": {},
   "outputs": [],
   "source": [
    "auc_RF = roc_auc_score(y_val, ypred_RF)\n",
    "f1_RF = f1_score(y_val, ypred_RF)"
   ]
  },
  {
   "cell_type": "markdown",
   "metadata": {},
   "source": [
    "Interpretation:\n",
    "- re Confusion Matrix: out of 332 predictions regarding the positive class, 89% were predicted correctly. Out of 529 predictions regarding the negative class, only 2% were predicted incorrectly (false negatives).\n",
    "- f1 - score:  93%\n",
    "- re AUC: the likelihood that a randomly selected customer from the minority group is scored higher than the a randomly selected customer from the majority group is 94% in the case of a RandomForest classifier (vs. 50% of a LogReg classifier)."
   ]
  },
  {
   "cell_type": "markdown",
   "metadata": {
    "id": "kp9Ql1rqhp6c"
   },
   "source": [
    "### Fit a Decision Tree model"
   ]
  },
  {
   "cell_type": "code",
   "execution_count": 45,
   "metadata": {
    "id": "bOBAlakehp6c"
   },
   "outputs": [],
   "source": [
    "model_DT = DecisionTreeClassifier(max_depth=6, random_state=42) # param from manual tuning"
   ]
  },
  {
   "cell_type": "code",
   "execution_count": 46,
   "metadata": {
    "colab": {
     "base_uri": "https://localhost:8080/"
    },
    "id": "R_B5PN6RLbie",
    "outputId": "0834bd69-c4a4-4445-8661-6a9abe0be58b"
   },
   "outputs": [
    {
     "data": {
      "text/plain": [
       "Fecha Cierre\n",
       "2018-07-31    0\n",
       "2018-06-30    0\n",
       "2018-07-31    0\n",
       "2021-04-30    1\n",
       "2019-01-31    1\n",
       "             ..\n",
       "2020-09-30    1\n",
       "2018-02-28    1\n",
       "2020-04-30    1\n",
       "2021-02-28    1\n",
       "2018-04-30    1\n",
       "Name: Client_Status_Post3Months, Length: 3443, dtype: int64"
      ]
     },
     "execution_count": 46,
     "metadata": {},
     "output_type": "execute_result"
    }
   ],
   "source": [
    "X_train.copy()\n",
    "y_train.copy()"
   ]
  },
  {
   "cell_type": "code",
   "execution_count": 47,
   "metadata": {
    "colab": {
     "base_uri": "https://localhost:8080/"
    },
    "id": "UH8fWjdahp6c",
    "outputId": "c7b97320-beeb-486a-fcc6-ef9c13880143"
   },
   "outputs": [
    {
     "data": {
      "text/plain": [
       "DecisionTreeClassifier(max_depth=6, random_state=42)"
      ]
     },
     "execution_count": 47,
     "metadata": {},
     "output_type": "execute_result"
    }
   ],
   "source": [
    "model_DT.fit(X_train, y_train)"
   ]
  },
  {
   "cell_type": "markdown",
   "metadata": {},
   "source": [
    "### Make predictions."
   ]
  },
  {
   "cell_type": "code",
   "execution_count": 48,
   "metadata": {
    "colab": {
     "base_uri": "https://localhost:8080/"
    },
    "id": "F-yYj3pnhp6c",
    "outputId": "b63d40a2-04c2-434c-cb7a-21ca0ea5cc4f"
   },
   "outputs": [],
   "source": [
    "ypred_DT = model_DT.predict(X_val)"
   ]
  },
  {
   "cell_type": "code",
   "execution_count": 49,
   "metadata": {
    "colab": {
     "base_uri": "https://localhost:8080/"
    },
    "id": "pCOe2-bihp6c",
    "outputId": "cbe15680-4937-42e7-d4a2-7c0646004c7f"
   },
   "outputs": [
    {
     "data": {
      "text/plain": [
       "array([[0.97474747, 0.02525253],\n",
       "       [0.06393678, 0.93606322],\n",
       "       [0.97474747, 0.02525253],\n",
       "       ...,\n",
       "       [0.99726776, 0.00273224],\n",
       "       [0.06393678, 0.93606322],\n",
       "       [0.06393678, 0.93606322]])"
      ]
     },
     "execution_count": 49,
     "metadata": {},
     "output_type": "execute_result"
    }
   ],
   "source": [
    "probs_DT = model_DT.predict_proba(X_val)\n",
    "probs_DT"
   ]
  },
  {
   "cell_type": "markdown",
   "metadata": {},
   "source": [
    "### Evaluate Decision Tree: ROC curve "
   ]
  },
  {
   "cell_type": "code",
   "execution_count": 50,
   "metadata": {
    "colab": {
     "base_uri": "https://localhost:8080/",
     "height": 279
    },
    "id": "WTFUPgaQhp6c",
    "outputId": "833e8f9f-98f3-40c7-cf3f-9dcb94a5def2"
   },
   "outputs": [
    {
     "data": {
      "image/png": "[encoded data removed]",
      "text/plain": [
       "<Figure size 432x288 with 1 Axes>"
      ]
     },
     "metadata": {
      "needs_background": "light"
     },
     "output_type": "display_data"
    }
   ],
   "source": [
    "ax = plt.gca()\n",
    "\n",
    "model_DT_disp = plot_roc_curve(model_DT, X_val, y_val, ax=ax, alpha=0.8)\n",
    "model_RF_disp.plot(ax=ax, alpha=0.8)\n",
    "model_LR_disp.plot(ax=ax, alpha=0.8)\n",
    "\n",
    "plt.show()"
   ]
  },
  {
   "cell_type": "markdown",
   "metadata": {},
   "source": [
    "### Evaluate Decision Tree: confusion matrix and AUC"
   ]
  },
  {
   "cell_type": "code",
   "execution_count": 51,
   "metadata": {},
   "outputs": [
    {
     "name": "stdout",
     "output_type": "stream",
     "text": [
      "Confusion Matrix: \n",
      "[[495  34]\n",
      " [ 32 300]]\n",
      "Area Under Curve: 0.92\n",
      "f1 - score: 0.9\n"
     ]
    }
   ],
   "source": [
    "print(f\"Confusion Matrix: \\n{confusion_matrix(y_val, ypred_DT)}\")\n",
    "print(f\"Area Under Curve: {roc_auc_score(y_val, ypred_DT).round(2)}\")\n",
    "print(f\"f1 - score: {f1_score(y_val, ypred_DT).round(2)}\")"
   ]
  },
  {
   "cell_type": "code",
   "execution_count": 52,
   "metadata": {},
   "outputs": [],
   "source": [
    "auc_DT = roc_auc_score(y_val, ypred_DT)\n",
    "f1_DT = f1_score(y_val, ypred_DT)"
   ]
  },
  {
   "cell_type": "markdown",
   "metadata": {},
   "source": [
    "Interpretation:\n",
    "- re Confusion Matrix: out of 332 predictions regarding the positive class, 90% were predicted correctly. As such, DT shows best precision of all models. Out of 529 predictions regarding the negative class, 6% were predicted incorrectly (false negatives). \n",
    "- f1 - score = 89.95% \n",
    "- re AUC: the likelihood that a randomly selected customer from the minority group is scored higher than the a randomly selected customer from the majority group is 92% in the case of a Decision Tree classifier (vs. 94% of a Random Forest classifier)."
   ]
  },
  {
   "cell_type": "markdown",
   "metadata": {},
   "source": [
    "### Summary model evaluation: AUC"
   ]
  },
  {
   "cell_type": "code",
   "execution_count": 53,
   "metadata": {},
   "outputs": [
    {
     "data": {
      "text/html": [
       "<div>\n",
       "<style scoped>\n",
       "    .dataframe tbody tr th:only-of-type {\n",
       "        vertical-align: middle;\n",
       "    }\n",
       "\n",
       "    .dataframe tbody tr th {\n",
       "        vertical-align: top;\n",
       "    }\n",
       "\n",
       "    .dataframe thead th {\n",
       "        text-align: right;\n",
       "    }\n",
       "</style>\n",
       "<table border=\"1\" class=\"dataframe\">\n",
       "  <thead>\n",
       "    <tr style=\"text-align: right;\">\n",
       "      <th></th>\n",
       "      <th>Model</th>\n",
       "      <th>auc</th>\n",
       "    </tr>\n",
       "  </thead>\n",
       "  <tbody>\n",
       "    <tr>\n",
       "      <th>2</th>\n",
       "      <td>RF</td>\n",
       "      <td>0.933496</td>\n",
       "    </tr>\n",
       "    <tr>\n",
       "      <th>1</th>\n",
       "      <td>Tree</td>\n",
       "      <td>0.919671</td>\n",
       "    </tr>\n",
       "    <tr>\n",
       "      <th>0</th>\n",
       "      <td>LogReg</td>\n",
       "      <td>0.500000</td>\n",
       "    </tr>\n",
       "  </tbody>\n",
       "</table>\n",
       "</div>"
      ],
      "text/plain": [
       "    Model       auc\n",
       "2      RF  0.933496\n",
       "1    Tree  0.919671\n",
       "0  LogReg  0.500000"
      ]
     },
     "execution_count": 53,
     "metadata": {},
     "output_type": "execute_result"
    }
   ],
   "source": [
    "auc = [[\"LogReg\", auc_LR], [\"Tree\",  auc_DT], [\"RF\",  auc_RF]]\n",
    "auc  = pd.DataFrame(auc , columns = [\"Model\", \"auc\"])\n",
    "auc.sort_values(by=[\"auc\"], inplace=True, ascending = False)\n",
    "auc"
   ]
  },
  {
   "cell_type": "markdown",
   "metadata": {},
   "source": [
    "### Summary model evaluation: f1 - score"
   ]
  },
  {
   "cell_type": "code",
   "execution_count": 54,
   "metadata": {},
   "outputs": [
    {
     "data": {
      "text/html": [
       "<div>\n",
       "<style scoped>\n",
       "    .dataframe tbody tr th:only-of-type {\n",
       "        vertical-align: middle;\n",
       "    }\n",
       "\n",
       "    .dataframe tbody tr th {\n",
       "        vertical-align: top;\n",
       "    }\n",
       "\n",
       "    .dataframe thead th {\n",
       "        text-align: right;\n",
       "    }\n",
       "</style>\n",
       "<table border=\"1\" class=\"dataframe\">\n",
       "  <thead>\n",
       "    <tr style=\"text-align: right;\">\n",
       "      <th></th>\n",
       "      <th>Model</th>\n",
       "      <th>f1</th>\n",
       "    </tr>\n",
       "  </thead>\n",
       "  <tbody>\n",
       "    <tr>\n",
       "      <th>2</th>\n",
       "      <td>RF</td>\n",
       "      <td>0.923557</td>\n",
       "    </tr>\n",
       "    <tr>\n",
       "      <th>1</th>\n",
       "      <td>Tree</td>\n",
       "      <td>0.900901</td>\n",
       "    </tr>\n",
       "    <tr>\n",
       "      <th>0</th>\n",
       "      <td>LogReg</td>\n",
       "      <td>0.556580</td>\n",
       "    </tr>\n",
       "  </tbody>\n",
       "</table>\n",
       "</div>"
      ],
      "text/plain": [
       "    Model        f1\n",
       "2      RF  0.923557\n",
       "1    Tree  0.900901\n",
       "0  LogReg  0.556580"
      ]
     },
     "execution_count": 54,
     "metadata": {},
     "output_type": "execute_result"
    }
   ],
   "source": [
    "f1 = [[\"LogReg\", f1_LR], [\"Tree\",  f1_DT], [\"RF\",  f1_RF]]\n",
    "f1  = pd.DataFrame(f1 , columns = [\"Model\", \"f1\"])\n",
    "f1.sort_values(by=[\"f1\"], inplace=True, ascending = False)\n",
    "f1"
   ]
  },
  {
   "cell_type": "markdown",
   "metadata": {
    "id": "UVHlA5BaE4L_"
   },
   "source": [
    "#### Interpretation\n",
    "* Random Forest Model shows best performance (based on AUC and f1-score)."
   ]
  },
  {
   "cell_type": "markdown",
   "metadata": {
    "id": "FDUzmgNVhp6c"
   },
   "source": [
    "## Checking for feature importance using random forest regressor. Using two different approaches (\"mean decrease in impurity\" and \"feature permutation\")."
   ]
  },
  {
   "cell_type": "markdown",
   "metadata": {
    "id": "dFl2aBgVhp6c"
   },
   "source": [
    "##### Feature importance based on mean decrease in impurity (based on https://scikit-learn.org/stable/auto_examples/ensemble/plot_forest_importances.html)."
   ]
  },
  {
   "cell_type": "code",
   "execution_count": 55,
   "metadata": {
    "id": "nLeP3W6_hp6c"
   },
   "outputs": [],
   "source": [
    "feature_names = [f'feature {i}' for i in range(X_train.shape[1])] "
   ]
  },
  {
   "cell_type": "code",
   "execution_count": 56,
   "metadata": {
    "id": "fRmMINIBhp6c"
   },
   "outputs": [],
   "source": [
    "importances = model_RF.feature_importances_\n",
    "std = np.std([\n",
    "    tree.feature_importances_ for tree in model_RF.estimators_], axis=0)"
   ]
  },
  {
   "cell_type": "code",
   "execution_count": 57,
   "metadata": {},
   "outputs": [
    {
     "data": {
      "text/plain": [
       "numpy.ndarray"
      ]
     },
     "execution_count": 57,
     "metadata": {},
     "output_type": "execute_result"
    }
   ],
   "source": [
    "type(importances)"
   ]
  },
  {
   "cell_type": "code",
   "execution_count": 58,
   "metadata": {
    "colab": {
     "base_uri": "https://localhost:8080/",
     "height": 297
    },
    "id": "xX93-8eKhp6d",
    "outputId": "3914b00a-960b-4e01-d44c-25912e197838"
   },
   "outputs": [
    {
     "data": {
      "image/png": "[encoded data removed]",
      "text/plain": [
       "<Figure size 432x288 with 1 Axes>"
      ]
     },
     "metadata": {
      "needs_background": "light"
     },
     "output_type": "display_data"
    }
   ],
   "source": [
    "model_RF_importances = pd.Series(importances, index=feature_names)\n",
    "\n",
    "fig, ax = plt.subplots()\n",
    "model_RF_importances.plot.bar(yerr=std, ax=ax)\n",
    "ax.set_title(\"Feature importance using MDI\")\n",
    "ax.set_ylabel(\"Mean decrease in impurity\")\n",
    "fig.tight_layout()"
   ]
  },
  {
   "cell_type": "code",
   "execution_count": 59,
   "metadata": {
    "colab": {
     "base_uri": "https://localhost:8080/",
     "height": 788
    },
    "id": "LI-PGyMmhp6d",
    "outputId": "ebe09dee-0418-44a8-8362-b983a8d92d69"
   },
   "outputs": [
    {
     "data": {
      "text/html": [
       "<div>\n",
       "<style scoped>\n",
       "    .dataframe tbody tr th:only-of-type {\n",
       "        vertical-align: middle;\n",
       "    }\n",
       "\n",
       "    .dataframe tbody tr th {\n",
       "        vertical-align: top;\n",
       "    }\n",
       "\n",
       "    .dataframe thead th {\n",
       "        text-align: right;\n",
       "    }\n",
       "</style>\n",
       "<table border=\"1\" class=\"dataframe\">\n",
       "  <thead>\n",
       "    <tr style=\"text-align: right;\">\n",
       "      <th></th>\n",
       "      <th>importance</th>\n",
       "      <th>feature</th>\n",
       "    </tr>\n",
       "  </thead>\n",
       "  <tbody>\n",
       "    <tr>\n",
       "      <th>9</th>\n",
       "      <td>0.329840</td>\n",
       "      <td>LO_Active_Employee_Post3Months</td>\n",
       "    </tr>\n",
       "    <tr>\n",
       "      <th>23</th>\n",
       "      <td>0.139761</td>\n",
       "      <td>Month</td>\n",
       "    </tr>\n",
       "    <tr>\n",
       "      <th>10</th>\n",
       "      <td>0.098888</td>\n",
       "      <td>LO_Active_Employee_Post6Months</td>\n",
       "    </tr>\n",
       "    <tr>\n",
       "      <th>17</th>\n",
       "      <td>0.095390</td>\n",
       "      <td>LO_Active_Employee_Prior6Months</td>\n",
       "    </tr>\n",
       "    <tr>\n",
       "      <th>22</th>\n",
       "      <td>0.068920</td>\n",
       "      <td>Year</td>\n",
       "    </tr>\n",
       "    <tr>\n",
       "      <th>0</th>\n",
       "      <td>0.044914</td>\n",
       "      <td>Client_ID</td>\n",
       "    </tr>\n",
       "    <tr>\n",
       "      <th>19</th>\n",
       "      <td>0.042808</td>\n",
       "      <td>n(Additional_Loans)_Pre6Months</td>\n",
       "    </tr>\n",
       "    <tr>\n",
       "      <th>16</th>\n",
       "      <td>0.029431</td>\n",
       "      <td>LO_Active_Employee_Prior3Months</td>\n",
       "    </tr>\n",
       "    <tr>\n",
       "      <th>14</th>\n",
       "      <td>0.021491</td>\n",
       "      <td>n(Additional_Loans)_Post6Months</td>\n",
       "    </tr>\n",
       "    <tr>\n",
       "      <th>13</th>\n",
       "      <td>0.016828</td>\n",
       "      <td>n(Additional_Loans)_Post3Months</td>\n",
       "    </tr>\n",
       "    <tr>\n",
       "      <th>15</th>\n",
       "      <td>0.015511</td>\n",
       "      <td>Total_Accumulated_Interest_per_Client</td>\n",
       "    </tr>\n",
       "    <tr>\n",
       "      <th>8</th>\n",
       "      <td>0.014218</td>\n",
       "      <td>n(Months)_LO_Active_Employee</td>\n",
       "    </tr>\n",
       "    <tr>\n",
       "      <th>18</th>\n",
       "      <td>0.014082</td>\n",
       "      <td>n(Additional_Loans)_Pre3Months</td>\n",
       "    </tr>\n",
       "    <tr>\n",
       "      <th>7</th>\n",
       "      <td>0.013273</td>\n",
       "      <td>n(Months)_Client_Relationship</td>\n",
       "    </tr>\n",
       "    <tr>\n",
       "      <th>5</th>\n",
       "      <td>0.013159</td>\n",
       "      <td>Amount_Last_Disbursement</td>\n",
       "    </tr>\n",
       "    <tr>\n",
       "      <th>6</th>\n",
       "      <td>0.012682</td>\n",
       "      <td>n(Months)_Since_Last_Disbursement</td>\n",
       "    </tr>\n",
       "    <tr>\n",
       "      <th>2</th>\n",
       "      <td>0.010145</td>\n",
       "      <td>Client_Age_Years</td>\n",
       "    </tr>\n",
       "    <tr>\n",
       "      <th>12</th>\n",
       "      <td>0.004476</td>\n",
       "      <td>n(Loans)_Outstanding_Other</td>\n",
       "    </tr>\n",
       "    <tr>\n",
       "      <th>21</th>\n",
       "      <td>0.004309</td>\n",
       "      <td>n(Months)_Change_LO</td>\n",
       "    </tr>\n",
       "    <tr>\n",
       "      <th>1</th>\n",
       "      <td>0.002631</td>\n",
       "      <td>Resident_Capital</td>\n",
       "    </tr>\n",
       "    <tr>\n",
       "      <th>11</th>\n",
       "      <td>0.002281</td>\n",
       "      <td>n(Loans)_Outstanding_Maynas</td>\n",
       "    </tr>\n",
       "    <tr>\n",
       "      <th>4</th>\n",
       "      <td>0.001718</td>\n",
       "      <td>Client_Married</td>\n",
       "    </tr>\n",
       "    <tr>\n",
       "      <th>20</th>\n",
       "      <td>0.001700</td>\n",
       "      <td>LO_Changed</td>\n",
       "    </tr>\n",
       "    <tr>\n",
       "      <th>3</th>\n",
       "      <td>0.001542</td>\n",
       "      <td>Client_Sex</td>\n",
       "    </tr>\n",
       "  </tbody>\n",
       "</table>\n",
       "</div>"
      ],
      "text/plain": [
       "    importance                                feature\n",
       "9     0.329840         LO_Active_Employee_Post3Months\n",
       "23    0.139761                                  Month\n",
       "10    0.098888         LO_Active_Employee_Post6Months\n",
       "17    0.095390        LO_Active_Employee_Prior6Months\n",
       "22    0.068920                                   Year\n",
       "0     0.044914                              Client_ID\n",
       "19    0.042808         n(Additional_Loans)_Pre6Months\n",
       "16    0.029431        LO_Active_Employee_Prior3Months\n",
       "14    0.021491        n(Additional_Loans)_Post6Months\n",
       "13    0.016828        n(Additional_Loans)_Post3Months\n",
       "15    0.015511  Total_Accumulated_Interest_per_Client\n",
       "8     0.014218           n(Months)_LO_Active_Employee\n",
       "18    0.014082         n(Additional_Loans)_Pre3Months\n",
       "7     0.013273          n(Months)_Client_Relationship\n",
       "5     0.013159               Amount_Last_Disbursement\n",
       "6     0.012682      n(Months)_Since_Last_Disbursement\n",
       "2     0.010145                       Client_Age_Years\n",
       "12    0.004476             n(Loans)_Outstanding_Other\n",
       "21    0.004309                    n(Months)_Change_LO\n",
       "1     0.002631                       Resident_Capital\n",
       "11    0.002281            n(Loans)_Outstanding_Maynas\n",
       "4     0.001718                         Client_Married\n",
       "20    0.001700                             LO_Changed\n",
       "3     0.001542                             Client_Sex"
      ]
     },
     "execution_count": 59,
     "metadata": {},
     "output_type": "execute_result"
    }
   ],
   "source": [
    "pd.DataFrame({'importance': model_RF.feature_importances_, 'feature': X_train.columns}).\\\n",
    "sort_values('importance', ascending=False)"
   ]
  },
  {
   "cell_type": "markdown",
   "metadata": {},
   "source": [
    "#### Interpretation\n",
    "* Clearly: relationship between customers and advisors (here: \"Loan Officers\", or \"LO\") matters! If the LO has left prior to (or after) the cutoff date will determining for likelihood if customer  will have left (or not) the Savings Bank 3 months later. If LO leave after 3 months, likelihood that clients will also leave is higher than in LO leave 6 months later.  \n",
    "* It's interesting to see that time variables also play a relatively important role for predicting churn. Given the relative importance of the features \"month\" and \"year\", it can be expected that churn has a seasonality component (indicating that time series analysis could lead to additional insights).\n",
    "* Financial aspects, such as number of additional loans or outstanding amounts with the Savings Bank do not contribute to estimating likelihood of the customer leaving the Savings Bank 3 months later.\n",
    "* It doesn't make sense that Client ID ranks so high...most probably, this has to do with duplicates which have not been extracted yet."
   ]
  },
  {
   "cell_type": "markdown",
   "metadata": {
    "id": "bCvoiZbDhp6d"
   },
   "source": [
    "##### Feature importance based on feature permutation (based on https://scikit-learn.org/stable/auto_examples/ensemble/plot_forest_importances.html)"
   ]
  },
  {
   "cell_type": "code",
   "execution_count": 60,
   "metadata": {
    "id": "ZGIEiyZnhp6d"
   },
   "outputs": [],
   "source": [
    "result = permutation_importance(\n",
    "    model_RF, X_val, y_val, n_repeats=10, random_state=42, n_jobs=2)\n",
    "\n",
    "model_RF_importances = pd.Series(result.importances_mean, index=feature_names)\n",
    "\n",
    "importances = model_RF.feature_importances_\n",
    "std = np.std([\n",
    "    tree.feature_importances_ for tree in model_RF.estimators_], axis=0)"
   ]
  },
  {
   "cell_type": "code",
   "execution_count": 61,
   "metadata": {
    "colab": {
     "base_uri": "https://localhost:8080/",
     "height": 297
    },
    "id": "WkECdkgvhp6d",
    "outputId": "1c0b7b1c-82ab-4477-af4f-6db250e370d8"
   },
   "outputs": [
    {
     "data": {
      "image/png": "[encoded data removed]",
      "text/plain": [
       "<Figure size 432x288 with 1 Axes>"
      ]
     },
     "metadata": {
      "needs_background": "light"
     },
     "output_type": "display_data"
    }
   ],
   "source": [
    "fig, ax = plt.subplots()\n",
    "model_RF_importances.plot.bar(yerr=result.importances_std, ax=ax)\n",
    "ax.set_title(\"Feature importance using permutation\")\n",
    "ax.set_ylabel(\"Mean accuracy decrease\")\n",
    "fig.tight_layout()\n",
    "plt.show()"
   ]
  },
  {
   "cell_type": "code",
   "execution_count": 62,
   "metadata": {
    "colab": {
     "base_uri": "https://localhost:8080/",
     "height": 788
    },
    "id": "6MtgYkdWhp6d",
    "outputId": "a21f4ae3-d87d-4e62-b8ae-eb1b81abee7d"
   },
   "outputs": [
    {
     "data": {
      "text/html": [
       "<div>\n",
       "<style scoped>\n",
       "    .dataframe tbody tr th:only-of-type {\n",
       "        vertical-align: middle;\n",
       "    }\n",
       "\n",
       "    .dataframe tbody tr th {\n",
       "        vertical-align: top;\n",
       "    }\n",
       "\n",
       "    .dataframe thead th {\n",
       "        text-align: right;\n",
       "    }\n",
       "</style>\n",
       "<table border=\"1\" class=\"dataframe\">\n",
       "  <thead>\n",
       "    <tr style=\"text-align: right;\">\n",
       "      <th></th>\n",
       "      <th>importance</th>\n",
       "      <th>feature</th>\n",
       "    </tr>\n",
       "  </thead>\n",
       "  <tbody>\n",
       "    <tr>\n",
       "      <th>feature 9</th>\n",
       "      <td>0.172706</td>\n",
       "      <td>LO_Active_Employee_Post3Months</td>\n",
       "    </tr>\n",
       "    <tr>\n",
       "      <th>feature 17</th>\n",
       "      <td>0.086411</td>\n",
       "      <td>LO_Active_Employee_Prior6Months</td>\n",
       "    </tr>\n",
       "    <tr>\n",
       "      <th>feature 10</th>\n",
       "      <td>0.086063</td>\n",
       "      <td>LO_Active_Employee_Post6Months</td>\n",
       "    </tr>\n",
       "    <tr>\n",
       "      <th>feature 23</th>\n",
       "      <td>0.040302</td>\n",
       "      <td>Month</td>\n",
       "    </tr>\n",
       "    <tr>\n",
       "      <th>feature 19</th>\n",
       "      <td>0.034959</td>\n",
       "      <td>n(Additional_Loans)_Pre6Months</td>\n",
       "    </tr>\n",
       "    <tr>\n",
       "      <th>feature 14</th>\n",
       "      <td>0.026365</td>\n",
       "      <td>n(Additional_Loans)_Post6Months</td>\n",
       "    </tr>\n",
       "    <tr>\n",
       "      <th>feature 22</th>\n",
       "      <td>0.009756</td>\n",
       "      <td>Year</td>\n",
       "    </tr>\n",
       "    <tr>\n",
       "      <th>feature 16</th>\n",
       "      <td>0.002671</td>\n",
       "      <td>LO_Active_Employee_Prior3Months</td>\n",
       "    </tr>\n",
       "    <tr>\n",
       "      <th>feature 0</th>\n",
       "      <td>0.002671</td>\n",
       "      <td>Client_ID</td>\n",
       "    </tr>\n",
       "    <tr>\n",
       "      <th>feature 21</th>\n",
       "      <td>0.001394</td>\n",
       "      <td>n(Months)_Change_LO</td>\n",
       "    </tr>\n",
       "    <tr>\n",
       "      <th>feature 13</th>\n",
       "      <td>0.001045</td>\n",
       "      <td>n(Additional_Loans)_Post3Months</td>\n",
       "    </tr>\n",
       "    <tr>\n",
       "      <th>feature 8</th>\n",
       "      <td>0.001045</td>\n",
       "      <td>n(Months)_LO_Active_Employee</td>\n",
       "    </tr>\n",
       "    <tr>\n",
       "      <th>feature 1</th>\n",
       "      <td>0.000929</td>\n",
       "      <td>Resident_Capital</td>\n",
       "    </tr>\n",
       "    <tr>\n",
       "      <th>feature 7</th>\n",
       "      <td>0.000697</td>\n",
       "      <td>n(Months)_Client_Relationship</td>\n",
       "    </tr>\n",
       "    <tr>\n",
       "      <th>feature 5</th>\n",
       "      <td>0.000232</td>\n",
       "      <td>Amount_Last_Disbursement</td>\n",
       "    </tr>\n",
       "    <tr>\n",
       "      <th>feature 20</th>\n",
       "      <td>0.000116</td>\n",
       "      <td>LO_Changed</td>\n",
       "    </tr>\n",
       "    <tr>\n",
       "      <th>feature 11</th>\n",
       "      <td>-0.000116</td>\n",
       "      <td>n(Loans)_Outstanding_Maynas</td>\n",
       "    </tr>\n",
       "    <tr>\n",
       "      <th>feature 6</th>\n",
       "      <td>-0.000116</td>\n",
       "      <td>n(Months)_Since_Last_Disbursement</td>\n",
       "    </tr>\n",
       "    <tr>\n",
       "      <th>feature 4</th>\n",
       "      <td>-0.000116</td>\n",
       "      <td>Client_Married</td>\n",
       "    </tr>\n",
       "    <tr>\n",
       "      <th>feature 3</th>\n",
       "      <td>-0.000116</td>\n",
       "      <td>Client_Sex</td>\n",
       "    </tr>\n",
       "    <tr>\n",
       "      <th>feature 18</th>\n",
       "      <td>-0.000465</td>\n",
       "      <td>n(Additional_Loans)_Pre3Months</td>\n",
       "    </tr>\n",
       "    <tr>\n",
       "      <th>feature 2</th>\n",
       "      <td>-0.000813</td>\n",
       "      <td>Client_Age_Years</td>\n",
       "    </tr>\n",
       "    <tr>\n",
       "      <th>feature 15</th>\n",
       "      <td>-0.001278</td>\n",
       "      <td>Total_Accumulated_Interest_per_Client</td>\n",
       "    </tr>\n",
       "    <tr>\n",
       "      <th>feature 12</th>\n",
       "      <td>-0.001858</td>\n",
       "      <td>n(Loans)_Outstanding_Other</td>\n",
       "    </tr>\n",
       "  </tbody>\n",
       "</table>\n",
       "</div>"
      ],
      "text/plain": [
       "            importance                                feature\n",
       "feature 9     0.172706         LO_Active_Employee_Post3Months\n",
       "feature 17    0.086411        LO_Active_Employee_Prior6Months\n",
       "feature 10    0.086063         LO_Active_Employee_Post6Months\n",
       "feature 23    0.040302                                  Month\n",
       "feature 19    0.034959         n(Additional_Loans)_Pre6Months\n",
       "feature 14    0.026365        n(Additional_Loans)_Post6Months\n",
       "feature 22    0.009756                                   Year\n",
       "feature 16    0.002671        LO_Active_Employee_Prior3Months\n",
       "feature 0     0.002671                              Client_ID\n",
       "feature 21    0.001394                    n(Months)_Change_LO\n",
       "feature 13    0.001045        n(Additional_Loans)_Post3Months\n",
       "feature 8     0.001045           n(Months)_LO_Active_Employee\n",
       "feature 1     0.000929                       Resident_Capital\n",
       "feature 7     0.000697          n(Months)_Client_Relationship\n",
       "feature 5     0.000232               Amount_Last_Disbursement\n",
       "feature 20    0.000116                             LO_Changed\n",
       "feature 11   -0.000116            n(Loans)_Outstanding_Maynas\n",
       "feature 6    -0.000116      n(Months)_Since_Last_Disbursement\n",
       "feature 4    -0.000116                         Client_Married\n",
       "feature 3    -0.000116                             Client_Sex\n",
       "feature 18   -0.000465         n(Additional_Loans)_Pre3Months\n",
       "feature 2    -0.000813                       Client_Age_Years\n",
       "feature 15   -0.001278  Total_Accumulated_Interest_per_Client\n",
       "feature 12   -0.001858             n(Loans)_Outstanding_Other"
      ]
     },
     "execution_count": 62,
     "metadata": {},
     "output_type": "execute_result"
    }
   ],
   "source": [
    "pd.DataFrame({'importance': model_RF_importances, 'feature': X_train.columns}).\\\n",
    "sort_values('importance', ascending=False)"
   ]
  },
  {
   "cell_type": "markdown",
   "metadata": {},
   "source": [
    "#### Interpretation\n",
    "* Similar results to above: if LO leaves after 3/6 months, likelihood that client will churn will be relatively high. Note also importance of timestamps for predicting churn.  "
   ]
  }
 ],
 "metadata": {
  "colab": {
   "collapsed_sections": [
    "gHC3XVYchp6d"
   ],
   "name": "Customer_Churn_SavingsBank_AllFeatures_long.ipynb",
   "provenance": []
  },
  "interpreter": {
   "hash": "811835dbfa265bda541e5728bad37389c3435c72610e344bad1bc057db90fb2d"
  },
  "kernelspec": {
   "display_name": "Python 3.9.5 64-bit ('customer_churn_CajaMaynas': conda)",
   "name": "python3"
  },
  "language_info": {
   "codemirror_mode": {
    "name": "ipython",
    "version": 3
   },
   "file_extension": ".py",
   "mimetype": "text/x-python",
   "name": "python",
   "nbconvert_exporter": "python",
   "pygments_lexer": "ipython3",
   "version": "3.9.5"
  }
 },
 "nbformat": 4,
 "nbformat_minor": 1
}
